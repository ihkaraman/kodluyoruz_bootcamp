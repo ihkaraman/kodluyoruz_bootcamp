{
 "cells": [
  {
   "cell_type": "code",
   "execution_count": 1,
   "metadata": {},
   "outputs": [],
   "source": [
    "import numpy as np\n",
    "import pandas as pd \n",
    "import statsmodels.api as sm\n",
    "import statsmodels.formula.api as smf\n",
    "import seaborn as sns\n",
    "from sklearn.preprocessing import scale \n",
    "from sklearn.model_selection import train_test_split, GridSearchCV, cross_val_score\n",
    "from sklearn.metrics import confusion_matrix, accuracy_score, classification_report\n",
    "from sklearn.metrics import roc_auc_score,roc_curve\n",
    "import statsmodels.formula.api as smf\n",
    "import matplotlib.pyplot as plt\n",
    "from sklearn.neighbors import KNeighborsClassifier\n",
    "from sklearn.discriminant_analysis import LinearDiscriminantAnalysis\n",
    "from sklearn.linear_model import LogisticRegression\n",
    "from sklearn.svm import SVC\n",
    "from sklearn.naive_bayes import GaussianNB\n",
    "from sklearn import tree\n",
    "from sklearn.ensemble import RandomForestClassifier\n",
    "from sklearn.ensemble import GradientBoostingClassifier\n",
    "from xgboost import XGBClassifier\n",
    "from lightgbm import LGBMClassifier\n",
    "from catboost import CatBoostClassifier  "
   ]
  },
  {
   "cell_type": "code",
   "execution_count": 2,
   "metadata": {},
   "outputs": [
    {
     "data": {
      "text/html": [
       "<div>\n",
       "<style scoped>\n",
       "    .dataframe tbody tr th:only-of-type {\n",
       "        vertical-align: middle;\n",
       "    }\n",
       "\n",
       "    .dataframe tbody tr th {\n",
       "        vertical-align: top;\n",
       "    }\n",
       "\n",
       "    .dataframe thead th {\n",
       "        text-align: right;\n",
       "    }\n",
       "</style>\n",
       "<table border=\"1\" class=\"dataframe\">\n",
       "  <thead>\n",
       "    <tr style=\"text-align: right;\">\n",
       "      <th></th>\n",
       "      <th>bad</th>\n",
       "      <th>loan</th>\n",
       "      <th>mortdue</th>\n",
       "      <th>value</th>\n",
       "      <th>reason</th>\n",
       "      <th>job</th>\n",
       "      <th>yoj</th>\n",
       "      <th>derog</th>\n",
       "      <th>delinq</th>\n",
       "      <th>clage</th>\n",
       "      <th>ninq</th>\n",
       "      <th>clno</th>\n",
       "      <th>debtinc</th>\n",
       "    </tr>\n",
       "  </thead>\n",
       "  <tbody>\n",
       "    <tr>\n",
       "      <th>0</th>\n",
       "      <td>0</td>\n",
       "      <td>81200</td>\n",
       "      <td>18834.0</td>\n",
       "      <td>108355.0</td>\n",
       "      <td>HomeImp</td>\n",
       "      <td>NaN</td>\n",
       "      <td>28.0</td>\n",
       "      <td>0.0</td>\n",
       "      <td>0.0</td>\n",
       "      <td>139.14</td>\n",
       "      <td>0.0</td>\n",
       "      <td>14.0</td>\n",
       "      <td>34.042</td>\n",
       "    </tr>\n",
       "    <tr>\n",
       "      <th>1</th>\n",
       "      <td>0</td>\n",
       "      <td>12600</td>\n",
       "      <td>103960.0</td>\n",
       "      <td>127384.0</td>\n",
       "      <td>DebtCon</td>\n",
       "      <td>NaN</td>\n",
       "      <td>2.0</td>\n",
       "      <td>0.0</td>\n",
       "      <td>0.0</td>\n",
       "      <td>129.02</td>\n",
       "      <td>0.0</td>\n",
       "      <td>25.0</td>\n",
       "      <td>34.479</td>\n",
       "    </tr>\n",
       "    <tr>\n",
       "      <th>2</th>\n",
       "      <td>0</td>\n",
       "      <td>18000</td>\n",
       "      <td>46865.0</td>\n",
       "      <td>61266.0</td>\n",
       "      <td>DebtCon</td>\n",
       "      <td>NaN</td>\n",
       "      <td>5.0</td>\n",
       "      <td>0.0</td>\n",
       "      <td>0.0</td>\n",
       "      <td>102.59</td>\n",
       "      <td>2.0</td>\n",
       "      <td>9.0</td>\n",
       "      <td>26.354</td>\n",
       "    </tr>\n",
       "    <tr>\n",
       "      <th>3</th>\n",
       "      <td>0</td>\n",
       "      <td>10300</td>\n",
       "      <td>57676.0</td>\n",
       "      <td>71027.0</td>\n",
       "      <td>DebtCon</td>\n",
       "      <td>NaN</td>\n",
       "      <td>19.0</td>\n",
       "      <td>0.0</td>\n",
       "      <td>0.0</td>\n",
       "      <td>157.52</td>\n",
       "      <td>1.0</td>\n",
       "      <td>11.0</td>\n",
       "      <td>33.992</td>\n",
       "    </tr>\n",
       "    <tr>\n",
       "      <th>4</th>\n",
       "      <td>0</td>\n",
       "      <td>9400</td>\n",
       "      <td>56508.0</td>\n",
       "      <td>78358.0</td>\n",
       "      <td>DebtCon</td>\n",
       "      <td>NaN</td>\n",
       "      <td>17.0</td>\n",
       "      <td>0.0</td>\n",
       "      <td>0.0</td>\n",
       "      <td>141.93</td>\n",
       "      <td>0.0</td>\n",
       "      <td>11.0</td>\n",
       "      <td>32.327</td>\n",
       "    </tr>\n",
       "  </tbody>\n",
       "</table>\n",
       "</div>"
      ],
      "text/plain": [
       "   bad   loan   mortdue     value   reason  job   yoj  derog  delinq   clage  \\\n",
       "0    0  81200   18834.0  108355.0  HomeImp  NaN  28.0    0.0     0.0  139.14   \n",
       "1    0  12600  103960.0  127384.0  DebtCon  NaN   2.0    0.0     0.0  129.02   \n",
       "2    0  18000   46865.0   61266.0  DebtCon  NaN   5.0    0.0     0.0  102.59   \n",
       "3    0  10300   57676.0   71027.0  DebtCon  NaN  19.0    0.0     0.0  157.52   \n",
       "4    0   9400   56508.0   78358.0  DebtCon  NaN  17.0    0.0     0.0  141.93   \n",
       "\n",
       "   ninq  clno  debtinc  \n",
       "0   0.0  14.0   34.042  \n",
       "1   0.0  25.0   34.479  \n",
       "2   2.0   9.0   26.354  \n",
       "3   1.0  11.0   33.992  \n",
       "4   0.0  11.0   32.327  "
      ]
     },
     "execution_count": 2,
     "metadata": {},
     "output_type": "execute_result"
    }
   ],
   "source": [
    "data = pd.read_csv(\"hmelq.csv\")\n",
    "data.head()"
   ]
  },
  {
   "cell_type": "code",
   "execution_count": 3,
   "metadata": {},
   "outputs": [
    {
     "name": "stdout",
     "output_type": "stream",
     "text": [
      "<class 'pandas.core.frame.DataFrame'>\n",
      "RangeIndex: 3576 entries, 0 to 3575\n",
      "Data columns (total 13 columns):\n",
      "bad        3576 non-null int64\n",
      "loan       3576 non-null int64\n",
      "mortdue    3262 non-null float64\n",
      "value      3512 non-null float64\n",
      "reason     3429 non-null object\n",
      "job        3409 non-null object\n",
      "yoj        3264 non-null float64\n",
      "derog      3149 non-null float64\n",
      "delinq     3225 non-null float64\n",
      "clage      3397 non-null float64\n",
      "ninq       3273 non-null float64\n",
      "clno       3443 non-null float64\n",
      "debtinc    2809 non-null float64\n",
      "dtypes: float64(9), int64(2), object(2)\n",
      "memory usage: 363.3+ KB\n"
     ]
    }
   ],
   "source": [
    "data.info()"
   ]
  },
  {
   "cell_type": "code",
   "execution_count": 4,
   "metadata": {},
   "outputs": [
    {
     "data": {
      "text/html": [
       "<div>\n",
       "<style scoped>\n",
       "    .dataframe tbody tr th:only-of-type {\n",
       "        vertical-align: middle;\n",
       "    }\n",
       "\n",
       "    .dataframe tbody tr th {\n",
       "        vertical-align: top;\n",
       "    }\n",
       "\n",
       "    .dataframe thead th {\n",
       "        text-align: right;\n",
       "    }\n",
       "</style>\n",
       "<table border=\"1\" class=\"dataframe\">\n",
       "  <thead>\n",
       "    <tr style=\"text-align: right;\">\n",
       "      <th></th>\n",
       "      <th>bad</th>\n",
       "      <th>loan</th>\n",
       "      <th>mortdue</th>\n",
       "      <th>value</th>\n",
       "      <th>yoj</th>\n",
       "      <th>derog</th>\n",
       "      <th>delinq</th>\n",
       "      <th>clage</th>\n",
       "      <th>ninq</th>\n",
       "      <th>clno</th>\n",
       "      <th>debtinc</th>\n",
       "    </tr>\n",
       "  </thead>\n",
       "  <tbody>\n",
       "    <tr>\n",
       "      <th>count</th>\n",
       "      <td>2018.000000</td>\n",
       "      <td>2018.000000</td>\n",
       "      <td>2018.000000</td>\n",
       "      <td>2018.000000</td>\n",
       "      <td>2018.000000</td>\n",
       "      <td>2018.000000</td>\n",
       "      <td>2018.000000</td>\n",
       "      <td>2018.000000</td>\n",
       "      <td>2018.000000</td>\n",
       "      <td>2018.000000</td>\n",
       "      <td>2018.000000</td>\n",
       "    </tr>\n",
       "    <tr>\n",
       "      <th>mean</th>\n",
       "      <td>0.088206</td>\n",
       "      <td>19010.257681</td>\n",
       "      <td>76337.035183</td>\n",
       "      <td>106899.244797</td>\n",
       "      <td>9.003964</td>\n",
       "      <td>0.150149</td>\n",
       "      <td>0.264123</td>\n",
       "      <td>180.645020</td>\n",
       "      <td>1.037661</td>\n",
       "      <td>22.265114</td>\n",
       "      <td>34.105829</td>\n",
       "    </tr>\n",
       "    <tr>\n",
       "      <th>std</th>\n",
       "      <td>0.283665</td>\n",
       "      <td>10768.607345</td>\n",
       "      <td>44476.368189</td>\n",
       "      <td>54026.707096</td>\n",
       "      <td>7.573012</td>\n",
       "      <td>0.580421</td>\n",
       "      <td>0.789816</td>\n",
       "      <td>84.420116</td>\n",
       "      <td>1.578414</td>\n",
       "      <td>9.457238</td>\n",
       "      <td>8.438411</td>\n",
       "    </tr>\n",
       "    <tr>\n",
       "      <th>min</th>\n",
       "      <td>0.000000</td>\n",
       "      <td>1700.000000</td>\n",
       "      <td>5076.000000</td>\n",
       "      <td>23031.000000</td>\n",
       "      <td>0.000000</td>\n",
       "      <td>0.000000</td>\n",
       "      <td>0.000000</td>\n",
       "      <td>0.490000</td>\n",
       "      <td>0.000000</td>\n",
       "      <td>0.000000</td>\n",
       "      <td>4.030000</td>\n",
       "    </tr>\n",
       "    <tr>\n",
       "      <th>25%</th>\n",
       "      <td>0.000000</td>\n",
       "      <td>12000.000000</td>\n",
       "      <td>49577.250000</td>\n",
       "      <td>71287.250000</td>\n",
       "      <td>3.000000</td>\n",
       "      <td>0.000000</td>\n",
       "      <td>0.000000</td>\n",
       "      <td>118.205000</td>\n",
       "      <td>0.000000</td>\n",
       "      <td>16.000000</td>\n",
       "      <td>29.295500</td>\n",
       "    </tr>\n",
       "    <tr>\n",
       "      <th>50%</th>\n",
       "      <td>0.000000</td>\n",
       "      <td>16900.000000</td>\n",
       "      <td>67595.000000</td>\n",
       "      <td>94514.000000</td>\n",
       "      <td>7.000000</td>\n",
       "      <td>0.000000</td>\n",
       "      <td>0.000000</td>\n",
       "      <td>176.670000</td>\n",
       "      <td>0.000000</td>\n",
       "      <td>21.000000</td>\n",
       "      <td>34.949000</td>\n",
       "    </tr>\n",
       "    <tr>\n",
       "      <th>75%</th>\n",
       "      <td>0.000000</td>\n",
       "      <td>23600.000000</td>\n",
       "      <td>92922.750000</td>\n",
       "      <td>121220.750000</td>\n",
       "      <td>13.000000</td>\n",
       "      <td>0.000000</td>\n",
       "      <td>0.000000</td>\n",
       "      <td>229.692500</td>\n",
       "      <td>2.000000</td>\n",
       "      <td>27.000000</td>\n",
       "      <td>38.952000</td>\n",
       "    </tr>\n",
       "    <tr>\n",
       "      <th>max</th>\n",
       "      <td>1.000000</td>\n",
       "      <td>89900.000000</td>\n",
       "      <td>399412.000000</td>\n",
       "      <td>512650.000000</td>\n",
       "      <td>41.000000</td>\n",
       "      <td>10.000000</td>\n",
       "      <td>10.000000</td>\n",
       "      <td>1168.230000</td>\n",
       "      <td>13.000000</td>\n",
       "      <td>64.000000</td>\n",
       "      <td>144.189000</td>\n",
       "    </tr>\n",
       "  </tbody>\n",
       "</table>\n",
       "</div>"
      ],
      "text/plain": [
       "               bad          loan        mortdue          value          yoj  \\\n",
       "count  2018.000000   2018.000000    2018.000000    2018.000000  2018.000000   \n",
       "mean      0.088206  19010.257681   76337.035183  106899.244797     9.003964   \n",
       "std       0.283665  10768.607345   44476.368189   54026.707096     7.573012   \n",
       "min       0.000000   1700.000000    5076.000000   23031.000000     0.000000   \n",
       "25%       0.000000  12000.000000   49577.250000   71287.250000     3.000000   \n",
       "50%       0.000000  16900.000000   67595.000000   94514.000000     7.000000   \n",
       "75%       0.000000  23600.000000   92922.750000  121220.750000    13.000000   \n",
       "max       1.000000  89900.000000  399412.000000  512650.000000    41.000000   \n",
       "\n",
       "             derog       delinq        clage         ninq         clno  \\\n",
       "count  2018.000000  2018.000000  2018.000000  2018.000000  2018.000000   \n",
       "mean      0.150149     0.264123   180.645020     1.037661    22.265114   \n",
       "std       0.580421     0.789816    84.420116     1.578414     9.457238   \n",
       "min       0.000000     0.000000     0.490000     0.000000     0.000000   \n",
       "25%       0.000000     0.000000   118.205000     0.000000    16.000000   \n",
       "50%       0.000000     0.000000   176.670000     0.000000    21.000000   \n",
       "75%       0.000000     0.000000   229.692500     2.000000    27.000000   \n",
       "max      10.000000    10.000000  1168.230000    13.000000    64.000000   \n",
       "\n",
       "           debtinc  \n",
       "count  2018.000000  \n",
       "mean     34.105829  \n",
       "std       8.438411  \n",
       "min       4.030000  \n",
       "25%      29.295500  \n",
       "50%      34.949000  \n",
       "75%      38.952000  \n",
       "max     144.189000  "
      ]
     },
     "execution_count": 4,
     "metadata": {},
     "output_type": "execute_result"
    }
   ],
   "source": [
    "data.dropna(inplace=True)\n",
    "data.describe()"
   ]
  },
  {
   "cell_type": "code",
   "execution_count": 5,
   "metadata": {},
   "outputs": [
    {
     "data": {
      "text/plain": [
       "<matplotlib.axes._subplots.AxesSubplot at 0x271f3256128>"
      ]
     },
     "execution_count": 5,
     "metadata": {},
     "output_type": "execute_result"
    },
    {
     "data": {
      "image/png": "[encoded data removed]",
      "text/plain": [
       "<Figure size 432x288 with 1 Axes>"
      ]
     },
     "metadata": {
      "needs_background": "light"
     },
     "output_type": "display_data"
    }
   ],
   "source": [
    "# counting the values of bad column\n",
    "data['bad'].value_counts().plot.bar()"
   ]
  },
  {
   "cell_type": "code",
   "execution_count": 6,
   "metadata": {},
   "outputs": [
    {
     "data": {
      "text/html": [
       "<div>\n",
       "<style scoped>\n",
       "    .dataframe tbody tr th:only-of-type {\n",
       "        vertical-align: middle;\n",
       "    }\n",
       "\n",
       "    .dataframe tbody tr th {\n",
       "        vertical-align: top;\n",
       "    }\n",
       "\n",
       "    .dataframe thead th {\n",
       "        text-align: right;\n",
       "    }\n",
       "</style>\n",
       "<table border=\"1\" class=\"dataframe\">\n",
       "  <thead>\n",
       "    <tr style=\"text-align: right;\">\n",
       "      <th></th>\n",
       "      <th>reason_DebtCon</th>\n",
       "      <th>reason_HomeImp</th>\n",
       "      <th>job_Mgr</th>\n",
       "      <th>job_Office</th>\n",
       "      <th>job_Other</th>\n",
       "      <th>job_ProfEx</th>\n",
       "      <th>job_Sales</th>\n",
       "      <th>job_Self</th>\n",
       "    </tr>\n",
       "  </thead>\n",
       "  <tbody>\n",
       "    <tr>\n",
       "      <th>153</th>\n",
       "      <td>1</td>\n",
       "      <td>0</td>\n",
       "      <td>1</td>\n",
       "      <td>0</td>\n",
       "      <td>0</td>\n",
       "      <td>0</td>\n",
       "      <td>0</td>\n",
       "      <td>0</td>\n",
       "    </tr>\n",
       "    <tr>\n",
       "      <th>154</th>\n",
       "      <td>1</td>\n",
       "      <td>0</td>\n",
       "      <td>1</td>\n",
       "      <td>0</td>\n",
       "      <td>0</td>\n",
       "      <td>0</td>\n",
       "      <td>0</td>\n",
       "      <td>0</td>\n",
       "    </tr>\n",
       "    <tr>\n",
       "      <th>155</th>\n",
       "      <td>1</td>\n",
       "      <td>0</td>\n",
       "      <td>1</td>\n",
       "      <td>0</td>\n",
       "      <td>0</td>\n",
       "      <td>0</td>\n",
       "      <td>0</td>\n",
       "      <td>0</td>\n",
       "    </tr>\n",
       "    <tr>\n",
       "      <th>156</th>\n",
       "      <td>0</td>\n",
       "      <td>1</td>\n",
       "      <td>1</td>\n",
       "      <td>0</td>\n",
       "      <td>0</td>\n",
       "      <td>0</td>\n",
       "      <td>0</td>\n",
       "      <td>0</td>\n",
       "    </tr>\n",
       "    <tr>\n",
       "      <th>157</th>\n",
       "      <td>1</td>\n",
       "      <td>0</td>\n",
       "      <td>1</td>\n",
       "      <td>0</td>\n",
       "      <td>0</td>\n",
       "      <td>0</td>\n",
       "      <td>0</td>\n",
       "      <td>0</td>\n",
       "    </tr>\n",
       "  </tbody>\n",
       "</table>\n",
       "</div>"
      ],
      "text/plain": [
       "     reason_DebtCon  reason_HomeImp  job_Mgr  job_Office  job_Other  \\\n",
       "153               1               0        1           0          0   \n",
       "154               1               0        1           0          0   \n",
       "155               1               0        1           0          0   \n",
       "156               0               1        1           0          0   \n",
       "157               1               0        1           0          0   \n",
       "\n",
       "     job_ProfEx  job_Sales  job_Self  \n",
       "153           0          0         0  \n",
       "154           0          0         0  \n",
       "155           0          0         0  \n",
       "156           0          0         0  \n",
       "157           0          0         0  "
      ]
     },
     "execution_count": 6,
     "metadata": {},
     "output_type": "execute_result"
    }
   ],
   "source": [
    "# creating dummy columns for categorical variables\n",
    "dms = pd.get_dummies(data[['reason', 'job']])\n",
    "dms.head()"
   ]
  },
  {
   "cell_type": "code",
   "execution_count": 7,
   "metadata": {},
   "outputs": [],
   "source": [
    "# dropping the categoricals and adding the dummies\n",
    "X_ = data.drop(['bad', 'reason', 'job'],axis=1)\n",
    "X = pd.concat([X_, dms[[\"reason_DebtCon\", \"job_Mgr\",\"job_Office\",\"job_ProfEx\",\"job_Sales\",\"job_Self\"]]], axis = 1)"
   ]
  },
  {
   "cell_type": "code",
   "execution_count": 8,
   "metadata": {},
   "outputs": [
    {
     "data": {
      "text/plain": [
       "((1614, 16), (1614,), (404, 16), (404,))"
      ]
     },
     "execution_count": 8,
     "metadata": {},
     "output_type": "execute_result"
    }
   ],
   "source": [
    "# splitting the data as train and test\n",
    "from sklearn.model_selection import train_test_split, cross_val_score, cross_val_predict\n",
    "y = data[\"bad\"]\n",
    "X_train, X_test, y_train, y_test = train_test_split(X, y, test_size = 0.20, random_state=42)\n",
    "X_train.shape, y_train.shape, X_test.shape, y_test.shape"
   ]
  },
  {
   "cell_type": "markdown",
   "metadata": {},
   "source": [
    "## Decision Tree Classifier"
   ]
  },
  {
   "cell_type": "code",
   "execution_count": 9,
   "metadata": {},
   "outputs": [
    {
     "data": {
      "text/plain": [
       "DecisionTreeClassifier(class_weight=None, criterion='gini', max_depth=None,\n",
       "                       max_features=None, max_leaf_nodes=None,\n",
       "                       min_impurity_decrease=0.0, min_impurity_split=None,\n",
       "                       min_samples_leaf=1, min_samples_split=2,\n",
       "                       min_weight_fraction_leaf=0.0, presort=False,\n",
       "                       random_state=None, splitter='best')"
      ]
     },
     "execution_count": 9,
     "metadata": {},
     "output_type": "execute_result"
    }
   ],
   "source": [
    "# Decision Tree Classifier\n",
    "from sklearn.tree import DecisionTreeClassifier\n",
    "cart = DecisionTreeClassifier()\n",
    "cart_model = cart.fit(X_train, y_train)\n",
    "cart_model"
   ]
  },
  {
   "cell_type": "code",
   "execution_count": 10,
   "metadata": {},
   "outputs": [
    {
     "data": {
      "text/plain": [
       "0.9356435643564357"
      ]
     },
     "execution_count": 10,
     "metadata": {},
     "output_type": "execute_result"
    }
   ],
   "source": [
    "# accuracy of the model\n",
    "y_pred = cart_model.predict(X_test)\n",
    "accuracy_score(y_test, y_pred)"
   ]
  },
  {
   "cell_type": "code",
   "execution_count": 11,
   "metadata": {},
   "outputs": [
    {
     "name": "stdout",
     "output_type": "stream",
     "text": [
      "Fitting 10 folds for each of 432 candidates, totalling 4320 fits\n"
     ]
    },
    {
     "name": "stderr",
     "output_type": "stream",
     "text": [
      "[Parallel(n_jobs=-1)]: Using backend LokyBackend with 8 concurrent workers.\n",
      "[Parallel(n_jobs=-1)]: Done  25 tasks      | elapsed:    3.0s\n",
      "[Parallel(n_jobs=-1)]: Done 2006 tasks      | elapsed:    6.7s\n",
      "[Parallel(n_jobs=-1)]: Done 4320 out of 4320 | elapsed:   12.0s finished\n"
     ]
    }
   ],
   "source": [
    "# cross validation for our model\n",
    "cart_grid = {\"max_depth\":range(1,10), \"min_samples_split\":list(range(2,50))}\n",
    "cart_cv = GridSearchCV(cart, cart_grid, cv=10, n_jobs =-1, verbose = 2)\n",
    "cart_cv_model = cart_cv.fit(X_train, y_train)"
   ]
  },
  {
   "cell_type": "code",
   "execution_count": 12,
   "metadata": {},
   "outputs": [
    {
     "name": "stdout",
     "output_type": "stream",
     "text": [
      "Best parameters : {'max_depth': 9, 'min_samples_split': 3}\n"
     ]
    }
   ],
   "source": [
    "print('Best parameters : ' + str(cart_cv_model.best_params_))"
   ]
  },
  {
   "cell_type": "code",
   "execution_count": 27,
   "metadata": {},
   "outputs": [
    {
     "data": {
      "text/plain": [
       "0.9504950495049505"
      ]
     },
     "execution_count": 27,
     "metadata": {},
     "output_type": "execute_result"
    }
   ],
   "source": [
    "# cross validation ile bulunan en iyi parametrelerle yeni bir model kurulması. Bu parametrelerle en iyi sonuç alınacaktır.\n",
    "cart = DecisionTreeClassifier(max_depth = 9, min_samples_split=3)\n",
    "cart_tuned = cart.fit(X_train, y_train)\n",
    "y_pred = cart_tuned.predict(X_test)\n",
    "accuracy_score(y_test, y_pred)\n",
    "# accuracy increased from 0.93 to 0.95"
   ]
  },
  {
   "cell_type": "code",
   "execution_count": 28,
   "metadata": {},
   "outputs": [
    {
     "name": "stdout",
     "output_type": "stream",
     "text": [
      "              precision    recall  f1-score   support\n",
      "\n",
      "           0       0.95      1.00      0.97       369\n",
      "           1       0.94      0.46      0.62        35\n",
      "\n",
      "    accuracy                           0.95       404\n",
      "   macro avg       0.95      0.73      0.79       404\n",
      "weighted avg       0.95      0.95      0.94       404\n",
      "\n"
     ]
    }
   ],
   "source": [
    "# classification report\n",
    "print(classification_report(y_test, y_pred))\n",
    "# our model predicts 0s well in spite of 1's. Because in our data number of 0s are much more than 1s"
   ]
  },
  {
   "cell_type": "markdown",
   "metadata": {},
   "source": [
    "## Random Forrest Classifier"
   ]
  },
  {
   "cell_type": "code",
   "execution_count": 15,
   "metadata": {},
   "outputs": [
    {
     "name": "stderr",
     "output_type": "stream",
     "text": [
      "C:\\Users\\ihkar\\Anaconda3\\lib\\site-packages\\sklearn\\ensemble\\forest.py:245: FutureWarning: The default value of n_estimators will change from 10 in version 0.20 to 100 in 0.22.\n",
      "  \"10 in version 0.20 to 100 in 0.22.\", FutureWarning)\n"
     ]
    },
    {
     "data": {
      "text/plain": [
       "RandomForestClassifier(bootstrap=True, class_weight=None, criterion='gini',\n",
       "                       max_depth=None, max_features='auto', max_leaf_nodes=None,\n",
       "                       min_impurity_decrease=0.0, min_impurity_split=None,\n",
       "                       min_samples_leaf=1, min_samples_split=2,\n",
       "                       min_weight_fraction_leaf=0.0, n_estimators=10,\n",
       "                       n_jobs=None, oob_score=False, random_state=None,\n",
       "                       verbose=0, warm_start=False)"
      ]
     },
     "execution_count": 15,
     "metadata": {},
     "output_type": "execute_result"
    }
   ],
   "source": [
    "from sklearn.ensemble import RandomForestClassifier\n",
    "rf_model = RandomForestClassifier().fit(X_train, y_train)\n",
    "rf_model"
   ]
  },
  {
   "cell_type": "code",
   "execution_count": 16,
   "metadata": {},
   "outputs": [
    {
     "data": {
      "text/plain": [
       "0.9504950495049505"
      ]
     },
     "execution_count": 16,
     "metadata": {},
     "output_type": "execute_result"
    }
   ],
   "source": [
    "y_pred = rf_model.predict(X_test)\n",
    "accuracy_score(y_test,y_pred)"
   ]
  },
  {
   "cell_type": "code",
   "execution_count": 17,
   "metadata": {},
   "outputs": [
    {
     "name": "stdout",
     "output_type": "stream",
     "text": [
      "Fitting 10 folds for each of 108 candidates, totalling 1080 fits\n"
     ]
    },
    {
     "name": "stderr",
     "output_type": "stream",
     "text": [
      "[Parallel(n_jobs=-1)]: Using backend LokyBackend with 8 concurrent workers.\n",
      "[Parallel(n_jobs=-1)]: Done   2 tasks      | elapsed:    0.0s\n",
      "[Parallel(n_jobs=-1)]: Done 175 tasks      | elapsed:   20.1s\n",
      "[Parallel(n_jobs=-1)]: Done 265 tasks      | elapsed:   32.7s\n",
      "[Parallel(n_jobs=-1)]: Done 391 tasks      | elapsed:   49.7s\n",
      "[Parallel(n_jobs=-1)]: Done 553 tasks      | elapsed:  1.4min\n",
      "[Parallel(n_jobs=-1)]: Done 751 tasks      | elapsed:  2.2min\n",
      "[Parallel(n_jobs=-1)]: Done 985 tasks      | elapsed:  3.1min\n",
      "[Parallel(n_jobs=-1)]: Done 1080 out of 1080 | elapsed:  3.8min finished\n"
     ]
    },
    {
     "data": {
      "text/plain": [
       "GridSearchCV(cv=10, error_score='raise-deprecating',\n",
       "             estimator=RandomForestClassifier(bootstrap=True, class_weight=None,\n",
       "                                              criterion='gini', max_depth=None,\n",
       "                                              max_features='auto',\n",
       "                                              max_leaf_nodes=None,\n",
       "                                              min_impurity_decrease=0.0,\n",
       "                                              min_impurity_split=None,\n",
       "                                              min_samples_leaf=1,\n",
       "                                              min_samples_split=2,\n",
       "                                              min_weight_fraction_leaf=0.0,\n",
       "                                              n_estimators='warn', n_jobs=None,\n",
       "                                              oob_score=False,\n",
       "                                              random_state=None, verbose=0,\n",
       "                                              warm_start=False),\n",
       "             iid='warn', n_jobs=-1,\n",
       "             param_grid={'max_depth': [2, 5, 8, 10], 'max_features': [2, 5, 8],\n",
       "                         'min_samples_split': [2, 5, 10],\n",
       "                         'n_estimators': [10, 500, 1000]},\n",
       "             pre_dispatch='2*n_jobs', refit=True, return_train_score=False,\n",
       "             scoring=None, verbose=5)"
      ]
     },
     "execution_count": 17,
     "metadata": {},
     "output_type": "execute_result"
    }
   ],
   "source": [
    "# cross validation\n",
    "rf_params = {\"max_depth\":[2,5,8,10],\"max_features\":[2,5,8],\"n_estimators\":[10,500,1000],\"min_samples_split\":[2,5,10]}\n",
    "rf_model = RandomForestClassifier()\n",
    "rf_cv_model = GridSearchCV(rf_model, rf_params, cv=10, n_jobs=-1, verbose = 5)\n",
    "rf_cv_model.fit(X_train, y_train)"
   ]
  },
  {
   "cell_type": "code",
   "execution_count": 18,
   "metadata": {},
   "outputs": [
    {
     "name": "stdout",
     "output_type": "stream",
     "text": [
      "Best parameters : {'max_depth': 10, 'max_features': 5, 'min_samples_split': 2, 'n_estimators': 500}\n"
     ]
    }
   ],
   "source": [
    "print('Best parameters : ' + str(rf_cv_model.best_params_))"
   ]
  },
  {
   "cell_type": "code",
   "execution_count": 29,
   "metadata": {},
   "outputs": [
    {
     "data": {
      "text/plain": [
       "RandomForestClassifier(bootstrap=True, class_weight=None, criterion='gini',\n",
       "                       max_depth=10, max_features=5, max_leaf_nodes=None,\n",
       "                       min_impurity_decrease=0.0, min_impurity_split=None,\n",
       "                       min_samples_leaf=1, min_samples_split=2,\n",
       "                       min_weight_fraction_leaf=0.0, n_estimators=500,\n",
       "                       n_jobs=None, oob_score=False, random_state=None,\n",
       "                       verbose=0, warm_start=False)"
      ]
     },
     "execution_count": 29,
     "metadata": {},
     "output_type": "execute_result"
    }
   ],
   "source": [
    "# tuned model with best parameters\n",
    "rf_tuned = RandomForestClassifier(max_depth= 10, max_features = 5, min_samples_split = 2, n_estimators = 500)\n",
    "rf_tuned.fit(X_train, y_train)"
   ]
  },
  {
   "cell_type": "code",
   "execution_count": 30,
   "metadata": {},
   "outputs": [
    {
     "data": {
      "text/plain": [
       "0.9455445544554455"
      ]
     },
     "execution_count": 30,
     "metadata": {},
     "output_type": "execute_result"
    }
   ],
   "source": [
    "y_pred = rf_tuned.predict(X_test)\n",
    "accuracy_score(y_test, y_pred)\n",
    "# accuracy didn't change. default parameters already are the best ones."
   ]
  },
  {
   "cell_type": "code",
   "execution_count": 31,
   "metadata": {},
   "outputs": [
    {
     "name": "stdout",
     "output_type": "stream",
     "text": [
      "              precision    recall  f1-score   support\n",
      "\n",
      "           0       0.94      1.00      0.97       369\n",
      "           1       1.00      0.37      0.54        35\n",
      "\n",
      "    accuracy                           0.95       404\n",
      "   macro avg       0.97      0.69      0.76       404\n",
      "weighted avg       0.95      0.95      0.93       404\n",
      "\n"
     ]
    }
   ],
   "source": [
    "print(classification_report(y_test, y_pred))\n",
    "# our model's recall and f1 score decreased compared to decision tree classifier."
   ]
  },
  {
   "cell_type": "markdown",
   "metadata": {},
   "source": [
    "## Catboost"
   ]
  },
  {
   "cell_type": "code",
   "execution_count": 22,
   "metadata": {},
   "outputs": [
    {
     "name": "stdout",
     "output_type": "stream",
     "text": [
      "Learning rate set to 0.019185\n",
      "0:\tlearn: 0.6727088\ttotal: 99.1ms\tremaining: 1m 39s\n",
      "1:\tlearn: 0.6517088\ttotal: 127ms\tremaining: 1m 3s\n",
      "2:\tlearn: 0.6323141\ttotal: 156ms\tremaining: 52s\n",
      "3:\tlearn: 0.6117450\ttotal: 186ms\tremaining: 46.3s\n",
      "4:\tlearn: 0.5932287\ttotal: 219ms\tremaining: 43.7s\n",
      "5:\tlearn: 0.5768017\ttotal: 248ms\tremaining: 41.1s\n",
      "6:\tlearn: 0.5606866\ttotal: 278ms\tremaining: 39.4s\n",
      "7:\tlearn: 0.5465648\ttotal: 311ms\tremaining: 38.6s\n",
      "8:\tlearn: 0.5303470\ttotal: 342ms\tremaining: 37.7s\n",
      "9:\tlearn: 0.5154209\ttotal: 372ms\tremaining: 36.8s\n",
      "10:\tlearn: 0.5031691\ttotal: 405ms\tremaining: 36.4s\n",
      "11:\tlearn: 0.4905270\ttotal: 435ms\tremaining: 35.8s\n",
      "12:\tlearn: 0.4779718\ttotal: 463ms\tremaining: 35.2s\n",
      "13:\tlearn: 0.4655135\ttotal: 495ms\tremaining: 34.8s\n",
      "14:\tlearn: 0.4542653\ttotal: 523ms\tremaining: 34.4s\n",
      "15:\tlearn: 0.4427877\ttotal: 555ms\tremaining: 34.1s\n",
      "16:\tlearn: 0.4323051\ttotal: 588ms\tremaining: 34s\n",
      "17:\tlearn: 0.4228497\ttotal: 619ms\tremaining: 33.7s\n",
      "18:\tlearn: 0.4133530\ttotal: 648ms\tremaining: 33.4s\n",
      "19:\tlearn: 0.4037619\ttotal: 679ms\tremaining: 33.3s\n",
      "20:\tlearn: 0.3935676\ttotal: 708ms\tremaining: 33s\n",
      "21:\tlearn: 0.3845493\ttotal: 738ms\tremaining: 32.8s\n",
      "22:\tlearn: 0.3778172\ttotal: 771ms\tremaining: 32.8s\n",
      "23:\tlearn: 0.3703193\ttotal: 801ms\tremaining: 32.6s\n",
      "24:\tlearn: 0.3629199\ttotal: 833ms\tremaining: 32.5s\n",
      "25:\tlearn: 0.3562974\ttotal: 865ms\tremaining: 32.4s\n",
      "26:\tlearn: 0.3493865\ttotal: 894ms\tremaining: 32.2s\n",
      "27:\tlearn: 0.3427757\ttotal: 923ms\tremaining: 32s\n",
      "28:\tlearn: 0.3368954\ttotal: 955ms\tremaining: 32s\n",
      "29:\tlearn: 0.3316125\ttotal: 985ms\tremaining: 31.8s\n",
      "30:\tlearn: 0.3261622\ttotal: 1.02s\tremaining: 31.8s\n",
      "31:\tlearn: 0.3202670\ttotal: 1.05s\tremaining: 31.8s\n",
      "32:\tlearn: 0.3160479\ttotal: 1.07s\tremaining: 31.5s\n",
      "33:\tlearn: 0.3110545\ttotal: 1.1s\tremaining: 31.4s\n",
      "34:\tlearn: 0.3058783\ttotal: 1.14s\tremaining: 31.4s\n",
      "35:\tlearn: 0.3017781\ttotal: 1.17s\tremaining: 31.2s\n",
      "36:\tlearn: 0.2970712\ttotal: 1.2s\tremaining: 31.1s\n",
      "37:\tlearn: 0.2935410\ttotal: 1.23s\tremaining: 31s\n",
      "38:\tlearn: 0.2899806\ttotal: 1.26s\tremaining: 31.1s\n",
      "39:\tlearn: 0.2866132\ttotal: 1.29s\tremaining: 31s\n",
      "40:\tlearn: 0.2829046\ttotal: 1.33s\tremaining: 31s\n",
      "41:\tlearn: 0.2794330\ttotal: 1.37s\tremaining: 31.2s\n",
      "42:\tlearn: 0.2763352\ttotal: 1.41s\tremaining: 31.3s\n",
      "43:\tlearn: 0.2731730\ttotal: 1.44s\tremaining: 31.3s\n",
      "44:\tlearn: 0.2706579\ttotal: 1.47s\tremaining: 31.3s\n",
      "45:\tlearn: 0.2681074\ttotal: 1.51s\tremaining: 31.2s\n",
      "46:\tlearn: 0.2649935\ttotal: 1.53s\tremaining: 31.1s\n",
      "47:\tlearn: 0.2622180\ttotal: 1.56s\tremaining: 31s\n",
      "48:\tlearn: 0.2593702\ttotal: 1.6s\tremaining: 31s\n",
      "49:\tlearn: 0.2567849\ttotal: 1.63s\tremaining: 31s\n",
      "50:\tlearn: 0.2539003\ttotal: 1.66s\tremaining: 30.9s\n",
      "51:\tlearn: 0.2518183\ttotal: 1.69s\tremaining: 30.8s\n",
      "52:\tlearn: 0.2493259\ttotal: 1.72s\tremaining: 30.7s\n",
      "53:\tlearn: 0.2472433\ttotal: 1.75s\tremaining: 30.6s\n",
      "54:\tlearn: 0.2451539\ttotal: 1.77s\tremaining: 30.5s\n",
      "55:\tlearn: 0.2430015\ttotal: 1.8s\tremaining: 30.3s\n",
      "56:\tlearn: 0.2417981\ttotal: 1.82s\tremaining: 30.1s\n",
      "57:\tlearn: 0.2399833\ttotal: 1.85s\tremaining: 30.1s\n",
      "58:\tlearn: 0.2375171\ttotal: 1.88s\tremaining: 30s\n",
      "59:\tlearn: 0.2357101\ttotal: 1.91s\tremaining: 29.9s\n",
      "60:\tlearn: 0.2338887\ttotal: 1.94s\tremaining: 29.9s\n",
      "61:\tlearn: 0.2319738\ttotal: 1.97s\tremaining: 29.8s\n",
      "62:\tlearn: 0.2301954\ttotal: 1.99s\tremaining: 29.7s\n",
      "63:\tlearn: 0.2286684\ttotal: 2.02s\tremaining: 29.6s\n",
      "64:\tlearn: 0.2263721\ttotal: 2.05s\tremaining: 29.5s\n",
      "65:\tlearn: 0.2251010\ttotal: 2.08s\tremaining: 29.5s\n",
      "66:\tlearn: 0.2235533\ttotal: 2.11s\tremaining: 29.4s\n",
      "67:\tlearn: 0.2225692\ttotal: 2.14s\tremaining: 29.4s\n",
      "68:\tlearn: 0.2203372\ttotal: 2.17s\tremaining: 29.3s\n",
      "69:\tlearn: 0.2186313\ttotal: 2.2s\tremaining: 29.2s\n",
      "70:\tlearn: 0.2168806\ttotal: 2.24s\tremaining: 29.3s\n",
      "71:\tlearn: 0.2158088\ttotal: 2.27s\tremaining: 29.3s\n",
      "72:\tlearn: 0.2144027\ttotal: 2.31s\tremaining: 29.4s\n",
      "73:\tlearn: 0.2133505\ttotal: 2.35s\tremaining: 29.4s\n",
      "74:\tlearn: 0.2122396\ttotal: 2.38s\tremaining: 29.4s\n",
      "75:\tlearn: 0.2113212\ttotal: 2.42s\tremaining: 29.4s\n",
      "76:\tlearn: 0.2103956\ttotal: 2.45s\tremaining: 29.3s\n",
      "77:\tlearn: 0.2090883\ttotal: 2.48s\tremaining: 29.3s\n",
      "78:\tlearn: 0.2079651\ttotal: 2.5s\tremaining: 29.2s\n",
      "79:\tlearn: 0.2064632\ttotal: 2.53s\tremaining: 29.1s\n",
      "80:\tlearn: 0.2057531\ttotal: 2.56s\tremaining: 29.1s\n",
      "81:\tlearn: 0.2050655\ttotal: 2.59s\tremaining: 29s\n",
      "82:\tlearn: 0.2040087\ttotal: 2.62s\tremaining: 28.9s\n",
      "83:\tlearn: 0.2034859\ttotal: 2.65s\tremaining: 28.9s\n",
      "84:\tlearn: 0.2022322\ttotal: 2.68s\tremaining: 28.8s\n",
      "85:\tlearn: 0.2011506\ttotal: 2.71s\tremaining: 28.8s\n",
      "86:\tlearn: 0.2005165\ttotal: 2.74s\tremaining: 28.7s\n",
      "87:\tlearn: 0.1996883\ttotal: 2.76s\tremaining: 28.7s\n",
      "88:\tlearn: 0.1992095\ttotal: 2.79s\tremaining: 28.6s\n",
      "89:\tlearn: 0.1986548\ttotal: 2.83s\tremaining: 28.6s\n",
      "90:\tlearn: 0.1980296\ttotal: 2.85s\tremaining: 28.5s\n",
      "91:\tlearn: 0.1974153\ttotal: 2.88s\tremaining: 28.5s\n",
      "92:\tlearn: 0.1970600\ttotal: 2.9s\tremaining: 28.3s\n",
      "93:\tlearn: 0.1964465\ttotal: 2.93s\tremaining: 28.2s\n",
      "94:\tlearn: 0.1956657\ttotal: 2.96s\tremaining: 28.2s\n",
      "95:\tlearn: 0.1950895\ttotal: 2.99s\tremaining: 28.1s\n",
      "96:\tlearn: 0.1944740\ttotal: 3.02s\tremaining: 28.1s\n",
      "97:\tlearn: 0.1936157\ttotal: 3.05s\tremaining: 28.1s\n",
      "98:\tlearn: 0.1929996\ttotal: 3.08s\tremaining: 28s\n",
      "99:\tlearn: 0.1924758\ttotal: 3.1s\tremaining: 27.9s\n",
      "100:\tlearn: 0.1920994\ttotal: 3.13s\tremaining: 27.9s\n",
      "101:\tlearn: 0.1917624\ttotal: 3.16s\tremaining: 27.8s\n",
      "102:\tlearn: 0.1912400\ttotal: 3.19s\tremaining: 27.8s\n",
      "103:\tlearn: 0.1907312\ttotal: 3.22s\tremaining: 27.8s\n",
      "104:\tlearn: 0.1904874\ttotal: 3.25s\tremaining: 27.7s\n",
      "105:\tlearn: 0.1899751\ttotal: 3.28s\tremaining: 27.6s\n",
      "106:\tlearn: 0.1895525\ttotal: 3.31s\tremaining: 27.6s\n",
      "107:\tlearn: 0.1892692\ttotal: 3.33s\tremaining: 27.5s\n",
      "108:\tlearn: 0.1890487\ttotal: 3.37s\tremaining: 27.5s\n",
      "109:\tlearn: 0.1883739\ttotal: 3.4s\tremaining: 27.5s\n",
      "110:\tlearn: 0.1872121\ttotal: 3.43s\tremaining: 27.4s\n",
      "111:\tlearn: 0.1867456\ttotal: 3.46s\tremaining: 27.4s\n",
      "112:\tlearn: 0.1863590\ttotal: 3.48s\tremaining: 27.3s\n",
      "113:\tlearn: 0.1857798\ttotal: 3.51s\tremaining: 27.3s\n",
      "114:\tlearn: 0.1852800\ttotal: 3.54s\tremaining: 27.2s\n",
      "115:\tlearn: 0.1846597\ttotal: 3.58s\tremaining: 27.3s\n",
      "116:\tlearn: 0.1839651\ttotal: 3.61s\tremaining: 27.3s\n",
      "117:\tlearn: 0.1833339\ttotal: 3.65s\tremaining: 27.2s\n",
      "118:\tlearn: 0.1827701\ttotal: 3.68s\tremaining: 27.2s\n",
      "119:\tlearn: 0.1821059\ttotal: 3.71s\tremaining: 27.2s\n",
      "120:\tlearn: 0.1814654\ttotal: 3.75s\tremaining: 27.2s\n",
      "121:\tlearn: 0.1809774\ttotal: 3.79s\tremaining: 27.2s\n",
      "122:\tlearn: 0.1800118\ttotal: 3.82s\tremaining: 27.2s\n",
      "123:\tlearn: 0.1793154\ttotal: 3.86s\tremaining: 27.2s\n",
      "124:\tlearn: 0.1789048\ttotal: 3.89s\tremaining: 27.2s\n",
      "125:\tlearn: 0.1786264\ttotal: 3.92s\tremaining: 27.2s\n",
      "126:\tlearn: 0.1781241\ttotal: 3.95s\tremaining: 27.2s\n",
      "127:\tlearn: 0.1774091\ttotal: 3.98s\tremaining: 27.1s\n",
      "128:\tlearn: 0.1770621\ttotal: 4.01s\tremaining: 27.1s\n",
      "129:\tlearn: 0.1765849\ttotal: 4.04s\tremaining: 27s\n",
      "130:\tlearn: 0.1760100\ttotal: 4.07s\tremaining: 27s\n",
      "131:\tlearn: 0.1757899\ttotal: 4.09s\tremaining: 26.9s\n",
      "132:\tlearn: 0.1749843\ttotal: 4.12s\tremaining: 26.9s\n",
      "133:\tlearn: 0.1748416\ttotal: 4.14s\tremaining: 26.8s\n",
      "134:\tlearn: 0.1744972\ttotal: 4.17s\tremaining: 26.7s\n",
      "135:\tlearn: 0.1739326\ttotal: 4.2s\tremaining: 26.7s\n",
      "136:\tlearn: 0.1737315\ttotal: 4.23s\tremaining: 26.7s\n",
      "137:\tlearn: 0.1734596\ttotal: 4.26s\tremaining: 26.6s\n",
      "138:\tlearn: 0.1731063\ttotal: 4.29s\tremaining: 26.6s\n",
      "139:\tlearn: 0.1726682\ttotal: 4.32s\tremaining: 26.5s\n",
      "140:\tlearn: 0.1724967\ttotal: 4.35s\tremaining: 26.5s\n",
      "141:\tlearn: 0.1721735\ttotal: 4.38s\tremaining: 26.5s\n",
      "142:\tlearn: 0.1716398\ttotal: 4.41s\tremaining: 26.4s\n",
      "143:\tlearn: 0.1714325\ttotal: 4.44s\tremaining: 26.4s\n",
      "144:\tlearn: 0.1711092\ttotal: 4.47s\tremaining: 26.3s\n",
      "145:\tlearn: 0.1707158\ttotal: 4.49s\tremaining: 26.3s\n",
      "146:\tlearn: 0.1706150\ttotal: 4.51s\tremaining: 26.2s\n",
      "147:\tlearn: 0.1703271\ttotal: 4.54s\tremaining: 26.1s\n",
      "148:\tlearn: 0.1701327\ttotal: 4.57s\tremaining: 26.1s\n",
      "149:\tlearn: 0.1699275\ttotal: 4.59s\tremaining: 26s\n",
      "150:\tlearn: 0.1696691\ttotal: 4.62s\tremaining: 26s\n",
      "151:\tlearn: 0.1695770\ttotal: 4.64s\tremaining: 25.9s\n",
      "152:\tlearn: 0.1693204\ttotal: 4.67s\tremaining: 25.9s\n",
      "153:\tlearn: 0.1687810\ttotal: 4.7s\tremaining: 25.8s\n",
      "154:\tlearn: 0.1683083\ttotal: 4.73s\tremaining: 25.8s\n",
      "155:\tlearn: 0.1680582\ttotal: 4.76s\tremaining: 25.8s\n",
      "156:\tlearn: 0.1675911\ttotal: 4.79s\tremaining: 25.7s\n",
      "157:\tlearn: 0.1670455\ttotal: 4.82s\tremaining: 25.7s\n",
      "158:\tlearn: 0.1668832\ttotal: 4.84s\tremaining: 25.6s\n",
      "159:\tlearn: 0.1666043\ttotal: 4.87s\tremaining: 25.6s\n"
     ]
    },
    {
     "name": "stdout",
     "output_type": "stream",
     "text": [
      "160:\tlearn: 0.1663937\ttotal: 4.9s\tremaining: 25.5s\n",
      "161:\tlearn: 0.1660672\ttotal: 4.93s\tremaining: 25.5s\n",
      "162:\tlearn: 0.1657393\ttotal: 4.97s\tremaining: 25.5s\n",
      "163:\tlearn: 0.1654918\ttotal: 5.01s\tremaining: 25.5s\n",
      "164:\tlearn: 0.1652314\ttotal: 5.04s\tremaining: 25.5s\n",
      "165:\tlearn: 0.1652010\ttotal: 5.06s\tremaining: 25.4s\n",
      "166:\tlearn: 0.1650393\ttotal: 5.09s\tremaining: 25.4s\n",
      "167:\tlearn: 0.1645549\ttotal: 5.12s\tremaining: 25.4s\n",
      "168:\tlearn: 0.1638655\ttotal: 5.16s\tremaining: 25.3s\n",
      "169:\tlearn: 0.1635770\ttotal: 5.18s\tremaining: 25.3s\n",
      "170:\tlearn: 0.1633548\ttotal: 5.21s\tremaining: 25.3s\n",
      "171:\tlearn: 0.1631028\ttotal: 5.24s\tremaining: 25.2s\n",
      "172:\tlearn: 0.1626476\ttotal: 5.27s\tremaining: 25.2s\n",
      "173:\tlearn: 0.1623925\ttotal: 5.3s\tremaining: 25.2s\n",
      "174:\tlearn: 0.1618157\ttotal: 5.33s\tremaining: 25.1s\n",
      "175:\tlearn: 0.1611503\ttotal: 5.36s\tremaining: 25.1s\n",
      "176:\tlearn: 0.1606405\ttotal: 5.39s\tremaining: 25.1s\n",
      "177:\tlearn: 0.1603745\ttotal: 5.42s\tremaining: 25.1s\n",
      "178:\tlearn: 0.1601114\ttotal: 5.46s\tremaining: 25s\n",
      "179:\tlearn: 0.1595332\ttotal: 5.49s\tremaining: 25s\n",
      "180:\tlearn: 0.1592703\ttotal: 5.52s\tremaining: 25s\n",
      "181:\tlearn: 0.1588819\ttotal: 5.56s\tremaining: 25s\n",
      "182:\tlearn: 0.1587640\ttotal: 5.59s\tremaining: 25s\n",
      "183:\tlearn: 0.1582932\ttotal: 5.62s\tremaining: 24.9s\n",
      "184:\tlearn: 0.1581640\ttotal: 5.66s\tremaining: 24.9s\n",
      "185:\tlearn: 0.1580702\ttotal: 5.69s\tremaining: 24.9s\n",
      "186:\tlearn: 0.1579075\ttotal: 5.73s\tremaining: 24.9s\n",
      "187:\tlearn: 0.1575256\ttotal: 5.76s\tremaining: 24.9s\n",
      "188:\tlearn: 0.1573757\ttotal: 5.79s\tremaining: 24.9s\n",
      "189:\tlearn: 0.1571429\ttotal: 5.82s\tremaining: 24.8s\n",
      "190:\tlearn: 0.1569309\ttotal: 5.85s\tremaining: 24.8s\n",
      "191:\tlearn: 0.1568271\ttotal: 5.88s\tremaining: 24.7s\n",
      "192:\tlearn: 0.1566591\ttotal: 5.91s\tremaining: 24.7s\n",
      "193:\tlearn: 0.1565085\ttotal: 5.94s\tremaining: 24.7s\n",
      "194:\tlearn: 0.1560325\ttotal: 5.96s\tremaining: 24.6s\n",
      "195:\tlearn: 0.1558025\ttotal: 5.99s\tremaining: 24.6s\n",
      "196:\tlearn: 0.1557227\ttotal: 6.02s\tremaining: 24.5s\n",
      "197:\tlearn: 0.1555618\ttotal: 6.04s\tremaining: 24.5s\n",
      "198:\tlearn: 0.1555362\ttotal: 6.07s\tremaining: 24.4s\n",
      "199:\tlearn: 0.1552965\ttotal: 6.1s\tremaining: 24.4s\n",
      "200:\tlearn: 0.1550251\ttotal: 6.13s\tremaining: 24.4s\n",
      "201:\tlearn: 0.1549129\ttotal: 6.16s\tremaining: 24.3s\n",
      "202:\tlearn: 0.1545117\ttotal: 6.19s\tremaining: 24.3s\n",
      "203:\tlearn: 0.1544402\ttotal: 6.21s\tremaining: 24.2s\n",
      "204:\tlearn: 0.1541567\ttotal: 6.24s\tremaining: 24.2s\n",
      "205:\tlearn: 0.1540574\ttotal: 6.27s\tremaining: 24.2s\n",
      "206:\tlearn: 0.1538261\ttotal: 6.3s\tremaining: 24.1s\n",
      "207:\tlearn: 0.1534920\ttotal: 6.33s\tremaining: 24.1s\n",
      "208:\tlearn: 0.1533475\ttotal: 6.36s\tremaining: 24.1s\n",
      "209:\tlearn: 0.1533088\ttotal: 6.38s\tremaining: 24s\n",
      "210:\tlearn: 0.1529946\ttotal: 6.41s\tremaining: 24s\n",
      "211:\tlearn: 0.1528029\ttotal: 6.43s\tremaining: 23.9s\n",
      "212:\tlearn: 0.1526072\ttotal: 6.46s\tremaining: 23.9s\n",
      "213:\tlearn: 0.1525133\ttotal: 6.49s\tremaining: 23.8s\n",
      "214:\tlearn: 0.1524007\ttotal: 6.52s\tremaining: 23.8s\n",
      "215:\tlearn: 0.1518119\ttotal: 6.55s\tremaining: 23.8s\n",
      "216:\tlearn: 0.1517214\ttotal: 6.58s\tremaining: 23.7s\n",
      "217:\tlearn: 0.1514661\ttotal: 6.6s\tremaining: 23.7s\n",
      "218:\tlearn: 0.1514040\ttotal: 6.62s\tremaining: 23.6s\n",
      "219:\tlearn: 0.1511115\ttotal: 6.65s\tremaining: 23.6s\n",
      "220:\tlearn: 0.1510434\ttotal: 6.67s\tremaining: 23.5s\n",
      "221:\tlearn: 0.1507413\ttotal: 6.7s\tremaining: 23.5s\n",
      "222:\tlearn: 0.1504433\ttotal: 6.73s\tremaining: 23.5s\n",
      "223:\tlearn: 0.1503117\ttotal: 6.76s\tremaining: 23.4s\n",
      "224:\tlearn: 0.1500351\ttotal: 6.79s\tremaining: 23.4s\n",
      "225:\tlearn: 0.1497284\ttotal: 6.82s\tremaining: 23.4s\n",
      "226:\tlearn: 0.1496897\ttotal: 6.85s\tremaining: 23.3s\n",
      "227:\tlearn: 0.1495544\ttotal: 6.89s\tremaining: 23.3s\n",
      "228:\tlearn: 0.1492444\ttotal: 6.92s\tremaining: 23.3s\n",
      "229:\tlearn: 0.1488337\ttotal: 6.96s\tremaining: 23.3s\n",
      "230:\tlearn: 0.1487123\ttotal: 6.99s\tremaining: 23.3s\n",
      "231:\tlearn: 0.1485949\ttotal: 7.02s\tremaining: 23.2s\n",
      "232:\tlearn: 0.1484962\ttotal: 7.05s\tremaining: 23.2s\n",
      "233:\tlearn: 0.1483286\ttotal: 7.08s\tremaining: 23.2s\n",
      "234:\tlearn: 0.1481547\ttotal: 7.11s\tremaining: 23.2s\n",
      "235:\tlearn: 0.1476462\ttotal: 7.15s\tremaining: 23.1s\n",
      "236:\tlearn: 0.1472456\ttotal: 7.18s\tremaining: 23.1s\n",
      "237:\tlearn: 0.1470870\ttotal: 7.21s\tremaining: 23.1s\n",
      "238:\tlearn: 0.1468178\ttotal: 7.24s\tremaining: 23s\n",
      "239:\tlearn: 0.1465439\ttotal: 7.26s\tremaining: 23s\n",
      "240:\tlearn: 0.1464943\ttotal: 7.28s\tremaining: 22.9s\n",
      "241:\tlearn: 0.1464621\ttotal: 7.31s\tremaining: 22.9s\n",
      "242:\tlearn: 0.1461848\ttotal: 7.34s\tremaining: 22.9s\n",
      "243:\tlearn: 0.1458437\ttotal: 7.37s\tremaining: 22.8s\n",
      "244:\tlearn: 0.1455178\ttotal: 7.39s\tremaining: 22.8s\n",
      "245:\tlearn: 0.1450381\ttotal: 7.42s\tremaining: 22.8s\n",
      "246:\tlearn: 0.1447654\ttotal: 7.46s\tremaining: 22.7s\n",
      "247:\tlearn: 0.1445500\ttotal: 7.48s\tremaining: 22.7s\n",
      "248:\tlearn: 0.1444570\ttotal: 7.51s\tremaining: 22.7s\n",
      "249:\tlearn: 0.1443586\ttotal: 7.54s\tremaining: 22.6s\n",
      "250:\tlearn: 0.1440624\ttotal: 7.57s\tremaining: 22.6s\n",
      "251:\tlearn: 0.1439837\ttotal: 7.59s\tremaining: 22.5s\n",
      "252:\tlearn: 0.1435928\ttotal: 7.62s\tremaining: 22.5s\n",
      "253:\tlearn: 0.1433977\ttotal: 7.65s\tremaining: 22.5s\n",
      "254:\tlearn: 0.1430671\ttotal: 7.68s\tremaining: 22.4s\n",
      "255:\tlearn: 0.1429675\ttotal: 7.71s\tremaining: 22.4s\n",
      "256:\tlearn: 0.1429076\ttotal: 7.73s\tremaining: 22.4s\n",
      "257:\tlearn: 0.1428156\ttotal: 7.76s\tremaining: 22.3s\n",
      "258:\tlearn: 0.1425064\ttotal: 7.79s\tremaining: 22.3s\n",
      "259:\tlearn: 0.1424560\ttotal: 7.82s\tremaining: 22.3s\n",
      "260:\tlearn: 0.1422702\ttotal: 7.85s\tremaining: 22.2s\n",
      "261:\tlearn: 0.1421592\ttotal: 7.88s\tremaining: 22.2s\n",
      "262:\tlearn: 0.1420593\ttotal: 7.91s\tremaining: 22.2s\n",
      "263:\tlearn: 0.1417775\ttotal: 7.94s\tremaining: 22.1s\n",
      "264:\tlearn: 0.1414340\ttotal: 7.97s\tremaining: 22.1s\n",
      "265:\tlearn: 0.1412938\ttotal: 8s\tremaining: 22.1s\n",
      "266:\tlearn: 0.1407501\ttotal: 8.03s\tremaining: 22.1s\n",
      "267:\tlearn: 0.1403161\ttotal: 8.06s\tremaining: 22s\n",
      "268:\tlearn: 0.1402329\ttotal: 8.09s\tremaining: 22s\n",
      "269:\tlearn: 0.1401663\ttotal: 8.12s\tremaining: 21.9s\n",
      "270:\tlearn: 0.1400267\ttotal: 8.14s\tremaining: 21.9s\n",
      "271:\tlearn: 0.1397449\ttotal: 8.17s\tremaining: 21.9s\n",
      "272:\tlearn: 0.1396395\ttotal: 8.2s\tremaining: 21.8s\n",
      "273:\tlearn: 0.1394572\ttotal: 8.23s\tremaining: 21.8s\n",
      "274:\tlearn: 0.1393920\ttotal: 8.25s\tremaining: 21.7s\n",
      "275:\tlearn: 0.1392418\ttotal: 8.28s\tremaining: 21.7s\n",
      "276:\tlearn: 0.1388051\ttotal: 8.3s\tremaining: 21.7s\n",
      "277:\tlearn: 0.1386521\ttotal: 8.33s\tremaining: 21.6s\n",
      "278:\tlearn: 0.1382607\ttotal: 8.36s\tremaining: 21.6s\n",
      "279:\tlearn: 0.1382312\ttotal: 8.39s\tremaining: 21.6s\n",
      "280:\tlearn: 0.1379651\ttotal: 8.42s\tremaining: 21.5s\n",
      "281:\tlearn: 0.1375584\ttotal: 8.45s\tremaining: 21.5s\n",
      "282:\tlearn: 0.1375212\ttotal: 8.48s\tremaining: 21.5s\n",
      "283:\tlearn: 0.1371814\ttotal: 8.5s\tremaining: 21.4s\n",
      "284:\tlearn: 0.1369301\ttotal: 8.53s\tremaining: 21.4s\n",
      "285:\tlearn: 0.1368032\ttotal: 8.56s\tremaining: 21.4s\n",
      "286:\tlearn: 0.1366721\ttotal: 8.59s\tremaining: 21.3s\n",
      "287:\tlearn: 0.1366258\ttotal: 8.62s\tremaining: 21.3s\n",
      "288:\tlearn: 0.1365895\ttotal: 8.64s\tremaining: 21.3s\n",
      "289:\tlearn: 0.1363810\ttotal: 8.67s\tremaining: 21.2s\n",
      "290:\tlearn: 0.1363323\ttotal: 8.7s\tremaining: 21.2s\n",
      "291:\tlearn: 0.1362660\ttotal: 8.73s\tremaining: 21.2s\n",
      "292:\tlearn: 0.1361951\ttotal: 8.76s\tremaining: 21.1s\n",
      "293:\tlearn: 0.1361522\ttotal: 8.79s\tremaining: 21.1s\n",
      "294:\tlearn: 0.1356828\ttotal: 8.81s\tremaining: 21.1s\n",
      "295:\tlearn: 0.1355163\ttotal: 8.84s\tremaining: 21s\n",
      "296:\tlearn: 0.1353962\ttotal: 8.87s\tremaining: 21s\n",
      "297:\tlearn: 0.1353192\ttotal: 8.9s\tremaining: 21s\n",
      "298:\tlearn: 0.1352896\ttotal: 8.92s\tremaining: 20.9s\n",
      "299:\tlearn: 0.1350332\ttotal: 8.95s\tremaining: 20.9s\n",
      "300:\tlearn: 0.1348030\ttotal: 8.98s\tremaining: 20.8s\n",
      "301:\tlearn: 0.1347334\ttotal: 9.01s\tremaining: 20.8s\n",
      "302:\tlearn: 0.1346836\ttotal: 9.04s\tremaining: 20.8s\n",
      "303:\tlearn: 0.1345004\ttotal: 9.06s\tremaining: 20.8s\n",
      "304:\tlearn: 0.1344630\ttotal: 9.09s\tremaining: 20.7s\n",
      "305:\tlearn: 0.1344513\ttotal: 9.12s\tremaining: 20.7s\n",
      "306:\tlearn: 0.1342500\ttotal: 9.15s\tremaining: 20.6s\n",
      "307:\tlearn: 0.1337747\ttotal: 9.18s\tremaining: 20.6s\n",
      "308:\tlearn: 0.1334485\ttotal: 9.21s\tremaining: 20.6s\n",
      "309:\tlearn: 0.1333799\ttotal: 9.24s\tremaining: 20.6s\n",
      "310:\tlearn: 0.1332780\ttotal: 9.26s\tremaining: 20.5s\n",
      "311:\tlearn: 0.1331984\ttotal: 9.29s\tremaining: 20.5s\n",
      "312:\tlearn: 0.1330392\ttotal: 9.32s\tremaining: 20.5s\n",
      "313:\tlearn: 0.1329398\ttotal: 9.35s\tremaining: 20.4s\n",
      "314:\tlearn: 0.1328836\ttotal: 9.38s\tremaining: 20.4s\n",
      "315:\tlearn: 0.1328610\ttotal: 9.4s\tremaining: 20.4s\n",
      "316:\tlearn: 0.1325689\ttotal: 9.44s\tremaining: 20.3s\n",
      "317:\tlearn: 0.1323979\ttotal: 9.49s\tremaining: 20.3s\n",
      "318:\tlearn: 0.1323495\ttotal: 9.52s\tremaining: 20.3s\n"
     ]
    },
    {
     "name": "stdout",
     "output_type": "stream",
     "text": [
      "319:\tlearn: 0.1323202\ttotal: 9.55s\tremaining: 20.3s\n",
      "320:\tlearn: 0.1323005\ttotal: 9.59s\tremaining: 20.3s\n",
      "321:\tlearn: 0.1320763\ttotal: 9.62s\tremaining: 20.3s\n",
      "322:\tlearn: 0.1319341\ttotal: 9.65s\tremaining: 20.2s\n",
      "323:\tlearn: 0.1316606\ttotal: 9.68s\tremaining: 20.2s\n",
      "324:\tlearn: 0.1315006\ttotal: 9.71s\tremaining: 20.2s\n",
      "325:\tlearn: 0.1312324\ttotal: 9.74s\tremaining: 20.1s\n",
      "326:\tlearn: 0.1312285\ttotal: 9.75s\tremaining: 20.1s\n",
      "327:\tlearn: 0.1309510\ttotal: 9.78s\tremaining: 20s\n",
      "328:\tlearn: 0.1309133\ttotal: 9.81s\tremaining: 20s\n",
      "329:\tlearn: 0.1306562\ttotal: 9.84s\tremaining: 20s\n",
      "330:\tlearn: 0.1306277\ttotal: 9.86s\tremaining: 19.9s\n",
      "331:\tlearn: 0.1305093\ttotal: 9.89s\tremaining: 19.9s\n",
      "332:\tlearn: 0.1304132\ttotal: 9.92s\tremaining: 19.9s\n",
      "333:\tlearn: 0.1301926\ttotal: 9.95s\tremaining: 19.8s\n",
      "334:\tlearn: 0.1299900\ttotal: 9.98s\tremaining: 19.8s\n",
      "335:\tlearn: 0.1298187\ttotal: 10s\tremaining: 19.8s\n",
      "336:\tlearn: 0.1297057\ttotal: 10s\tremaining: 19.7s\n",
      "337:\tlearn: 0.1296335\ttotal: 10.1s\tremaining: 19.7s\n",
      "338:\tlearn: 0.1294234\ttotal: 10.1s\tremaining: 19.7s\n",
      "339:\tlearn: 0.1292921\ttotal: 10.1s\tremaining: 19.6s\n",
      "340:\tlearn: 0.1292410\ttotal: 10.2s\tremaining: 19.6s\n",
      "341:\tlearn: 0.1290996\ttotal: 10.2s\tremaining: 19.6s\n",
      "342:\tlearn: 0.1289800\ttotal: 10.2s\tremaining: 19.6s\n",
      "343:\tlearn: 0.1287584\ttotal: 10.3s\tremaining: 19.6s\n",
      "344:\tlearn: 0.1287170\ttotal: 10.3s\tremaining: 19.6s\n",
      "345:\tlearn: 0.1286078\ttotal: 10.3s\tremaining: 19.5s\n",
      "346:\tlearn: 0.1285462\ttotal: 10.4s\tremaining: 19.5s\n",
      "347:\tlearn: 0.1285306\ttotal: 10.4s\tremaining: 19.5s\n",
      "348:\tlearn: 0.1283758\ttotal: 10.5s\tremaining: 19.5s\n",
      "349:\tlearn: 0.1283573\ttotal: 10.5s\tremaining: 19.5s\n",
      "350:\tlearn: 0.1282388\ttotal: 10.5s\tremaining: 19.4s\n",
      "351:\tlearn: 0.1282201\ttotal: 10.5s\tremaining: 19.4s\n",
      "352:\tlearn: 0.1278992\ttotal: 10.6s\tremaining: 19.4s\n",
      "353:\tlearn: 0.1277631\ttotal: 10.6s\tremaining: 19.3s\n",
      "354:\tlearn: 0.1276695\ttotal: 10.6s\tremaining: 19.3s\n",
      "355:\tlearn: 0.1275644\ttotal: 10.7s\tremaining: 19.3s\n",
      "356:\tlearn: 0.1274247\ttotal: 10.7s\tremaining: 19.2s\n",
      "357:\tlearn: 0.1272184\ttotal: 10.7s\tremaining: 19.2s\n",
      "358:\tlearn: 0.1270986\ttotal: 10.7s\tremaining: 19.2s\n",
      "359:\tlearn: 0.1266270\ttotal: 10.8s\tremaining: 19.2s\n",
      "360:\tlearn: 0.1265855\ttotal: 10.8s\tremaining: 19.1s\n",
      "361:\tlearn: 0.1264435\ttotal: 10.8s\tremaining: 19.1s\n",
      "362:\tlearn: 0.1262580\ttotal: 10.9s\tremaining: 19.1s\n",
      "363:\tlearn: 0.1260022\ttotal: 10.9s\tremaining: 19.1s\n",
      "364:\tlearn: 0.1258501\ttotal: 10.9s\tremaining: 19s\n",
      "365:\tlearn: 0.1258298\ttotal: 11s\tremaining: 19s\n",
      "366:\tlearn: 0.1254581\ttotal: 11s\tremaining: 19s\n",
      "367:\tlearn: 0.1252349\ttotal: 11s\tremaining: 18.9s\n",
      "368:\tlearn: 0.1248756\ttotal: 11.1s\tremaining: 18.9s\n",
      "369:\tlearn: 0.1246695\ttotal: 11.1s\tremaining: 18.9s\n",
      "370:\tlearn: 0.1246554\ttotal: 11.1s\tremaining: 18.8s\n",
      "371:\tlearn: 0.1243994\ttotal: 11.1s\tremaining: 18.8s\n",
      "372:\tlearn: 0.1242019\ttotal: 11.2s\tremaining: 18.8s\n",
      "373:\tlearn: 0.1241306\ttotal: 11.2s\tremaining: 18.8s\n",
      "374:\tlearn: 0.1241026\ttotal: 11.2s\tremaining: 18.7s\n",
      "375:\tlearn: 0.1240997\ttotal: 11.2s\tremaining: 18.7s\n",
      "376:\tlearn: 0.1236240\ttotal: 11.3s\tremaining: 18.6s\n",
      "377:\tlearn: 0.1235855\ttotal: 11.3s\tremaining: 18.6s\n",
      "378:\tlearn: 0.1235171\ttotal: 11.3s\tremaining: 18.6s\n",
      "379:\tlearn: 0.1233644\ttotal: 11.4s\tremaining: 18.5s\n",
      "380:\tlearn: 0.1232814\ttotal: 11.4s\tremaining: 18.5s\n",
      "381:\tlearn: 0.1232191\ttotal: 11.4s\tremaining: 18.5s\n",
      "382:\tlearn: 0.1230871\ttotal: 11.4s\tremaining: 18.4s\n",
      "383:\tlearn: 0.1228715\ttotal: 11.5s\tremaining: 18.4s\n",
      "384:\tlearn: 0.1227942\ttotal: 11.5s\tremaining: 18.4s\n",
      "385:\tlearn: 0.1226480\ttotal: 11.5s\tremaining: 18.3s\n",
      "386:\tlearn: 0.1225661\ttotal: 11.6s\tremaining: 18.3s\n",
      "387:\tlearn: 0.1224203\ttotal: 11.6s\tremaining: 18.3s\n",
      "388:\tlearn: 0.1222794\ttotal: 11.6s\tremaining: 18.2s\n",
      "389:\tlearn: 0.1221208\ttotal: 11.6s\tremaining: 18.2s\n",
      "390:\tlearn: 0.1219313\ttotal: 11.7s\tremaining: 18.2s\n",
      "391:\tlearn: 0.1219226\ttotal: 11.7s\tremaining: 18.2s\n",
      "392:\tlearn: 0.1219120\ttotal: 11.7s\tremaining: 18.1s\n",
      "393:\tlearn: 0.1218846\ttotal: 11.8s\tremaining: 18.1s\n",
      "394:\tlearn: 0.1218762\ttotal: 11.8s\tremaining: 18.1s\n",
      "395:\tlearn: 0.1218594\ttotal: 11.8s\tremaining: 18s\n",
      "396:\tlearn: 0.1218422\ttotal: 11.8s\tremaining: 18s\n",
      "397:\tlearn: 0.1217918\ttotal: 11.9s\tremaining: 18s\n",
      "398:\tlearn: 0.1215686\ttotal: 11.9s\tremaining: 17.9s\n",
      "399:\tlearn: 0.1215101\ttotal: 11.9s\tremaining: 17.9s\n",
      "400:\tlearn: 0.1214689\ttotal: 12s\tremaining: 17.9s\n",
      "401:\tlearn: 0.1211621\ttotal: 12s\tremaining: 17.8s\n",
      "402:\tlearn: 0.1209428\ttotal: 12s\tremaining: 17.8s\n",
      "403:\tlearn: 0.1207089\ttotal: 12.1s\tremaining: 17.8s\n",
      "404:\tlearn: 0.1204839\ttotal: 12.1s\tremaining: 17.8s\n",
      "405:\tlearn: 0.1203193\ttotal: 12.1s\tremaining: 17.7s\n",
      "406:\tlearn: 0.1200343\ttotal: 12.1s\tremaining: 17.7s\n",
      "407:\tlearn: 0.1198118\ttotal: 12.2s\tremaining: 17.7s\n",
      "408:\tlearn: 0.1196971\ttotal: 12.2s\tremaining: 17.6s\n",
      "409:\tlearn: 0.1196690\ttotal: 12.2s\tremaining: 17.6s\n",
      "410:\tlearn: 0.1196588\ttotal: 12.2s\tremaining: 17.5s\n",
      "411:\tlearn: 0.1195723\ttotal: 12.3s\tremaining: 17.5s\n",
      "412:\tlearn: 0.1195572\ttotal: 12.3s\tremaining: 17.5s\n",
      "413:\tlearn: 0.1195307\ttotal: 12.3s\tremaining: 17.5s\n",
      "414:\tlearn: 0.1194280\ttotal: 12.4s\tremaining: 17.4s\n",
      "415:\tlearn: 0.1191660\ttotal: 12.4s\tremaining: 17.4s\n",
      "416:\tlearn: 0.1191356\ttotal: 12.4s\tremaining: 17.4s\n",
      "417:\tlearn: 0.1191011\ttotal: 12.4s\tremaining: 17.3s\n",
      "418:\tlearn: 0.1190890\ttotal: 12.5s\tremaining: 17.3s\n",
      "419:\tlearn: 0.1190789\ttotal: 12.5s\tremaining: 17.3s\n",
      "420:\tlearn: 0.1190125\ttotal: 12.5s\tremaining: 17.2s\n",
      "421:\tlearn: 0.1188359\ttotal: 12.6s\tremaining: 17.2s\n",
      "422:\tlearn: 0.1188123\ttotal: 12.6s\tremaining: 17.2s\n",
      "423:\tlearn: 0.1186392\ttotal: 12.6s\tremaining: 17.1s\n",
      "424:\tlearn: 0.1186195\ttotal: 12.6s\tremaining: 17.1s\n",
      "425:\tlearn: 0.1184484\ttotal: 12.7s\tremaining: 17.1s\n",
      "426:\tlearn: 0.1182072\ttotal: 12.7s\tremaining: 17s\n",
      "427:\tlearn: 0.1180549\ttotal: 12.7s\tremaining: 17s\n",
      "428:\tlearn: 0.1180374\ttotal: 12.7s\tremaining: 17s\n",
      "429:\tlearn: 0.1180205\ttotal: 12.8s\tremaining: 16.9s\n",
      "430:\tlearn: 0.1180121\ttotal: 12.8s\tremaining: 16.9s\n",
      "431:\tlearn: 0.1179631\ttotal: 12.8s\tremaining: 16.8s\n",
      "432:\tlearn: 0.1179272\ttotal: 12.8s\tremaining: 16.8s\n",
      "433:\tlearn: 0.1177738\ttotal: 12.9s\tremaining: 16.8s\n",
      "434:\tlearn: 0.1177434\ttotal: 12.9s\tremaining: 16.7s\n",
      "435:\tlearn: 0.1177315\ttotal: 12.9s\tremaining: 16.7s\n",
      "436:\tlearn: 0.1177255\ttotal: 12.9s\tremaining: 16.7s\n",
      "437:\tlearn: 0.1177200\ttotal: 12.9s\tremaining: 16.6s\n",
      "438:\tlearn: 0.1176949\ttotal: 13s\tremaining: 16.6s\n",
      "439:\tlearn: 0.1176609\ttotal: 13s\tremaining: 16.5s\n",
      "440:\tlearn: 0.1174650\ttotal: 13s\tremaining: 16.5s\n",
      "441:\tlearn: 0.1172858\ttotal: 13.1s\tremaining: 16.5s\n",
      "442:\tlearn: 0.1172715\ttotal: 13.1s\tremaining: 16.4s\n",
      "443:\tlearn: 0.1170986\ttotal: 13.1s\tremaining: 16.4s\n",
      "444:\tlearn: 0.1169249\ttotal: 13.1s\tremaining: 16.4s\n",
      "445:\tlearn: 0.1169090\ttotal: 13.2s\tremaining: 16.4s\n",
      "446:\tlearn: 0.1168240\ttotal: 13.2s\tremaining: 16.3s\n",
      "447:\tlearn: 0.1168185\ttotal: 13.2s\tremaining: 16.3s\n",
      "448:\tlearn: 0.1168017\ttotal: 13.2s\tremaining: 16.3s\n",
      "449:\tlearn: 0.1166805\ttotal: 13.3s\tremaining: 16.2s\n",
      "450:\tlearn: 0.1166155\ttotal: 13.3s\tremaining: 16.2s\n",
      "451:\tlearn: 0.1163739\ttotal: 13.3s\tremaining: 16.2s\n",
      "452:\tlearn: 0.1161934\ttotal: 13.4s\tremaining: 16.1s\n",
      "453:\tlearn: 0.1161576\ttotal: 13.4s\tremaining: 16.1s\n",
      "454:\tlearn: 0.1160063\ttotal: 13.4s\tremaining: 16.1s\n",
      "455:\tlearn: 0.1159868\ttotal: 13.5s\tremaining: 16.1s\n",
      "456:\tlearn: 0.1158994\ttotal: 13.5s\tremaining: 16s\n",
      "457:\tlearn: 0.1156005\ttotal: 13.5s\tremaining: 16s\n",
      "458:\tlearn: 0.1155802\ttotal: 13.5s\tremaining: 16s\n",
      "459:\tlearn: 0.1154086\ttotal: 13.6s\tremaining: 15.9s\n",
      "460:\tlearn: 0.1151436\ttotal: 13.6s\tremaining: 15.9s\n",
      "461:\tlearn: 0.1151224\ttotal: 13.6s\tremaining: 15.9s\n",
      "462:\tlearn: 0.1150861\ttotal: 13.7s\tremaining: 15.8s\n",
      "463:\tlearn: 0.1149859\ttotal: 13.7s\tremaining: 15.8s\n",
      "464:\tlearn: 0.1148848\ttotal: 13.7s\tremaining: 15.8s\n",
      "465:\tlearn: 0.1146021\ttotal: 13.7s\tremaining: 15.7s\n",
      "466:\tlearn: 0.1145767\ttotal: 13.8s\tremaining: 15.7s\n",
      "467:\tlearn: 0.1145646\ttotal: 13.8s\tremaining: 15.7s\n",
      "468:\tlearn: 0.1142289\ttotal: 13.8s\tremaining: 15.7s\n",
      "469:\tlearn: 0.1142272\ttotal: 13.9s\tremaining: 15.6s\n",
      "470:\tlearn: 0.1140090\ttotal: 13.9s\tremaining: 15.6s\n",
      "471:\tlearn: 0.1139009\ttotal: 13.9s\tremaining: 15.6s\n",
      "472:\tlearn: 0.1137251\ttotal: 13.9s\tremaining: 15.5s\n",
      "473:\tlearn: 0.1137153\ttotal: 14s\tremaining: 15.5s\n",
      "474:\tlearn: 0.1137110\ttotal: 14s\tremaining: 15.5s\n",
      "475:\tlearn: 0.1136687\ttotal: 14s\tremaining: 15.4s\n",
      "476:\tlearn: 0.1135478\ttotal: 14s\tremaining: 15.4s\n",
      "477:\tlearn: 0.1135379\ttotal: 14.1s\tremaining: 15.4s\n",
      "478:\tlearn: 0.1135262\ttotal: 14.1s\tremaining: 15.3s\n",
      "479:\tlearn: 0.1133277\ttotal: 14.1s\tremaining: 15.3s\n",
      "480:\tlearn: 0.1130831\ttotal: 14.2s\tremaining: 15.3s\n"
     ]
    },
    {
     "name": "stdout",
     "output_type": "stream",
     "text": [
      "481:\tlearn: 0.1129500\ttotal: 14.2s\tremaining: 15.3s\n",
      "482:\tlearn: 0.1129366\ttotal: 14.2s\tremaining: 15.2s\n",
      "483:\tlearn: 0.1127434\ttotal: 14.2s\tremaining: 15.2s\n",
      "484:\tlearn: 0.1126487\ttotal: 14.3s\tremaining: 15.2s\n",
      "485:\tlearn: 0.1122879\ttotal: 14.3s\tremaining: 15.1s\n",
      "486:\tlearn: 0.1122778\ttotal: 14.3s\tremaining: 15.1s\n",
      "487:\tlearn: 0.1122561\ttotal: 14.4s\tremaining: 15.1s\n",
      "488:\tlearn: 0.1122320\ttotal: 14.4s\tremaining: 15s\n",
      "489:\tlearn: 0.1121419\ttotal: 14.4s\tremaining: 15s\n",
      "490:\tlearn: 0.1119354\ttotal: 14.4s\tremaining: 15s\n",
      "491:\tlearn: 0.1118799\ttotal: 14.5s\tremaining: 14.9s\n",
      "492:\tlearn: 0.1117978\ttotal: 14.5s\tremaining: 14.9s\n",
      "493:\tlearn: 0.1117942\ttotal: 14.5s\tremaining: 14.9s\n",
      "494:\tlearn: 0.1117245\ttotal: 14.6s\tremaining: 14.9s\n",
      "495:\tlearn: 0.1115946\ttotal: 14.6s\tremaining: 14.8s\n",
      "496:\tlearn: 0.1114933\ttotal: 14.6s\tremaining: 14.8s\n",
      "497:\tlearn: 0.1114527\ttotal: 14.7s\tremaining: 14.8s\n",
      "498:\tlearn: 0.1112700\ttotal: 14.7s\tremaining: 14.7s\n",
      "499:\tlearn: 0.1111252\ttotal: 14.7s\tremaining: 14.7s\n",
      "500:\tlearn: 0.1110970\ttotal: 14.7s\tremaining: 14.7s\n",
      "501:\tlearn: 0.1109582\ttotal: 14.8s\tremaining: 14.6s\n",
      "502:\tlearn: 0.1107443\ttotal: 14.8s\tremaining: 14.6s\n",
      "503:\tlearn: 0.1107330\ttotal: 14.8s\tremaining: 14.6s\n",
      "504:\tlearn: 0.1107096\ttotal: 14.8s\tremaining: 14.6s\n",
      "505:\tlearn: 0.1105915\ttotal: 14.9s\tremaining: 14.5s\n",
      "506:\tlearn: 0.1103725\ttotal: 14.9s\tremaining: 14.5s\n",
      "507:\tlearn: 0.1101637\ttotal: 14.9s\tremaining: 14.5s\n",
      "508:\tlearn: 0.1099114\ttotal: 15s\tremaining: 14.4s\n",
      "509:\tlearn: 0.1098906\ttotal: 15s\tremaining: 14.4s\n",
      "510:\tlearn: 0.1096489\ttotal: 15s\tremaining: 14.4s\n",
      "511:\tlearn: 0.1093561\ttotal: 15s\tremaining: 14.3s\n",
      "512:\tlearn: 0.1092462\ttotal: 15.1s\tremaining: 14.3s\n",
      "513:\tlearn: 0.1089620\ttotal: 15.1s\tremaining: 14.3s\n",
      "514:\tlearn: 0.1089321\ttotal: 15.1s\tremaining: 14.3s\n",
      "515:\tlearn: 0.1088155\ttotal: 15.2s\tremaining: 14.2s\n",
      "516:\tlearn: 0.1088073\ttotal: 15.2s\tremaining: 14.2s\n",
      "517:\tlearn: 0.1084428\ttotal: 15.2s\tremaining: 14.2s\n",
      "518:\tlearn: 0.1082705\ttotal: 15.3s\tremaining: 14.1s\n",
      "519:\tlearn: 0.1079540\ttotal: 15.3s\tremaining: 14.1s\n",
      "520:\tlearn: 0.1076815\ttotal: 15.3s\tremaining: 14.1s\n",
      "521:\tlearn: 0.1073584\ttotal: 15.3s\tremaining: 14s\n",
      "522:\tlearn: 0.1070516\ttotal: 15.4s\tremaining: 14s\n",
      "523:\tlearn: 0.1069307\ttotal: 15.4s\tremaining: 14s\n",
      "524:\tlearn: 0.1067295\ttotal: 15.4s\tremaining: 14s\n",
      "525:\tlearn: 0.1067073\ttotal: 15.4s\tremaining: 13.9s\n",
      "526:\tlearn: 0.1064505\ttotal: 15.5s\tremaining: 13.9s\n",
      "527:\tlearn: 0.1063407\ttotal: 15.5s\tremaining: 13.9s\n",
      "528:\tlearn: 0.1063329\ttotal: 15.5s\tremaining: 13.8s\n",
      "529:\tlearn: 0.1063238\ttotal: 15.6s\tremaining: 13.8s\n",
      "530:\tlearn: 0.1062499\ttotal: 15.6s\tremaining: 13.8s\n",
      "531:\tlearn: 0.1061008\ttotal: 15.6s\tremaining: 13.7s\n",
      "532:\tlearn: 0.1060906\ttotal: 15.6s\tremaining: 13.7s\n",
      "533:\tlearn: 0.1058767\ttotal: 15.7s\tremaining: 13.7s\n",
      "534:\tlearn: 0.1057775\ttotal: 15.7s\tremaining: 13.6s\n",
      "535:\tlearn: 0.1057699\ttotal: 15.7s\tremaining: 13.6s\n",
      "536:\tlearn: 0.1055510\ttotal: 15.7s\tremaining: 13.6s\n",
      "537:\tlearn: 0.1053570\ttotal: 15.8s\tremaining: 13.5s\n",
      "538:\tlearn: 0.1053440\ttotal: 15.8s\tremaining: 13.5s\n",
      "539:\tlearn: 0.1051627\ttotal: 15.8s\tremaining: 13.5s\n",
      "540:\tlearn: 0.1049271\ttotal: 15.9s\tremaining: 13.5s\n",
      "541:\tlearn: 0.1046557\ttotal: 15.9s\tremaining: 13.4s\n",
      "542:\tlearn: 0.1044293\ttotal: 15.9s\tremaining: 13.4s\n",
      "543:\tlearn: 0.1044209\ttotal: 16s\tremaining: 13.4s\n",
      "544:\tlearn: 0.1044139\ttotal: 16s\tremaining: 13.4s\n",
      "545:\tlearn: 0.1043449\ttotal: 16s\tremaining: 13.3s\n",
      "546:\tlearn: 0.1041614\ttotal: 16.1s\tremaining: 13.3s\n",
      "547:\tlearn: 0.1038032\ttotal: 16.1s\tremaining: 13.3s\n",
      "548:\tlearn: 0.1037351\ttotal: 16.1s\tremaining: 13.2s\n",
      "549:\tlearn: 0.1036647\ttotal: 16.1s\tremaining: 13.2s\n",
      "550:\tlearn: 0.1033512\ttotal: 16.2s\tremaining: 13.2s\n",
      "551:\tlearn: 0.1032593\ttotal: 16.2s\tremaining: 13.1s\n",
      "552:\tlearn: 0.1032193\ttotal: 16.2s\tremaining: 13.1s\n",
      "553:\tlearn: 0.1030917\ttotal: 16.3s\tremaining: 13.1s\n",
      "554:\tlearn: 0.1030789\ttotal: 16.3s\tremaining: 13.1s\n",
      "555:\tlearn: 0.1030691\ttotal: 16.3s\tremaining: 13s\n",
      "556:\tlearn: 0.1030002\ttotal: 16.3s\tremaining: 13s\n",
      "557:\tlearn: 0.1028305\ttotal: 16.4s\tremaining: 13s\n",
      "558:\tlearn: 0.1028240\ttotal: 16.4s\tremaining: 12.9s\n",
      "559:\tlearn: 0.1023611\ttotal: 16.4s\tremaining: 12.9s\n",
      "560:\tlearn: 0.1019874\ttotal: 16.4s\tremaining: 12.9s\n",
      "561:\tlearn: 0.1019667\ttotal: 16.5s\tremaining: 12.8s\n",
      "562:\tlearn: 0.1018574\ttotal: 16.5s\tremaining: 12.8s\n",
      "563:\tlearn: 0.1018508\ttotal: 16.5s\tremaining: 12.8s\n",
      "564:\tlearn: 0.1018437\ttotal: 16.6s\tremaining: 12.8s\n",
      "565:\tlearn: 0.1015933\ttotal: 16.6s\tremaining: 12.7s\n",
      "566:\tlearn: 0.1013592\ttotal: 16.6s\tremaining: 12.7s\n",
      "567:\tlearn: 0.1011032\ttotal: 16.6s\tremaining: 12.7s\n",
      "568:\tlearn: 0.1010417\ttotal: 16.7s\tremaining: 12.6s\n",
      "569:\tlearn: 0.1010296\ttotal: 16.7s\tremaining: 12.6s\n",
      "570:\tlearn: 0.1009757\ttotal: 16.7s\tremaining: 12.6s\n",
      "571:\tlearn: 0.1009253\ttotal: 16.8s\tremaining: 12.5s\n",
      "572:\tlearn: 0.1009155\ttotal: 16.8s\tremaining: 12.5s\n",
      "573:\tlearn: 0.1008976\ttotal: 16.8s\tremaining: 12.5s\n",
      "574:\tlearn: 0.1005996\ttotal: 16.8s\tremaining: 12.5s\n",
      "575:\tlearn: 0.1003534\ttotal: 16.9s\tremaining: 12.4s\n",
      "576:\tlearn: 0.1003463\ttotal: 16.9s\tremaining: 12.4s\n",
      "577:\tlearn: 0.1002361\ttotal: 16.9s\tremaining: 12.4s\n",
      "578:\tlearn: 0.1000493\ttotal: 17s\tremaining: 12.3s\n",
      "579:\tlearn: 0.0998688\ttotal: 17s\tremaining: 12.3s\n",
      "580:\tlearn: 0.0998110\ttotal: 17s\tremaining: 12.3s\n",
      "581:\tlearn: 0.0998068\ttotal: 17s\tremaining: 12.2s\n",
      "582:\tlearn: 0.0996936\ttotal: 17.1s\tremaining: 12.2s\n",
      "583:\tlearn: 0.0995046\ttotal: 17.1s\tremaining: 12.2s\n",
      "584:\tlearn: 0.0993225\ttotal: 17.1s\tremaining: 12.2s\n",
      "585:\tlearn: 0.0992822\ttotal: 17.2s\tremaining: 12.1s\n",
      "586:\tlearn: 0.0992707\ttotal: 17.2s\tremaining: 12.1s\n",
      "587:\tlearn: 0.0991294\ttotal: 17.2s\tremaining: 12.1s\n",
      "588:\tlearn: 0.0991187\ttotal: 17.2s\tremaining: 12s\n",
      "589:\tlearn: 0.0988384\ttotal: 17.3s\tremaining: 12s\n",
      "590:\tlearn: 0.0987896\ttotal: 17.3s\tremaining: 12s\n",
      "591:\tlearn: 0.0985491\ttotal: 17.3s\tremaining: 11.9s\n",
      "592:\tlearn: 0.0982277\ttotal: 17.4s\tremaining: 11.9s\n",
      "593:\tlearn: 0.0980405\ttotal: 17.4s\tremaining: 11.9s\n",
      "594:\tlearn: 0.0979920\ttotal: 17.4s\tremaining: 11.9s\n",
      "595:\tlearn: 0.0979121\ttotal: 17.4s\tremaining: 11.8s\n",
      "596:\tlearn: 0.0979065\ttotal: 17.5s\tremaining: 11.8s\n",
      "597:\tlearn: 0.0978613\ttotal: 17.5s\tremaining: 11.8s\n",
      "598:\tlearn: 0.0977243\ttotal: 17.5s\tremaining: 11.7s\n",
      "599:\tlearn: 0.0975698\ttotal: 17.6s\tremaining: 11.7s\n",
      "600:\tlearn: 0.0975606\ttotal: 17.6s\tremaining: 11.7s\n",
      "601:\tlearn: 0.0971571\ttotal: 17.6s\tremaining: 11.6s\n",
      "602:\tlearn: 0.0971459\ttotal: 17.6s\tremaining: 11.6s\n",
      "603:\tlearn: 0.0970161\ttotal: 17.7s\tremaining: 11.6s\n",
      "604:\tlearn: 0.0969690\ttotal: 17.7s\tremaining: 11.6s\n",
      "605:\tlearn: 0.0969627\ttotal: 17.7s\tremaining: 11.5s\n",
      "606:\tlearn: 0.0968454\ttotal: 17.8s\tremaining: 11.5s\n",
      "607:\tlearn: 0.0967509\ttotal: 17.8s\tremaining: 11.5s\n",
      "608:\tlearn: 0.0965143\ttotal: 17.8s\tremaining: 11.4s\n",
      "609:\tlearn: 0.0964754\ttotal: 17.8s\tremaining: 11.4s\n",
      "610:\tlearn: 0.0964625\ttotal: 17.9s\tremaining: 11.4s\n",
      "611:\tlearn: 0.0963198\ttotal: 17.9s\tremaining: 11.3s\n",
      "612:\tlearn: 0.0963008\ttotal: 17.9s\tremaining: 11.3s\n",
      "613:\tlearn: 0.0961647\ttotal: 17.9s\tremaining: 11.3s\n",
      "614:\tlearn: 0.0961364\ttotal: 18s\tremaining: 11.3s\n",
      "615:\tlearn: 0.0959915\ttotal: 18s\tremaining: 11.2s\n",
      "616:\tlearn: 0.0956440\ttotal: 18s\tremaining: 11.2s\n",
      "617:\tlearn: 0.0954925\ttotal: 18.1s\tremaining: 11.2s\n",
      "618:\tlearn: 0.0954872\ttotal: 18.1s\tremaining: 11.1s\n",
      "619:\tlearn: 0.0954822\ttotal: 18.1s\tremaining: 11.1s\n",
      "620:\tlearn: 0.0954086\ttotal: 18.2s\tremaining: 11.1s\n",
      "621:\tlearn: 0.0953948\ttotal: 18.2s\tremaining: 11s\n",
      "622:\tlearn: 0.0953927\ttotal: 18.2s\tremaining: 11s\n",
      "623:\tlearn: 0.0952432\ttotal: 18.2s\tremaining: 11s\n",
      "624:\tlearn: 0.0952187\ttotal: 18.3s\tremaining: 11s\n",
      "625:\tlearn: 0.0949724\ttotal: 18.3s\tremaining: 10.9s\n",
      "626:\tlearn: 0.0949403\ttotal: 18.3s\tremaining: 10.9s\n",
      "627:\tlearn: 0.0948872\ttotal: 18.3s\tremaining: 10.9s\n",
      "628:\tlearn: 0.0948821\ttotal: 18.4s\tremaining: 10.8s\n",
      "629:\tlearn: 0.0947733\ttotal: 18.4s\tremaining: 10.8s\n",
      "630:\tlearn: 0.0947679\ttotal: 18.4s\tremaining: 10.8s\n",
      "631:\tlearn: 0.0947395\ttotal: 18.5s\tremaining: 10.7s\n",
      "632:\tlearn: 0.0944160\ttotal: 18.5s\tremaining: 10.7s\n",
      "633:\tlearn: 0.0942213\ttotal: 18.5s\tremaining: 10.7s\n",
      "634:\tlearn: 0.0940835\ttotal: 18.5s\tremaining: 10.7s\n",
      "635:\tlearn: 0.0940193\ttotal: 18.6s\tremaining: 10.6s\n",
      "636:\tlearn: 0.0938946\ttotal: 18.6s\tremaining: 10.6s\n",
      "637:\tlearn: 0.0938895\ttotal: 18.6s\tremaining: 10.6s\n",
      "638:\tlearn: 0.0937068\ttotal: 18.6s\tremaining: 10.5s\n",
      "639:\tlearn: 0.0936439\ttotal: 18.7s\tremaining: 10.5s\n",
      "640:\tlearn: 0.0936399\ttotal: 18.7s\tremaining: 10.5s\n",
      "641:\tlearn: 0.0934947\ttotal: 18.7s\tremaining: 10.4s\n",
      "642:\tlearn: 0.0934421\ttotal: 18.8s\tremaining: 10.4s\n",
      "643:\tlearn: 0.0933629\ttotal: 18.8s\tremaining: 10.4s\n",
      "644:\tlearn: 0.0932870\ttotal: 18.8s\tremaining: 10.4s\n"
     ]
    },
    {
     "name": "stdout",
     "output_type": "stream",
     "text": [
      "645:\tlearn: 0.0931394\ttotal: 18.9s\tremaining: 10.3s\n",
      "646:\tlearn: 0.0930210\ttotal: 18.9s\tremaining: 10.3s\n",
      "647:\tlearn: 0.0929062\ttotal: 18.9s\tremaining: 10.3s\n",
      "648:\tlearn: 0.0929008\ttotal: 18.9s\tremaining: 10.2s\n",
      "649:\tlearn: 0.0928962\ttotal: 19s\tremaining: 10.2s\n",
      "650:\tlearn: 0.0927549\ttotal: 19s\tremaining: 10.2s\n",
      "651:\tlearn: 0.0924052\ttotal: 19s\tremaining: 10.2s\n",
      "652:\tlearn: 0.0923335\ttotal: 19.1s\tremaining: 10.1s\n",
      "653:\tlearn: 0.0922352\ttotal: 19.1s\tremaining: 10.1s\n",
      "654:\tlearn: 0.0922079\ttotal: 19.1s\tremaining: 10.1s\n",
      "655:\tlearn: 0.0921461\ttotal: 19.1s\tremaining: 10s\n",
      "656:\tlearn: 0.0921275\ttotal: 19.2s\tremaining: 10s\n",
      "657:\tlearn: 0.0920639\ttotal: 19.2s\tremaining: 9.98s\n",
      "658:\tlearn: 0.0919368\ttotal: 19.2s\tremaining: 9.95s\n",
      "659:\tlearn: 0.0917994\ttotal: 19.3s\tremaining: 9.93s\n",
      "660:\tlearn: 0.0916407\ttotal: 19.3s\tremaining: 9.9s\n",
      "661:\tlearn: 0.0916145\ttotal: 19.3s\tremaining: 9.87s\n",
      "662:\tlearn: 0.0915931\ttotal: 19.4s\tremaining: 9.84s\n",
      "663:\tlearn: 0.0915842\ttotal: 19.4s\tremaining: 9.81s\n",
      "664:\tlearn: 0.0913994\ttotal: 19.4s\tremaining: 9.78s\n",
      "665:\tlearn: 0.0913530\ttotal: 19.4s\tremaining: 9.75s\n",
      "666:\tlearn: 0.0912885\ttotal: 19.5s\tremaining: 9.72s\n",
      "667:\tlearn: 0.0912011\ttotal: 19.5s\tremaining: 9.69s\n",
      "668:\tlearn: 0.0910717\ttotal: 19.5s\tremaining: 9.66s\n",
      "669:\tlearn: 0.0910335\ttotal: 19.6s\tremaining: 9.63s\n",
      "670:\tlearn: 0.0909578\ttotal: 19.6s\tremaining: 9.6s\n",
      "671:\tlearn: 0.0907341\ttotal: 19.6s\tremaining: 9.57s\n",
      "672:\tlearn: 0.0906872\ttotal: 19.6s\tremaining: 9.54s\n",
      "673:\tlearn: 0.0906598\ttotal: 19.7s\tremaining: 9.51s\n",
      "674:\tlearn: 0.0905269\ttotal: 19.7s\tremaining: 9.48s\n",
      "675:\tlearn: 0.0904956\ttotal: 19.7s\tremaining: 9.45s\n",
      "676:\tlearn: 0.0904866\ttotal: 19.8s\tremaining: 9.42s\n",
      "677:\tlearn: 0.0903738\ttotal: 19.8s\tremaining: 9.39s\n",
      "678:\tlearn: 0.0903669\ttotal: 19.8s\tremaining: 9.37s\n",
      "679:\tlearn: 0.0903415\ttotal: 19.8s\tremaining: 9.34s\n",
      "680:\tlearn: 0.0902639\ttotal: 19.9s\tremaining: 9.31s\n",
      "681:\tlearn: 0.0901436\ttotal: 19.9s\tremaining: 9.28s\n",
      "682:\tlearn: 0.0901193\ttotal: 19.9s\tremaining: 9.25s\n",
      "683:\tlearn: 0.0900870\ttotal: 20s\tremaining: 9.22s\n",
      "684:\tlearn: 0.0898450\ttotal: 20s\tremaining: 9.19s\n",
      "685:\tlearn: 0.0896319\ttotal: 20s\tremaining: 9.16s\n",
      "686:\tlearn: 0.0895303\ttotal: 20.1s\tremaining: 9.13s\n",
      "687:\tlearn: 0.0893703\ttotal: 20.1s\tremaining: 9.11s\n",
      "688:\tlearn: 0.0891485\ttotal: 20.1s\tremaining: 9.07s\n",
      "689:\tlearn: 0.0889632\ttotal: 20.1s\tremaining: 9.05s\n",
      "690:\tlearn: 0.0888356\ttotal: 20.2s\tremaining: 9.02s\n",
      "691:\tlearn: 0.0887715\ttotal: 20.2s\tremaining: 8.99s\n",
      "692:\tlearn: 0.0885839\ttotal: 20.2s\tremaining: 8.96s\n",
      "693:\tlearn: 0.0885288\ttotal: 20.3s\tremaining: 8.93s\n",
      "694:\tlearn: 0.0880370\ttotal: 20.3s\tremaining: 8.9s\n",
      "695:\tlearn: 0.0879508\ttotal: 20.3s\tremaining: 8.87s\n",
      "696:\tlearn: 0.0876297\ttotal: 20.3s\tremaining: 8.84s\n",
      "697:\tlearn: 0.0874886\ttotal: 20.4s\tremaining: 8.81s\n",
      "698:\tlearn: 0.0874764\ttotal: 20.4s\tremaining: 8.78s\n",
      "699:\tlearn: 0.0872772\ttotal: 20.4s\tremaining: 8.75s\n",
      "700:\tlearn: 0.0872257\ttotal: 20.4s\tremaining: 8.72s\n",
      "701:\tlearn: 0.0869542\ttotal: 20.5s\tremaining: 8.69s\n",
      "702:\tlearn: 0.0867702\ttotal: 20.5s\tremaining: 8.66s\n",
      "703:\tlearn: 0.0867206\ttotal: 20.5s\tremaining: 8.63s\n",
      "704:\tlearn: 0.0867168\ttotal: 20.6s\tremaining: 8.6s\n",
      "705:\tlearn: 0.0867055\ttotal: 20.6s\tremaining: 8.57s\n",
      "706:\tlearn: 0.0866264\ttotal: 20.6s\tremaining: 8.54s\n",
      "707:\tlearn: 0.0865566\ttotal: 20.6s\tremaining: 8.52s\n",
      "708:\tlearn: 0.0864583\ttotal: 20.7s\tremaining: 8.49s\n",
      "709:\tlearn: 0.0863236\ttotal: 20.7s\tremaining: 8.46s\n",
      "710:\tlearn: 0.0863197\ttotal: 20.7s\tremaining: 8.43s\n",
      "711:\tlearn: 0.0863152\ttotal: 20.8s\tremaining: 8.4s\n",
      "712:\tlearn: 0.0862674\ttotal: 20.8s\tremaining: 8.37s\n",
      "713:\tlearn: 0.0861263\ttotal: 20.8s\tremaining: 8.34s\n",
      "714:\tlearn: 0.0859833\ttotal: 20.8s\tremaining: 8.31s\n",
      "715:\tlearn: 0.0859750\ttotal: 20.9s\tremaining: 8.28s\n",
      "716:\tlearn: 0.0857642\ttotal: 20.9s\tremaining: 8.25s\n",
      "717:\tlearn: 0.0856560\ttotal: 20.9s\tremaining: 8.22s\n",
      "718:\tlearn: 0.0856526\ttotal: 21s\tremaining: 8.19s\n",
      "719:\tlearn: 0.0854948\ttotal: 21s\tremaining: 8.16s\n",
      "720:\tlearn: 0.0854846\ttotal: 21s\tremaining: 8.13s\n",
      "721:\tlearn: 0.0854793\ttotal: 21s\tremaining: 8.1s\n",
      "722:\tlearn: 0.0852491\ttotal: 21.1s\tremaining: 8.07s\n",
      "723:\tlearn: 0.0852411\ttotal: 21.1s\tremaining: 8.04s\n",
      "724:\tlearn: 0.0851690\ttotal: 21.1s\tremaining: 8.02s\n",
      "725:\tlearn: 0.0849207\ttotal: 21.2s\tremaining: 7.99s\n",
      "726:\tlearn: 0.0849180\ttotal: 21.2s\tremaining: 7.96s\n",
      "727:\tlearn: 0.0848903\ttotal: 21.2s\tremaining: 7.93s\n",
      "728:\tlearn: 0.0847080\ttotal: 21.2s\tremaining: 7.9s\n",
      "729:\tlearn: 0.0845223\ttotal: 21.3s\tremaining: 7.87s\n",
      "730:\tlearn: 0.0844611\ttotal: 21.3s\tremaining: 7.84s\n",
      "731:\tlearn: 0.0843323\ttotal: 21.3s\tremaining: 7.81s\n",
      "732:\tlearn: 0.0841285\ttotal: 21.4s\tremaining: 7.78s\n",
      "733:\tlearn: 0.0840039\ttotal: 21.4s\tremaining: 7.75s\n",
      "734:\tlearn: 0.0838541\ttotal: 21.4s\tremaining: 7.72s\n",
      "735:\tlearn: 0.0837789\ttotal: 21.4s\tremaining: 7.69s\n",
      "736:\tlearn: 0.0837746\ttotal: 21.5s\tremaining: 7.66s\n",
      "737:\tlearn: 0.0837681\ttotal: 21.5s\tremaining: 7.63s\n",
      "738:\tlearn: 0.0836856\ttotal: 21.5s\tremaining: 7.6s\n",
      "739:\tlearn: 0.0835249\ttotal: 21.6s\tremaining: 7.57s\n",
      "740:\tlearn: 0.0833804\ttotal: 21.6s\tremaining: 7.54s\n",
      "741:\tlearn: 0.0833349\ttotal: 21.6s\tremaining: 7.51s\n",
      "742:\tlearn: 0.0831809\ttotal: 21.6s\tremaining: 7.49s\n",
      "743:\tlearn: 0.0830182\ttotal: 21.7s\tremaining: 7.46s\n",
      "744:\tlearn: 0.0828167\ttotal: 21.7s\tremaining: 7.43s\n",
      "745:\tlearn: 0.0827382\ttotal: 21.7s\tremaining: 7.4s\n",
      "746:\tlearn: 0.0825952\ttotal: 21.8s\tremaining: 7.37s\n",
      "747:\tlearn: 0.0824938\ttotal: 21.8s\tremaining: 7.34s\n",
      "748:\tlearn: 0.0823694\ttotal: 21.8s\tremaining: 7.31s\n",
      "749:\tlearn: 0.0823502\ttotal: 21.8s\tremaining: 7.28s\n",
      "750:\tlearn: 0.0822832\ttotal: 21.9s\tremaining: 7.25s\n",
      "751:\tlearn: 0.0822807\ttotal: 21.9s\tremaining: 7.22s\n",
      "752:\tlearn: 0.0822655\ttotal: 21.9s\tremaining: 7.19s\n",
      "753:\tlearn: 0.0822513\ttotal: 22s\tremaining: 7.16s\n",
      "754:\tlearn: 0.0822481\ttotal: 22s\tremaining: 7.13s\n",
      "755:\tlearn: 0.0821770\ttotal: 22s\tremaining: 7.1s\n",
      "756:\tlearn: 0.0821239\ttotal: 22s\tremaining: 7.07s\n",
      "757:\tlearn: 0.0819933\ttotal: 22.1s\tremaining: 7.04s\n",
      "758:\tlearn: 0.0819251\ttotal: 22.1s\tremaining: 7.02s\n",
      "759:\tlearn: 0.0817691\ttotal: 22.1s\tremaining: 6.99s\n",
      "760:\tlearn: 0.0815827\ttotal: 22.2s\tremaining: 6.96s\n",
      "761:\tlearn: 0.0813659\ttotal: 22.2s\tremaining: 6.93s\n",
      "762:\tlearn: 0.0813574\ttotal: 22.2s\tremaining: 6.9s\n",
      "763:\tlearn: 0.0813035\ttotal: 22.2s\tremaining: 6.87s\n",
      "764:\tlearn: 0.0812020\ttotal: 22.3s\tremaining: 6.84s\n",
      "765:\tlearn: 0.0811071\ttotal: 22.3s\tremaining: 6.81s\n",
      "766:\tlearn: 0.0808387\ttotal: 22.3s\tremaining: 6.79s\n",
      "767:\tlearn: 0.0807549\ttotal: 22.4s\tremaining: 6.76s\n",
      "768:\tlearn: 0.0806729\ttotal: 22.4s\tremaining: 6.73s\n",
      "769:\tlearn: 0.0806488\ttotal: 22.4s\tremaining: 6.7s\n",
      "770:\tlearn: 0.0806350\ttotal: 22.4s\tremaining: 6.67s\n",
      "771:\tlearn: 0.0804776\ttotal: 22.5s\tremaining: 6.64s\n",
      "772:\tlearn: 0.0804452\ttotal: 22.5s\tremaining: 6.61s\n",
      "773:\tlearn: 0.0804075\ttotal: 22.5s\tremaining: 6.58s\n",
      "774:\tlearn: 0.0803933\ttotal: 22.6s\tremaining: 6.55s\n",
      "775:\tlearn: 0.0803853\ttotal: 22.6s\tremaining: 6.52s\n",
      "776:\tlearn: 0.0803805\ttotal: 22.6s\tremaining: 6.49s\n",
      "777:\tlearn: 0.0803052\ttotal: 22.6s\tremaining: 6.46s\n",
      "778:\tlearn: 0.0802680\ttotal: 22.7s\tremaining: 6.43s\n",
      "779:\tlearn: 0.0802066\ttotal: 22.7s\tremaining: 6.4s\n",
      "780:\tlearn: 0.0801936\ttotal: 22.7s\tremaining: 6.37s\n",
      "781:\tlearn: 0.0801090\ttotal: 22.8s\tremaining: 6.34s\n",
      "782:\tlearn: 0.0799057\ttotal: 22.8s\tremaining: 6.32s\n",
      "783:\tlearn: 0.0798478\ttotal: 22.8s\tremaining: 6.29s\n",
      "784:\tlearn: 0.0798391\ttotal: 22.8s\tremaining: 6.26s\n",
      "785:\tlearn: 0.0797678\ttotal: 22.9s\tremaining: 6.23s\n",
      "786:\tlearn: 0.0797203\ttotal: 22.9s\tremaining: 6.2s\n",
      "787:\tlearn: 0.0795820\ttotal: 22.9s\tremaining: 6.17s\n",
      "788:\tlearn: 0.0795230\ttotal: 23s\tremaining: 6.14s\n",
      "789:\tlearn: 0.0793547\ttotal: 23s\tremaining: 6.11s\n",
      "790:\tlearn: 0.0793484\ttotal: 23s\tremaining: 6.08s\n",
      "791:\tlearn: 0.0793447\ttotal: 23s\tremaining: 6.05s\n",
      "792:\tlearn: 0.0793323\ttotal: 23.1s\tremaining: 6.02s\n",
      "793:\tlearn: 0.0793075\ttotal: 23.1s\tremaining: 5.99s\n",
      "794:\tlearn: 0.0792173\ttotal: 23.1s\tremaining: 5.96s\n",
      "795:\tlearn: 0.0791704\ttotal: 23.2s\tremaining: 5.94s\n",
      "796:\tlearn: 0.0791649\ttotal: 23.2s\tremaining: 5.91s\n",
      "797:\tlearn: 0.0791526\ttotal: 23.2s\tremaining: 5.88s\n",
      "798:\tlearn: 0.0791507\ttotal: 23.3s\tremaining: 5.85s\n",
      "799:\tlearn: 0.0791194\ttotal: 23.3s\tremaining: 5.83s\n",
      "800:\tlearn: 0.0790218\ttotal: 23.3s\tremaining: 5.8s\n",
      "801:\tlearn: 0.0789818\ttotal: 23.4s\tremaining: 5.77s\n",
      "802:\tlearn: 0.0789689\ttotal: 23.4s\tremaining: 5.74s\n",
      "803:\tlearn: 0.0787796\ttotal: 23.4s\tremaining: 5.71s\n",
      "804:\tlearn: 0.0786849\ttotal: 23.5s\tremaining: 5.68s\n",
      "805:\tlearn: 0.0785814\ttotal: 23.5s\tremaining: 5.65s\n"
     ]
    },
    {
     "name": "stdout",
     "output_type": "stream",
     "text": [
      "806:\tlearn: 0.0785687\ttotal: 23.5s\tremaining: 5.62s\n",
      "807:\tlearn: 0.0785254\ttotal: 23.5s\tremaining: 5.59s\n",
      "808:\tlearn: 0.0784483\ttotal: 23.6s\tremaining: 5.56s\n",
      "809:\tlearn: 0.0784354\ttotal: 23.6s\tremaining: 5.53s\n",
      "810:\tlearn: 0.0784336\ttotal: 23.6s\tremaining: 5.5s\n",
      "811:\tlearn: 0.0784210\ttotal: 23.6s\tremaining: 5.47s\n",
      "812:\tlearn: 0.0783388\ttotal: 23.7s\tremaining: 5.45s\n",
      "813:\tlearn: 0.0781166\ttotal: 23.7s\tremaining: 5.42s\n",
      "814:\tlearn: 0.0781115\ttotal: 23.7s\tremaining: 5.39s\n",
      "815:\tlearn: 0.0781103\ttotal: 23.8s\tremaining: 5.36s\n",
      "816:\tlearn: 0.0780150\ttotal: 23.8s\tremaining: 5.33s\n",
      "817:\tlearn: 0.0779505\ttotal: 23.8s\tremaining: 5.3s\n",
      "818:\tlearn: 0.0777677\ttotal: 23.8s\tremaining: 5.27s\n",
      "819:\tlearn: 0.0777588\ttotal: 23.9s\tremaining: 5.24s\n",
      "820:\tlearn: 0.0777537\ttotal: 23.9s\tremaining: 5.21s\n",
      "821:\tlearn: 0.0777452\ttotal: 23.9s\tremaining: 5.18s\n",
      "822:\tlearn: 0.0776603\ttotal: 24s\tremaining: 5.15s\n",
      "823:\tlearn: 0.0776535\ttotal: 24s\tremaining: 5.12s\n",
      "824:\tlearn: 0.0776233\ttotal: 24s\tremaining: 5.09s\n",
      "825:\tlearn: 0.0772395\ttotal: 24s\tremaining: 5.06s\n",
      "826:\tlearn: 0.0772350\ttotal: 24.1s\tremaining: 5.04s\n",
      "827:\tlearn: 0.0771802\ttotal: 24.1s\tremaining: 5.01s\n",
      "828:\tlearn: 0.0771737\ttotal: 24.1s\tremaining: 4.98s\n",
      "829:\tlearn: 0.0771611\ttotal: 24.2s\tremaining: 4.95s\n",
      "830:\tlearn: 0.0770763\ttotal: 24.2s\tremaining: 4.92s\n",
      "831:\tlearn: 0.0770532\ttotal: 24.2s\tremaining: 4.89s\n",
      "832:\tlearn: 0.0770153\ttotal: 24.2s\tremaining: 4.86s\n",
      "833:\tlearn: 0.0769570\ttotal: 24.3s\tremaining: 4.83s\n",
      "834:\tlearn: 0.0769459\ttotal: 24.3s\tremaining: 4.8s\n",
      "835:\tlearn: 0.0768658\ttotal: 24.3s\tremaining: 4.77s\n",
      "836:\tlearn: 0.0768178\ttotal: 24.4s\tremaining: 4.74s\n",
      "837:\tlearn: 0.0767256\ttotal: 24.4s\tremaining: 4.71s\n",
      "838:\tlearn: 0.0764766\ttotal: 24.4s\tremaining: 4.68s\n",
      "839:\tlearn: 0.0764674\ttotal: 24.4s\tremaining: 4.66s\n",
      "840:\tlearn: 0.0764056\ttotal: 24.5s\tremaining: 4.63s\n",
      "841:\tlearn: 0.0763190\ttotal: 24.5s\tremaining: 4.6s\n",
      "842:\tlearn: 0.0762140\ttotal: 24.5s\tremaining: 4.57s\n",
      "843:\tlearn: 0.0762117\ttotal: 24.6s\tremaining: 4.54s\n",
      "844:\tlearn: 0.0760982\ttotal: 24.6s\tremaining: 4.51s\n",
      "845:\tlearn: 0.0759336\ttotal: 24.6s\tremaining: 4.48s\n",
      "846:\tlearn: 0.0757349\ttotal: 24.6s\tremaining: 4.45s\n",
      "847:\tlearn: 0.0756317\ttotal: 24.7s\tremaining: 4.42s\n",
      "848:\tlearn: 0.0754631\ttotal: 24.7s\tremaining: 4.39s\n",
      "849:\tlearn: 0.0753400\ttotal: 24.7s\tremaining: 4.37s\n",
      "850:\tlearn: 0.0751239\ttotal: 24.8s\tremaining: 4.33s\n",
      "851:\tlearn: 0.0750904\ttotal: 24.8s\tremaining: 4.31s\n",
      "852:\tlearn: 0.0750889\ttotal: 24.8s\tremaining: 4.28s\n",
      "853:\tlearn: 0.0750817\ttotal: 24.8s\tremaining: 4.25s\n",
      "854:\tlearn: 0.0748978\ttotal: 24.9s\tremaining: 4.22s\n",
      "855:\tlearn: 0.0748932\ttotal: 24.9s\tremaining: 4.19s\n",
      "856:\tlearn: 0.0746508\ttotal: 24.9s\tremaining: 4.16s\n",
      "857:\tlearn: 0.0745332\ttotal: 25s\tremaining: 4.13s\n",
      "858:\tlearn: 0.0745236\ttotal: 25s\tremaining: 4.1s\n",
      "859:\tlearn: 0.0745143\ttotal: 25s\tremaining: 4.07s\n",
      "860:\tlearn: 0.0745070\ttotal: 25s\tremaining: 4.04s\n",
      "861:\tlearn: 0.0745045\ttotal: 25.1s\tremaining: 4.01s\n",
      "862:\tlearn: 0.0743966\ttotal: 25.1s\tremaining: 3.98s\n",
      "863:\tlearn: 0.0743931\ttotal: 25.1s\tremaining: 3.95s\n",
      "864:\tlearn: 0.0743275\ttotal: 25.2s\tremaining: 3.92s\n",
      "865:\tlearn: 0.0742344\ttotal: 25.2s\tremaining: 3.9s\n",
      "866:\tlearn: 0.0742318\ttotal: 25.2s\tremaining: 3.87s\n",
      "867:\tlearn: 0.0740538\ttotal: 25.2s\tremaining: 3.84s\n",
      "868:\tlearn: 0.0740051\ttotal: 25.3s\tremaining: 3.81s\n",
      "869:\tlearn: 0.0738394\ttotal: 25.3s\tremaining: 3.78s\n",
      "870:\tlearn: 0.0738326\ttotal: 25.3s\tremaining: 3.75s\n",
      "871:\tlearn: 0.0737428\ttotal: 25.4s\tremaining: 3.72s\n",
      "872:\tlearn: 0.0736100\ttotal: 25.4s\tremaining: 3.69s\n",
      "873:\tlearn: 0.0735510\ttotal: 25.4s\tremaining: 3.66s\n",
      "874:\tlearn: 0.0735437\ttotal: 25.4s\tremaining: 3.63s\n",
      "875:\tlearn: 0.0733945\ttotal: 25.5s\tremaining: 3.61s\n",
      "876:\tlearn: 0.0733830\ttotal: 25.5s\tremaining: 3.58s\n",
      "877:\tlearn: 0.0732489\ttotal: 25.6s\tremaining: 3.55s\n",
      "878:\tlearn: 0.0731932\ttotal: 25.6s\tremaining: 3.52s\n",
      "879:\tlearn: 0.0730728\ttotal: 25.6s\tremaining: 3.49s\n",
      "880:\tlearn: 0.0730711\ttotal: 25.6s\tremaining: 3.46s\n",
      "881:\tlearn: 0.0730464\ttotal: 25.7s\tremaining: 3.43s\n",
      "882:\tlearn: 0.0728847\ttotal: 25.7s\tremaining: 3.4s\n",
      "883:\tlearn: 0.0728830\ttotal: 25.7s\tremaining: 3.38s\n",
      "884:\tlearn: 0.0728361\ttotal: 25.8s\tremaining: 3.35s\n",
      "885:\tlearn: 0.0727136\ttotal: 25.8s\tremaining: 3.32s\n",
      "886:\tlearn: 0.0726541\ttotal: 25.8s\tremaining: 3.29s\n",
      "887:\tlearn: 0.0725944\ttotal: 25.8s\tremaining: 3.26s\n",
      "888:\tlearn: 0.0724525\ttotal: 25.9s\tremaining: 3.23s\n",
      "889:\tlearn: 0.0724515\ttotal: 25.9s\tremaining: 3.2s\n",
      "890:\tlearn: 0.0724462\ttotal: 25.9s\tremaining: 3.17s\n",
      "891:\tlearn: 0.0722414\ttotal: 25.9s\tremaining: 3.14s\n",
      "892:\tlearn: 0.0721512\ttotal: 26s\tremaining: 3.11s\n",
      "893:\tlearn: 0.0720248\ttotal: 26s\tremaining: 3.08s\n",
      "894:\tlearn: 0.0719520\ttotal: 26.1s\tremaining: 3.06s\n",
      "895:\tlearn: 0.0718627\ttotal: 26.1s\tremaining: 3.03s\n",
      "896:\tlearn: 0.0718439\ttotal: 26.1s\tremaining: 3s\n",
      "897:\tlearn: 0.0717652\ttotal: 26.2s\tremaining: 2.97s\n",
      "898:\tlearn: 0.0716413\ttotal: 26.2s\tremaining: 2.94s\n",
      "899:\tlearn: 0.0714469\ttotal: 26.2s\tremaining: 2.91s\n",
      "900:\tlearn: 0.0714092\ttotal: 26.2s\tremaining: 2.88s\n",
      "901:\tlearn: 0.0713930\ttotal: 26.3s\tremaining: 2.85s\n",
      "902:\tlearn: 0.0712288\ttotal: 26.3s\tremaining: 2.82s\n",
      "903:\tlearn: 0.0711897\ttotal: 26.3s\tremaining: 2.79s\n",
      "904:\tlearn: 0.0711114\ttotal: 26.4s\tremaining: 2.77s\n",
      "905:\tlearn: 0.0709796\ttotal: 26.4s\tremaining: 2.74s\n",
      "906:\tlearn: 0.0709083\ttotal: 26.4s\tremaining: 2.71s\n",
      "907:\tlearn: 0.0707722\ttotal: 26.4s\tremaining: 2.68s\n",
      "908:\tlearn: 0.0707021\ttotal: 26.5s\tremaining: 2.65s\n",
      "909:\tlearn: 0.0705593\ttotal: 26.5s\tremaining: 2.62s\n",
      "910:\tlearn: 0.0704934\ttotal: 26.5s\tremaining: 2.59s\n",
      "911:\tlearn: 0.0704879\ttotal: 26.5s\tremaining: 2.56s\n",
      "912:\tlearn: 0.0704023\ttotal: 26.6s\tremaining: 2.53s\n",
      "913:\tlearn: 0.0702774\ttotal: 26.6s\tremaining: 2.5s\n",
      "914:\tlearn: 0.0702727\ttotal: 26.6s\tremaining: 2.47s\n",
      "915:\tlearn: 0.0701662\ttotal: 26.7s\tremaining: 2.44s\n",
      "916:\tlearn: 0.0701556\ttotal: 26.7s\tremaining: 2.42s\n",
      "917:\tlearn: 0.0701069\ttotal: 26.7s\tremaining: 2.39s\n",
      "918:\tlearn: 0.0700991\ttotal: 26.7s\tremaining: 2.36s\n",
      "919:\tlearn: 0.0700709\ttotal: 26.8s\tremaining: 2.33s\n",
      "920:\tlearn: 0.0699822\ttotal: 26.8s\tremaining: 2.3s\n",
      "921:\tlearn: 0.0699077\ttotal: 26.8s\tremaining: 2.27s\n",
      "922:\tlearn: 0.0698558\ttotal: 26.9s\tremaining: 2.24s\n",
      "923:\tlearn: 0.0696393\ttotal: 26.9s\tremaining: 2.21s\n",
      "924:\tlearn: 0.0696086\ttotal: 26.9s\tremaining: 2.18s\n",
      "925:\tlearn: 0.0695466\ttotal: 26.9s\tremaining: 2.15s\n",
      "926:\tlearn: 0.0695408\ttotal: 27s\tremaining: 2.12s\n",
      "927:\tlearn: 0.0694381\ttotal: 27s\tremaining: 2.09s\n",
      "928:\tlearn: 0.0694071\ttotal: 27s\tremaining: 2.07s\n",
      "929:\tlearn: 0.0693648\ttotal: 27.1s\tremaining: 2.04s\n",
      "930:\tlearn: 0.0691604\ttotal: 27.1s\tremaining: 2.01s\n",
      "931:\tlearn: 0.0690628\ttotal: 27.1s\tremaining: 1.98s\n",
      "932:\tlearn: 0.0689500\ttotal: 27.2s\tremaining: 1.95s\n",
      "933:\tlearn: 0.0687934\ttotal: 27.2s\tremaining: 1.92s\n",
      "934:\tlearn: 0.0687292\ttotal: 27.2s\tremaining: 1.89s\n",
      "935:\tlearn: 0.0686870\ttotal: 27.3s\tremaining: 1.86s\n",
      "936:\tlearn: 0.0686003\ttotal: 27.3s\tremaining: 1.83s\n",
      "937:\tlearn: 0.0685974\ttotal: 27.3s\tremaining: 1.8s\n",
      "938:\tlearn: 0.0685813\ttotal: 27.3s\tremaining: 1.78s\n",
      "939:\tlearn: 0.0685015\ttotal: 27.4s\tremaining: 1.75s\n",
      "940:\tlearn: 0.0684313\ttotal: 27.4s\tremaining: 1.72s\n",
      "941:\tlearn: 0.0680938\ttotal: 27.4s\tremaining: 1.69s\n",
      "942:\tlearn: 0.0680925\ttotal: 27.5s\tremaining: 1.66s\n",
      "943:\tlearn: 0.0680790\ttotal: 27.5s\tremaining: 1.63s\n",
      "944:\tlearn: 0.0679447\ttotal: 27.5s\tremaining: 1.6s\n",
      "945:\tlearn: 0.0678214\ttotal: 27.5s\tremaining: 1.57s\n",
      "946:\tlearn: 0.0676490\ttotal: 27.6s\tremaining: 1.54s\n",
      "947:\tlearn: 0.0676433\ttotal: 27.6s\tremaining: 1.51s\n",
      "948:\tlearn: 0.0675546\ttotal: 27.6s\tremaining: 1.48s\n",
      "949:\tlearn: 0.0672417\ttotal: 27.7s\tremaining: 1.46s\n",
      "950:\tlearn: 0.0671509\ttotal: 27.7s\tremaining: 1.43s\n",
      "951:\tlearn: 0.0671206\ttotal: 27.7s\tremaining: 1.4s\n",
      "952:\tlearn: 0.0670418\ttotal: 27.8s\tremaining: 1.37s\n",
      "953:\tlearn: 0.0669948\ttotal: 27.8s\tremaining: 1.34s\n",
      "954:\tlearn: 0.0669283\ttotal: 27.8s\tremaining: 1.31s\n",
      "955:\tlearn: 0.0669273\ttotal: 27.9s\tremaining: 1.28s\n",
      "956:\tlearn: 0.0667758\ttotal: 27.9s\tremaining: 1.25s\n",
      "957:\tlearn: 0.0667447\ttotal: 27.9s\tremaining: 1.22s\n",
      "958:\tlearn: 0.0667422\ttotal: 27.9s\tremaining: 1.19s\n",
      "959:\tlearn: 0.0666095\ttotal: 28s\tremaining: 1.17s\n",
      "960:\tlearn: 0.0665592\ttotal: 28s\tremaining: 1.14s\n",
      "961:\tlearn: 0.0664309\ttotal: 28s\tremaining: 1.11s\n",
      "962:\tlearn: 0.0662367\ttotal: 28.1s\tremaining: 1.08s\n",
      "963:\tlearn: 0.0661558\ttotal: 28.1s\tremaining: 1.05s\n",
      "964:\tlearn: 0.0661146\ttotal: 28.1s\tremaining: 1.02s\n",
      "965:\tlearn: 0.0660399\ttotal: 28.1s\tremaining: 990ms\n"
     ]
    },
    {
     "name": "stdout",
     "output_type": "stream",
     "text": [
      "966:\tlearn: 0.0659957\ttotal: 28.2s\tremaining: 961ms\n",
      "967:\tlearn: 0.0658501\ttotal: 28.2s\tremaining: 932ms\n",
      "968:\tlearn: 0.0657837\ttotal: 28.2s\tremaining: 903ms\n",
      "969:\tlearn: 0.0656486\ttotal: 28.2s\tremaining: 874ms\n",
      "970:\tlearn: 0.0655972\ttotal: 28.3s\tremaining: 844ms\n",
      "971:\tlearn: 0.0655902\ttotal: 28.3s\tremaining: 815ms\n",
      "972:\tlearn: 0.0655441\ttotal: 28.3s\tremaining: 786ms\n",
      "973:\tlearn: 0.0654280\ttotal: 28.4s\tremaining: 757ms\n",
      "974:\tlearn: 0.0651942\ttotal: 28.4s\tremaining: 728ms\n",
      "975:\tlearn: 0.0651633\ttotal: 28.4s\tremaining: 699ms\n",
      "976:\tlearn: 0.0649804\ttotal: 28.5s\tremaining: 670ms\n",
      "977:\tlearn: 0.0647893\ttotal: 28.5s\tremaining: 641ms\n",
      "978:\tlearn: 0.0647481\ttotal: 28.5s\tremaining: 612ms\n",
      "979:\tlearn: 0.0646246\ttotal: 28.6s\tremaining: 583ms\n",
      "980:\tlearn: 0.0644345\ttotal: 28.6s\tremaining: 554ms\n",
      "981:\tlearn: 0.0643039\ttotal: 28.6s\tremaining: 525ms\n",
      "982:\tlearn: 0.0642894\ttotal: 28.6s\tremaining: 495ms\n",
      "983:\tlearn: 0.0641622\ttotal: 28.7s\tremaining: 466ms\n",
      "984:\tlearn: 0.0641553\ttotal: 28.7s\tremaining: 437ms\n",
      "985:\tlearn: 0.0640092\ttotal: 28.7s\tremaining: 408ms\n",
      "986:\tlearn: 0.0639500\ttotal: 28.8s\tremaining: 379ms\n",
      "987:\tlearn: 0.0638696\ttotal: 28.8s\tremaining: 350ms\n",
      "988:\tlearn: 0.0638596\ttotal: 28.8s\tremaining: 320ms\n",
      "989:\tlearn: 0.0638534\ttotal: 28.8s\tremaining: 291ms\n",
      "990:\tlearn: 0.0638301\ttotal: 28.9s\tremaining: 262ms\n",
      "991:\tlearn: 0.0638186\ttotal: 28.9s\tremaining: 233ms\n",
      "992:\tlearn: 0.0636767\ttotal: 28.9s\tremaining: 204ms\n",
      "993:\tlearn: 0.0636704\ttotal: 29s\tremaining: 175ms\n",
      "994:\tlearn: 0.0636335\ttotal: 29s\tremaining: 146ms\n",
      "995:\tlearn: 0.0635729\ttotal: 29s\tremaining: 117ms\n",
      "996:\tlearn: 0.0634980\ttotal: 29s\tremaining: 87.4ms\n",
      "997:\tlearn: 0.0634748\ttotal: 29.1s\tremaining: 58.3ms\n",
      "998:\tlearn: 0.0633934\ttotal: 29.1s\tremaining: 29.1ms\n",
      "999:\tlearn: 0.0633170\ttotal: 29.1s\tremaining: 0us\n"
     ]
    },
    {
     "data": {
      "text/plain": [
       "<catboost.core.CatBoostClassifier at 0x271f363d518>"
      ]
     },
     "execution_count": 22,
     "metadata": {},
     "output_type": "execute_result"
    }
   ],
   "source": [
    "from catboost import CatBoostClassifier\n",
    "cat_model = CatBoostClassifier().fit(X_train, y_train)\n",
    "cat_model"
   ]
  },
  {
   "cell_type": "code",
   "execution_count": 23,
   "metadata": {},
   "outputs": [
    {
     "data": {
      "text/plain": [
       "0.9554455445544554"
      ]
     },
     "execution_count": 23,
     "metadata": {},
     "output_type": "execute_result"
    }
   ],
   "source": [
    "y_pred = cat_model.predict(X_test)\n",
    "accuracy_score(y_test,y_pred)"
   ]
  },
  {
   "cell_type": "code",
   "execution_count": 24,
   "metadata": {},
   "outputs": [
    {
     "name": "stdout",
     "output_type": "stream",
     "text": [
      "              precision    recall  f1-score   support\n",
      "\n",
      "           0       0.96      1.00      0.98       369\n",
      "           1       0.95      0.51      0.67        35\n",
      "\n",
      "    accuracy                           0.96       404\n",
      "   macro avg       0.95      0.76      0.82       404\n",
      "weighted avg       0.96      0.96      0.95       404\n",
      "\n"
     ]
    }
   ],
   "source": [
    "print(classification_report(y_test, y_pred))"
   ]
  },
  {
   "cell_type": "code",
   "execution_count": 25,
   "metadata": {},
   "outputs": [
    {
     "name": "stdout",
     "output_type": "stream",
     "text": [
      "Fitting 5 folds for each of 18 candidates, totalling 90 fits\n"
     ]
    },
    {
     "name": "stderr",
     "output_type": "stream",
     "text": [
      "[Parallel(n_jobs=-1)]: Using backend LokyBackend with 8 concurrent workers.\n",
      "[Parallel(n_jobs=-1)]: Done  25 tasks      | elapsed:  2.1min\n",
      "[Parallel(n_jobs=-1)]: Done  90 out of  90 | elapsed: 11.4min finished\n"
     ]
    },
    {
     "name": "stdout",
     "output_type": "stream",
     "text": [
      "0:\tlearn: 0.5856391\ttotal: 12.6ms\tremaining: 2.51s\n",
      "1:\tlearn: 0.5112116\ttotal: 25.5ms\tremaining: 2.52s\n",
      "2:\tlearn: 0.4538185\ttotal: 40.8ms\tremaining: 2.68s\n",
      "3:\tlearn: 0.4102345\ttotal: 52.4ms\tremaining: 2.57s\n",
      "4:\tlearn: 0.3688556\ttotal: 65ms\tremaining: 2.54s\n",
      "5:\tlearn: 0.3371046\ttotal: 77.5ms\tremaining: 2.51s\n",
      "6:\tlearn: 0.3166995\ttotal: 90.8ms\tremaining: 2.5s\n",
      "7:\tlearn: 0.2976020\ttotal: 103ms\tremaining: 2.48s\n",
      "8:\tlearn: 0.2808600\ttotal: 117ms\tremaining: 2.49s\n",
      "9:\tlearn: 0.2664500\ttotal: 132ms\tremaining: 2.51s\n",
      "10:\tlearn: 0.2561355\ttotal: 146ms\tremaining: 2.52s\n",
      "11:\tlearn: 0.2476573\ttotal: 162ms\tremaining: 2.54s\n",
      "12:\tlearn: 0.2406878\ttotal: 177ms\tremaining: 2.54s\n",
      "13:\tlearn: 0.2338790\ttotal: 191ms\tremaining: 2.53s\n",
      "14:\tlearn: 0.2278397\ttotal: 204ms\tremaining: 2.51s\n",
      "15:\tlearn: 0.2243617\ttotal: 216ms\tremaining: 2.48s\n",
      "16:\tlearn: 0.2185370\ttotal: 230ms\tremaining: 2.47s\n",
      "17:\tlearn: 0.2147765\ttotal: 243ms\tremaining: 2.46s\n",
      "18:\tlearn: 0.2127826\ttotal: 259ms\tremaining: 2.47s\n",
      "19:\tlearn: 0.2115593\ttotal: 273ms\tremaining: 2.46s\n",
      "20:\tlearn: 0.2080966\ttotal: 289ms\tremaining: 2.46s\n",
      "21:\tlearn: 0.2056373\ttotal: 302ms\tremaining: 2.44s\n",
      "22:\tlearn: 0.2043145\ttotal: 317ms\tremaining: 2.44s\n",
      "23:\tlearn: 0.2030473\ttotal: 329ms\tremaining: 2.41s\n",
      "24:\tlearn: 0.2013074\ttotal: 342ms\tremaining: 2.39s\n",
      "25:\tlearn: 0.1987274\ttotal: 356ms\tremaining: 2.38s\n",
      "26:\tlearn: 0.1974205\ttotal: 369ms\tremaining: 2.37s\n",
      "27:\tlearn: 0.1965406\ttotal: 385ms\tremaining: 2.36s\n",
      "28:\tlearn: 0.1950626\ttotal: 397ms\tremaining: 2.34s\n",
      "29:\tlearn: 0.1926708\ttotal: 411ms\tremaining: 2.33s\n",
      "30:\tlearn: 0.1909098\ttotal: 423ms\tremaining: 2.31s\n",
      "31:\tlearn: 0.1899472\ttotal: 436ms\tremaining: 2.29s\n",
      "32:\tlearn: 0.1883203\ttotal: 451ms\tremaining: 2.28s\n",
      "33:\tlearn: 0.1877951\ttotal: 463ms\tremaining: 2.26s\n",
      "34:\tlearn: 0.1866719\ttotal: 476ms\tremaining: 2.24s\n",
      "35:\tlearn: 0.1859916\ttotal: 488ms\tremaining: 2.22s\n",
      "36:\tlearn: 0.1844908\ttotal: 500ms\tremaining: 2.2s\n",
      "37:\tlearn: 0.1842646\ttotal: 513ms\tremaining: 2.19s\n",
      "38:\tlearn: 0.1829082\ttotal: 525ms\tremaining: 2.17s\n",
      "39:\tlearn: 0.1819359\ttotal: 537ms\tremaining: 2.15s\n",
      "40:\tlearn: 0.1811584\ttotal: 550ms\tremaining: 2.13s\n",
      "41:\tlearn: 0.1806590\ttotal: 562ms\tremaining: 2.12s\n",
      "42:\tlearn: 0.1789734\ttotal: 575ms\tremaining: 2.1s\n",
      "43:\tlearn: 0.1779005\ttotal: 587ms\tremaining: 2.08s\n",
      "44:\tlearn: 0.1770398\ttotal: 599ms\tremaining: 2.06s\n",
      "45:\tlearn: 0.1766967\ttotal: 612ms\tremaining: 2.05s\n",
      "46:\tlearn: 0.1758678\ttotal: 623ms\tremaining: 2.03s\n",
      "47:\tlearn: 0.1748122\ttotal: 635ms\tremaining: 2.01s\n",
      "48:\tlearn: 0.1741330\ttotal: 647ms\tremaining: 1.99s\n",
      "49:\tlearn: 0.1729386\ttotal: 660ms\tremaining: 1.98s\n",
      "50:\tlearn: 0.1721067\ttotal: 672ms\tremaining: 1.96s\n",
      "51:\tlearn: 0.1709514\ttotal: 684ms\tremaining: 1.95s\n",
      "52:\tlearn: 0.1699328\ttotal: 698ms\tremaining: 1.94s\n",
      "53:\tlearn: 0.1688865\ttotal: 711ms\tremaining: 1.92s\n",
      "54:\tlearn: 0.1681803\ttotal: 723ms\tremaining: 1.91s\n",
      "55:\tlearn: 0.1678688\ttotal: 736ms\tremaining: 1.89s\n",
      "56:\tlearn: 0.1665680\ttotal: 748ms\tremaining: 1.88s\n",
      "57:\tlearn: 0.1658665\ttotal: 760ms\tremaining: 1.86s\n",
      "58:\tlearn: 0.1649610\ttotal: 771ms\tremaining: 1.84s\n",
      "59:\tlearn: 0.1640913\ttotal: 783ms\tremaining: 1.83s\n",
      "60:\tlearn: 0.1633950\ttotal: 797ms\tremaining: 1.82s\n",
      "61:\tlearn: 0.1630921\ttotal: 810ms\tremaining: 1.8s\n",
      "62:\tlearn: 0.1625391\ttotal: 823ms\tremaining: 1.79s\n",
      "63:\tlearn: 0.1620453\ttotal: 837ms\tremaining: 1.78s\n",
      "64:\tlearn: 0.1616603\ttotal: 852ms\tremaining: 1.77s\n",
      "65:\tlearn: 0.1612703\ttotal: 864ms\tremaining: 1.75s\n",
      "66:\tlearn: 0.1604094\ttotal: 876ms\tremaining: 1.74s\n",
      "67:\tlearn: 0.1598044\ttotal: 888ms\tremaining: 1.72s\n",
      "68:\tlearn: 0.1595039\ttotal: 900ms\tremaining: 1.71s\n",
      "69:\tlearn: 0.1593376\ttotal: 912ms\tremaining: 1.69s\n",
      "70:\tlearn: 0.1588474\ttotal: 924ms\tremaining: 1.68s\n",
      "71:\tlearn: 0.1582884\ttotal: 936ms\tremaining: 1.66s\n",
      "72:\tlearn: 0.1578625\ttotal: 948ms\tremaining: 1.65s\n",
      "73:\tlearn: 0.1570295\ttotal: 961ms\tremaining: 1.64s\n",
      "74:\tlearn: 0.1565120\ttotal: 975ms\tremaining: 1.62s\n",
      "75:\tlearn: 0.1563423\ttotal: 990ms\tremaining: 1.61s\n",
      "76:\tlearn: 0.1559738\ttotal: 1s\tremaining: 1.6s\n",
      "77:\tlearn: 0.1554797\ttotal: 1.02s\tremaining: 1.59s\n",
      "78:\tlearn: 0.1553262\ttotal: 1.03s\tremaining: 1.58s\n",
      "79:\tlearn: 0.1551687\ttotal: 1.05s\tremaining: 1.57s\n",
      "80:\tlearn: 0.1545422\ttotal: 1.06s\tremaining: 1.56s\n",
      "81:\tlearn: 0.1544228\ttotal: 1.07s\tremaining: 1.54s\n",
      "82:\tlearn: 0.1541523\ttotal: 1.09s\tremaining: 1.54s\n",
      "83:\tlearn: 0.1530495\ttotal: 1.11s\tremaining: 1.53s\n",
      "84:\tlearn: 0.1527927\ttotal: 1.12s\tremaining: 1.51s\n",
      "85:\tlearn: 0.1513207\ttotal: 1.13s\tremaining: 1.5s\n",
      "86:\tlearn: 0.1506543\ttotal: 1.15s\tremaining: 1.49s\n",
      "87:\tlearn: 0.1503140\ttotal: 1.16s\tremaining: 1.48s\n",
      "88:\tlearn: 0.1497804\ttotal: 1.17s\tremaining: 1.46s\n",
      "89:\tlearn: 0.1492926\ttotal: 1.18s\tremaining: 1.45s\n",
      "90:\tlearn: 0.1486083\ttotal: 1.2s\tremaining: 1.43s\n",
      "91:\tlearn: 0.1479726\ttotal: 1.21s\tremaining: 1.42s\n",
      "92:\tlearn: 0.1470769\ttotal: 1.22s\tremaining: 1.41s\n",
      "93:\tlearn: 0.1466772\ttotal: 1.23s\tremaining: 1.39s\n",
      "94:\tlearn: 0.1457551\ttotal: 1.25s\tremaining: 1.38s\n",
      "95:\tlearn: 0.1451337\ttotal: 1.26s\tremaining: 1.36s\n",
      "96:\tlearn: 0.1445243\ttotal: 1.27s\tremaining: 1.35s\n",
      "97:\tlearn: 0.1443304\ttotal: 1.28s\tremaining: 1.33s\n",
      "98:\tlearn: 0.1440250\ttotal: 1.29s\tremaining: 1.32s\n",
      "99:\tlearn: 0.1431426\ttotal: 1.31s\tremaining: 1.31s\n",
      "100:\tlearn: 0.1424465\ttotal: 1.32s\tremaining: 1.29s\n",
      "101:\tlearn: 0.1418796\ttotal: 1.33s\tremaining: 1.28s\n",
      "102:\tlearn: 0.1416243\ttotal: 1.34s\tremaining: 1.26s\n",
      "103:\tlearn: 0.1414634\ttotal: 1.35s\tremaining: 1.25s\n",
      "104:\tlearn: 0.1409814\ttotal: 1.37s\tremaining: 1.24s\n",
      "105:\tlearn: 0.1402327\ttotal: 1.38s\tremaining: 1.22s\n",
      "106:\tlearn: 0.1394821\ttotal: 1.39s\tremaining: 1.21s\n",
      "107:\tlearn: 0.1386561\ttotal: 1.4s\tremaining: 1.19s\n",
      "108:\tlearn: 0.1380926\ttotal: 1.41s\tremaining: 1.18s\n",
      "109:\tlearn: 0.1376791\ttotal: 1.43s\tremaining: 1.17s\n",
      "110:\tlearn: 0.1374508\ttotal: 1.44s\tremaining: 1.16s\n",
      "111:\tlearn: 0.1364268\ttotal: 1.45s\tremaining: 1.14s\n",
      "112:\tlearn: 0.1360385\ttotal: 1.47s\tremaining: 1.13s\n",
      "113:\tlearn: 0.1352896\ttotal: 1.48s\tremaining: 1.11s\n",
      "114:\tlearn: 0.1349983\ttotal: 1.49s\tremaining: 1.1s\n",
      "115:\tlearn: 0.1344544\ttotal: 1.5s\tremaining: 1.09s\n",
      "116:\tlearn: 0.1338829\ttotal: 1.51s\tremaining: 1.07s\n",
      "117:\tlearn: 0.1337975\ttotal: 1.53s\tremaining: 1.06s\n",
      "118:\tlearn: 0.1335714\ttotal: 1.54s\tremaining: 1.05s\n",
      "119:\tlearn: 0.1329747\ttotal: 1.55s\tremaining: 1.03s\n",
      "120:\tlearn: 0.1323745\ttotal: 1.56s\tremaining: 1.02s\n",
      "121:\tlearn: 0.1320497\ttotal: 1.57s\tremaining: 1.01s\n",
      "122:\tlearn: 0.1318952\ttotal: 1.59s\tremaining: 993ms\n",
      "123:\tlearn: 0.1314881\ttotal: 1.6s\tremaining: 980ms\n",
      "124:\tlearn: 0.1312010\ttotal: 1.61s\tremaining: 966ms\n",
      "125:\tlearn: 0.1307989\ttotal: 1.62s\tremaining: 953ms\n",
      "126:\tlearn: 0.1299902\ttotal: 1.63s\tremaining: 939ms\n",
      "127:\tlearn: 0.1298599\ttotal: 1.65s\tremaining: 926ms\n",
      "128:\tlearn: 0.1294547\ttotal: 1.66s\tremaining: 913ms\n",
      "129:\tlearn: 0.1291121\ttotal: 1.67s\tremaining: 899ms\n",
      "130:\tlearn: 0.1289938\ttotal: 1.68s\tremaining: 886ms\n",
      "131:\tlearn: 0.1287472\ttotal: 1.69s\tremaining: 873ms\n",
      "132:\tlearn: 0.1280979\ttotal: 1.71s\tremaining: 860ms\n",
      "133:\tlearn: 0.1277553\ttotal: 1.72s\tremaining: 847ms\n",
      "134:\tlearn: 0.1273299\ttotal: 1.73s\tremaining: 833ms\n",
      "135:\tlearn: 0.1270594\ttotal: 1.74s\tremaining: 820ms\n",
      "136:\tlearn: 0.1266170\ttotal: 1.75s\tremaining: 807ms\n",
      "137:\tlearn: 0.1260715\ttotal: 1.77s\tremaining: 794ms\n",
      "138:\tlearn: 0.1257021\ttotal: 1.78s\tremaining: 781ms\n",
      "139:\tlearn: 0.1254012\ttotal: 1.79s\tremaining: 768ms\n",
      "140:\tlearn: 0.1252511\ttotal: 1.81s\tremaining: 756ms\n",
      "141:\tlearn: 0.1250260\ttotal: 1.82s\tremaining: 744ms\n",
      "142:\tlearn: 0.1245814\ttotal: 1.83s\tremaining: 731ms\n",
      "143:\tlearn: 0.1239825\ttotal: 1.85s\tremaining: 719ms\n",
      "144:\tlearn: 0.1236750\ttotal: 1.86s\tremaining: 706ms\n",
      "145:\tlearn: 0.1234464\ttotal: 1.87s\tremaining: 693ms\n",
      "146:\tlearn: 0.1230868\ttotal: 1.89s\tremaining: 680ms\n",
      "147:\tlearn: 0.1226874\ttotal: 1.9s\tremaining: 667ms\n",
      "148:\tlearn: 0.1222086\ttotal: 1.91s\tremaining: 655ms\n",
      "149:\tlearn: 0.1218568\ttotal: 1.93s\tremaining: 643ms\n",
      "150:\tlearn: 0.1214385\ttotal: 1.94s\tremaining: 629ms\n",
      "151:\tlearn: 0.1209581\ttotal: 1.95s\tremaining: 617ms\n",
      "152:\tlearn: 0.1203716\ttotal: 1.97s\tremaining: 604ms\n",
      "153:\tlearn: 0.1202501\ttotal: 1.98s\tremaining: 591ms\n",
      "154:\tlearn: 0.1199844\ttotal: 1.99s\tremaining: 578ms\n",
      "155:\tlearn: 0.1191739\ttotal: 2s\tremaining: 565ms\n",
      "156:\tlearn: 0.1190122\ttotal: 2.02s\tremaining: 553ms\n",
      "157:\tlearn: 0.1188209\ttotal: 2.03s\tremaining: 540ms\n",
      "158:\tlearn: 0.1184825\ttotal: 2.04s\tremaining: 527ms\n",
      "159:\tlearn: 0.1182009\ttotal: 2.06s\tremaining: 515ms\n",
      "160:\tlearn: 0.1179584\ttotal: 2.07s\tremaining: 502ms\n",
      "161:\tlearn: 0.1177835\ttotal: 2.08s\tremaining: 489ms\n",
      "162:\tlearn: 0.1172989\ttotal: 2.1s\tremaining: 476ms\n",
      "163:\tlearn: 0.1170311\ttotal: 2.11s\tremaining: 463ms\n",
      "164:\tlearn: 0.1169129\ttotal: 2.12s\tremaining: 450ms\n",
      "165:\tlearn: 0.1165995\ttotal: 2.13s\tremaining: 437ms\n",
      "166:\tlearn: 0.1164710\ttotal: 2.14s\tremaining: 424ms\n",
      "167:\tlearn: 0.1162668\ttotal: 2.16s\tremaining: 411ms\n",
      "168:\tlearn: 0.1159464\ttotal: 2.17s\tremaining: 398ms\n",
      "169:\tlearn: 0.1154641\ttotal: 2.18s\tremaining: 385ms\n",
      "170:\tlearn: 0.1152603\ttotal: 2.19s\tremaining: 372ms\n"
     ]
    },
    {
     "name": "stdout",
     "output_type": "stream",
     "text": [
      "171:\tlearn: 0.1146152\ttotal: 2.21s\tremaining: 359ms\n",
      "172:\tlearn: 0.1144974\ttotal: 2.22s\tremaining: 346ms\n",
      "173:\tlearn: 0.1143124\ttotal: 2.23s\tremaining: 333ms\n",
      "174:\tlearn: 0.1140213\ttotal: 2.24s\tremaining: 320ms\n",
      "175:\tlearn: 0.1138943\ttotal: 2.25s\tremaining: 307ms\n",
      "176:\tlearn: 0.1135951\ttotal: 2.27s\tremaining: 295ms\n",
      "177:\tlearn: 0.1133649\ttotal: 2.28s\tremaining: 282ms\n",
      "178:\tlearn: 0.1128725\ttotal: 2.29s\tremaining: 269ms\n",
      "179:\tlearn: 0.1124165\ttotal: 2.31s\tremaining: 256ms\n",
      "180:\tlearn: 0.1120113\ttotal: 2.32s\tremaining: 243ms\n",
      "181:\tlearn: 0.1118148\ttotal: 2.33s\tremaining: 231ms\n",
      "182:\tlearn: 0.1115541\ttotal: 2.34s\tremaining: 218ms\n",
      "183:\tlearn: 0.1110776\ttotal: 2.36s\tremaining: 205ms\n",
      "184:\tlearn: 0.1106868\ttotal: 2.37s\tremaining: 192ms\n",
      "185:\tlearn: 0.1105484\ttotal: 2.38s\tremaining: 179ms\n",
      "186:\tlearn: 0.1100690\ttotal: 2.39s\tremaining: 166ms\n",
      "187:\tlearn: 0.1099721\ttotal: 2.4s\tremaining: 153ms\n",
      "188:\tlearn: 0.1095808\ttotal: 2.42s\tremaining: 141ms\n",
      "189:\tlearn: 0.1090437\ttotal: 2.43s\tremaining: 128ms\n",
      "190:\tlearn: 0.1084336\ttotal: 2.44s\tremaining: 115ms\n",
      "191:\tlearn: 0.1081238\ttotal: 2.46s\tremaining: 102ms\n",
      "192:\tlearn: 0.1078389\ttotal: 2.47s\tremaining: 89.5ms\n",
      "193:\tlearn: 0.1077208\ttotal: 2.48s\tremaining: 76.8ms\n",
      "194:\tlearn: 0.1073118\ttotal: 2.5s\tremaining: 64ms\n",
      "195:\tlearn: 0.1070540\ttotal: 2.51s\tremaining: 51.2ms\n",
      "196:\tlearn: 0.1069684\ttotal: 2.52s\tremaining: 38.4ms\n",
      "197:\tlearn: 0.1063564\ttotal: 2.53s\tremaining: 25.6ms\n",
      "198:\tlearn: 0.1056309\ttotal: 2.55s\tremaining: 12.8ms\n",
      "199:\tlearn: 0.1051100\ttotal: 2.56s\tremaining: 0us\n"
     ]
    },
    {
     "data": {
      "text/plain": [
       "GridSearchCV(cv=5, error_score='raise-deprecating',\n",
       "             estimator=<catboost.core.CatBoostClassifier object at 0x00000271F36F82B0>,\n",
       "             iid='warn', n_jobs=-1,\n",
       "             param_grid={'depth': [3, 5, 8], 'iterations': [200, 500],\n",
       "                         'learning_rate': [0.01, 0.05, 0.1]},\n",
       "             pre_dispatch='2*n_jobs', refit=True, return_train_score=False,\n",
       "             scoring=None, verbose=2)"
      ]
     },
     "execution_count": 25,
     "metadata": {},
     "output_type": "execute_result"
    }
   ],
   "source": [
    "catb_params = {'iterations':[200,500],'learning_rate':[0.01, 0.05, 0.1],'depth':[3,5,8]}\n",
    "catb = CatBoostClassifier()\n",
    "catb_cv_model = GridSearchCV(catb, catb_params, cv=5,n_jobs=-1,verbose=2)\n",
    "catb_cv_model.fit(X_train,y_train)"
   ]
  },
  {
   "cell_type": "code",
   "execution_count": 32,
   "metadata": {},
   "outputs": [
    {
     "name": "stdout",
     "output_type": "stream",
     "text": [
      "Best parameters : {'depth': 3, 'iterations': 200, 'learning_rate': 0.1}\n"
     ]
    }
   ],
   "source": [
    "print('Best parameters :', catb_cv_model.best_params_)"
   ]
  },
  {
   "cell_type": "code",
   "execution_count": 36,
   "metadata": {},
   "outputs": [
    {
     "data": {
      "text/plain": [
       "0.9455445544554455"
      ]
     },
     "execution_count": 36,
     "metadata": {},
     "output_type": "execute_result"
    }
   ],
   "source": [
    "catb = XGBClassifier(cat_features = catb_cv_model.best_params_)\n",
    "catb_tuned = catb.fit(X_train, y_train)\n",
    "y_pred = catb_tuned.predict(X_test)\n",
    "accuracy_score(y_test, y_pred)"
   ]
  },
  {
   "cell_type": "code",
   "execution_count": 37,
   "metadata": {},
   "outputs": [
    {
     "name": "stdout",
     "output_type": "stream",
     "text": [
      "              precision    recall  f1-score   support\n",
      "\n",
      "           0       0.95      1.00      0.97       369\n",
      "           1       0.93      0.40      0.56        35\n",
      "\n",
      "    accuracy                           0.95       404\n",
      "   macro avg       0.94      0.70      0.77       404\n",
      "weighted avg       0.94      0.95      0.94       404\n",
      "\n"
     ]
    }
   ],
   "source": [
    "print(classification_report(y_test, y_pred))"
   ]
  },
  {
   "cell_type": "markdown",
   "metadata": {},
   "source": [
    "# ANN"
   ]
  },
  {
   "cell_type": "code",
   "execution_count": 38,
   "metadata": {},
   "outputs": [],
   "source": [
    "from sklearn.preprocessing import StandardScaler\n",
    "scaler = StandardScaler()\n",
    "# Transformation of the data\n",
    "scaler.fit(X_train)\n",
    "X_train_scaled = scaler.transform(X_train)\n",
    "X_test_scaled = scaler.transform(X_test)"
   ]
  },
  {
   "cell_type": "code",
   "execution_count": 39,
   "metadata": {},
   "outputs": [
    {
     "data": {
      "text/plain": [
       "array([[ 0.68941255,  0.43085191,  0.47278238, -1.19625189,  1.56477931,\n",
       "        -0.33077825,  0.08497539,  0.54812556,  1.54776915,  0.12368953,\n",
       "         0.64000546, -0.39517143, -0.44821073,  1.69975193, -0.12795623,\n",
       "        -0.17318666],\n",
       "       [ 0.22402982,  0.78514133,  1.32140428, -0.40593238, -0.27466265,\n",
       "        -0.33077825,  0.38291777,  1.7509463 ,  0.1817688 ,  1.05157074,\n",
       "         0.64000546, -0.39517143,  2.2310934 , -0.58832114, -0.12795623,\n",
       "        -0.17318666],\n",
       "       [-0.17747685,  1.07182394,  0.99841583, -0.66937222, -0.27466265,\n",
       "        -0.33077825, -0.28762812, -0.65469518, -0.13346205, -0.98016717,\n",
       "         0.64000546, -0.39517143,  2.2310934 , -0.58832114, -0.12795623,\n",
       "        -0.17318666],\n",
       "       [-0.25047806, -1.2014695 ,  1.08722937, -0.01077263, -0.27466265,\n",
       "        -0.33077825,  1.45637631, -0.65469518,  0.49699965, -0.76576556,\n",
       "        -1.56248667, -0.39517143, -0.44821073, -0.58832114, -0.12795623,\n",
       "         5.77411686],\n",
       "       [-1.08086685,  0.51487143,  0.17545567,  1.70158629, -0.27466265,\n",
       "        -0.33077825, -0.72412658, -0.65469518, -1.18423155,  0.40640423,\n",
       "        -1.56248667, -0.39517143,  2.2310934 , -0.58832114, -0.12795623,\n",
       "        -0.17318666]])"
      ]
     },
     "execution_count": 39,
     "metadata": {},
     "output_type": "execute_result"
    }
   ],
   "source": [
    "X_test_scaled[0:5]"
   ]
  },
  {
   "cell_type": "code",
   "execution_count": 40,
   "metadata": {},
   "outputs": [
    {
     "name": "stderr",
     "output_type": "stream",
     "text": [
      "C:\\Users\\ihkar\\Anaconda3\\lib\\site-packages\\sklearn\\neural_network\\multilayer_perceptron.py:566: ConvergenceWarning: Stochastic Optimizer: Maximum iterations (200) reached and the optimization hasn't converged yet.\n",
      "  % self.max_iter, ConvergenceWarning)\n"
     ]
    },
    {
     "data": {
      "text/plain": [
       "MLPClassifier(activation='relu', alpha=0.0001, batch_size='auto', beta_1=0.9,\n",
       "              beta_2=0.999, early_stopping=False, epsilon=1e-08,\n",
       "              hidden_layer_sizes=(100,), learning_rate='constant',\n",
       "              learning_rate_init=0.001, max_iter=200, momentum=0.9,\n",
       "              n_iter_no_change=10, nesterovs_momentum=True, power_t=0.5,\n",
       "              random_state=None, shuffle=True, solver='adam', tol=0.0001,\n",
       "              validation_fraction=0.1, verbose=False, warm_start=False)"
      ]
     },
     "execution_count": 40,
     "metadata": {},
     "output_type": "execute_result"
    }
   ],
   "source": [
    "from sklearn.neural_network import MLPClassifier\n",
    "mlpc = MLPClassifier(max_iter=200).fit(X_train_scaled, y_train)\n",
    "mlpc"
   ]
  },
  {
   "cell_type": "code",
   "execution_count": 41,
   "metadata": {},
   "outputs": [
    {
     "data": {
      "text/plain": [
       "0.9405940594059405"
      ]
     },
     "execution_count": 41,
     "metadata": {},
     "output_type": "execute_result"
    }
   ],
   "source": [
    "y_pred = mlpc.predict(X_test_scaled)\n",
    "accuracy_score(y_pred, y_test)"
   ]
  },
  {
   "cell_type": "code",
   "execution_count": 43,
   "metadata": {},
   "outputs": [
    {
     "name": "stdout",
     "output_type": "stream",
     "text": [
      "Fitting 10 folds for each of 180 candidates, totalling 1800 fits\n"
     ]
    },
    {
     "name": "stderr",
     "output_type": "stream",
     "text": [
      "[Parallel(n_jobs=-1)]: Using backend LokyBackend with 8 concurrent workers.\n",
      "[Parallel(n_jobs=-1)]: Done  25 tasks      | elapsed:    6.9s\n",
      "[Parallel(n_jobs=-1)]: Done 146 tasks      | elapsed:  1.1min\n",
      "[Parallel(n_jobs=-1)]: Done 349 tasks      | elapsed:  2.3min\n",
      "[Parallel(n_jobs=-1)]: Done 632 tasks      | elapsed:  3.7min\n",
      "[Parallel(n_jobs=-1)]: Done 997 tasks      | elapsed:  5.9min\n",
      "[Parallel(n_jobs=-1)]: Done 1442 tasks      | elapsed:  8.5min\n",
      "[Parallel(n_jobs=-1)]: Done 1800 out of 1800 | elapsed: 10.3min finished\n",
      "C:\\Users\\ihkar\\Anaconda3\\lib\\site-packages\\sklearn\\neural_network\\multilayer_perceptron.py:566: ConvergenceWarning: Stochastic Optimizer: Maximum iterations (200) reached and the optimization hasn't converged yet.\n",
      "  % self.max_iter, ConvergenceWarning)\n"
     ]
    },
    {
     "data": {
      "text/plain": [
       "GridSearchCV(cv=10, error_score='raise-deprecating',\n",
       "             estimator=MLPClassifier(activation='relu', alpha=0.0001,\n",
       "                                     batch_size='auto', beta_1=0.9,\n",
       "                                     beta_2=0.999, early_stopping=False,\n",
       "                                     epsilon=1e-08, hidden_layer_sizes=(100,),\n",
       "                                     learning_rate='constant',\n",
       "                                     learning_rate_init=0.001, max_iter=200,\n",
       "                                     momentum=0.9, n_iter_no_change=10,\n",
       "                                     nesterovs_momentum=True, power_t=0.5,\n",
       "                                     random_st...\n",
       "                                     validation_fraction=0.1, verbose=False,\n",
       "                                     warm_start=False),\n",
       "             iid='warn', n_jobs=-1,\n",
       "             param_grid={'activation': ['relu', 'logistic'],\n",
       "                         'alpha': [0.1, 0.01, 0.02, 0.005, 0.0001, 1e-05],\n",
       "                         'hidden_layer_sizes': [(10, 10, 10), (100, 100),\n",
       "                                                (100, 100, 100), (3, 5),\n",
       "                                                (5, 3)],\n",
       "                         'solver': ['lbfgs', 'adam', 'sgd']},\n",
       "             pre_dispatch='2*n_jobs', refit=True, return_train_score=False,\n",
       "             scoring=None, verbose=2)"
      ]
     },
     "execution_count": 43,
     "metadata": {},
     "output_type": "execute_result"
    }
   ],
   "source": [
    "mlpc_params = {\"alpha\": [0.1, 0.01, 0.02, 0.005, 0.0001,0.00001],\n",
    "              \"hidden_layer_sizes\": [(10,10,10),\n",
    "                                     (100,100),\n",
    "                                     (100,100,100),\n",
    "                                     (3,5), \n",
    "                                     (5, 3)],\n",
    "              \"solver\" : [\"lbfgs\",\"adam\",\"sgd\"],\n",
    "              \"activation\": [\"relu\",\"logistic\"]}\n",
    "mlpc = MLPClassifier()\n",
    "mlpc_cv_model = GridSearchCV(mlpc, mlpc_params, cv=10, n_jobs=-1, verbose=2)\n",
    "mlpc_cv_model.fit(X_train_scaled,y_train)"
   ]
  },
  {
   "cell_type": "code",
   "execution_count": 44,
   "metadata": {},
   "outputs": [
    {
     "name": "stdout",
     "output_type": "stream",
     "text": [
      "En iyi parametreler: {'activation': 'relu', 'alpha': 0.005, 'hidden_layer_sizes': (100, 100), 'solver': 'adam'}\n"
     ]
    }
   ],
   "source": [
    "print('En iyi parametreler: '+str(mlpc_cv_model.best_params_))"
   ]
  },
  {
   "cell_type": "code",
   "execution_count": 49,
   "metadata": {},
   "outputs": [
    {
     "name": "stderr",
     "output_type": "stream",
     "text": [
      "C:\\Users\\ihkar\\Anaconda3\\lib\\site-packages\\sklearn\\neural_network\\multilayer_perceptron.py:566: ConvergenceWarning: Stochastic Optimizer: Maximum iterations (200) reached and the optimization hasn't converged yet.\n",
      "  % self.max_iter, ConvergenceWarning)\n"
     ]
    }
   ],
   "source": [
    "mlpc = MLPClassifier(activation='relu',alpha=0.005, hidden_layer_sizes= (100,100), solver = 'adam' )\n",
    "mlpc_tuned = mlpc.fit(X_train_scaled, y_train)"
   ]
  },
  {
   "cell_type": "code",
   "execution_count": 50,
   "metadata": {},
   "outputs": [
    {
     "data": {
      "text/plain": [
       "0.9504950495049505"
      ]
     },
     "execution_count": 50,
     "metadata": {},
     "output_type": "execute_result"
    }
   ],
   "source": [
    "y_pred = mlpc_tuned.predict(X_test_scaled)\n",
    "accuracy_score(y_test, y_pred)"
   ]
  },
  {
   "cell_type": "code",
   "execution_count": 51,
   "metadata": {},
   "outputs": [
    {
     "name": "stdout",
     "output_type": "stream",
     "text": [
      "              precision    recall  f1-score   support\n",
      "\n",
      "           0       0.95      1.00      0.97       369\n",
      "           1       0.94      0.46      0.62        35\n",
      "\n",
      "    accuracy                           0.95       404\n",
      "   macro avg       0.95      0.73      0.79       404\n",
      "weighted avg       0.95      0.95      0.94       404\n",
      "\n"
     ]
    }
   ],
   "source": [
    "print(classification_report(y_test, y_pred))"
   ]
  },
  {
   "cell_type": "markdown",
   "metadata": {},
   "source": [
    "# SVM"
   ]
  },
  {
   "cell_type": "code",
   "execution_count": 52,
   "metadata": {},
   "outputs": [
    {
     "data": {
      "text/plain": [
       "SVC(C=1.0, cache_size=200, class_weight=None, coef0=0.0,\n",
       "    decision_function_shape='ovr', degree=3, gamma='auto_deprecated',\n",
       "    kernel='linear', max_iter=-1, probability=False, random_state=None,\n",
       "    shrinking=True, tol=0.001, verbose=False)"
      ]
     },
     "execution_count": 52,
     "metadata": {},
     "output_type": "execute_result"
    }
   ],
   "source": [
    "svm_model = SVC(kernel = 'linear').fit(X_train,y_train)\n",
    "svm_model\n",
    "# default kernel 'rbf'tir. Circle fit etmeye çalışır. Biz kernel'ı linear yaparak bie line fit edeceğiz."
   ]
  },
  {
   "cell_type": "code",
   "execution_count": 54,
   "metadata": {},
   "outputs": [
    {
     "data": {
      "text/plain": [
       "0.9207920792079208"
      ]
     },
     "execution_count": 54,
     "metadata": {},
     "output_type": "execute_result"
    }
   ],
   "source": [
    "y_pred = svm_model.predict(X_test)\n",
    "accuracy_score(y_pred, y_test)"
   ]
  },
  {
   "cell_type": "code",
   "execution_count": 56,
   "metadata": {},
   "outputs": [
    {
     "name": "stdout",
     "output_type": "stream",
     "text": [
      "Fitting 10 folds for each of 4 candidates, totalling 40 fits\n"
     ]
    },
    {
     "name": "stderr",
     "output_type": "stream",
     "text": [
      "[Parallel(n_jobs=-1)]: Using backend LokyBackend with 8 concurrent workers.\n",
      "[Parallel(n_jobs=-1)]: Done  25 tasks      | elapsed: 29.7min\n",
      "[Parallel(n_jobs=-1)]: Done  40 out of  40 | elapsed: 42.6min finished\n"
     ]
    },
    {
     "data": {
      "text/plain": [
       "GridSearchCV(cv=10, error_score='raise-deprecating',\n",
       "             estimator=SVC(C=1.0, cache_size=200, class_weight=None, coef0=0.0,\n",
       "                           decision_function_shape='ovr', degree=3,\n",
       "                           gamma='auto_deprecated', kernel='linear',\n",
       "                           max_iter=-1, probability=False, random_state=None,\n",
       "                           shrinking=True, tol=0.001, verbose=False),\n",
       "             iid='warn', n_jobs=-1, param_grid={'C': [2, 5, 8, 10]},\n",
       "             pre_dispatch='2*n_jobs', refit=True, return_train_score=False,\n",
       "             scoring=None, verbose=2)"
      ]
     },
     "execution_count": 56,
     "metadata": {},
     "output_type": "execute_result"
    }
   ],
   "source": [
    "svc_params = {'C':[2,5,8,10]}\n",
    "svc = SVC(kernel='linear')\n",
    "svc_cv_model = GridSearchCV(svc, svc_params, cv=10, n_jobs= -1, verbose = 2)\n",
    "svc_cv_model.fit(X_train, y_train)"
   ]
  },
  {
   "cell_type": "code",
   "execution_count": 57,
   "metadata": {},
   "outputs": [
    {
     "name": "stdout",
     "output_type": "stream",
     "text": [
      "En iyi parametreler: {'C': 8}\n"
     ]
    }
   ],
   "source": [
    "print('En iyi parametreler: '+str(svc_cv_model.best_params_))"
   ]
  },
  {
   "cell_type": "code",
   "execution_count": 60,
   "metadata": {},
   "outputs": [
    {
     "ename": "SyntaxError",
     "evalue": "invalid syntax (<ipython-input-60-5b0e8a7dc726>, line 1)",
     "output_type": "error",
     "traceback": [
      "\u001b[1;36m  File \u001b[1;32m\"<ipython-input-60-5b0e8a7dc726>\"\u001b[1;36m, line \u001b[1;32m1\u001b[0m\n\u001b[1;33m    svc_tuned = SVC(kernel='linear', 'C':8).fit(X_train,y_train)\u001b[0m\n\u001b[1;37m                                        ^\u001b[0m\n\u001b[1;31mSyntaxError\u001b[0m\u001b[1;31m:\u001b[0m invalid syntax\n"
     ]
    }
   ],
   "source": [
    "svc_tuned = SVC(kernel='linear', 'C':8).fit(X_train,y_train)\n",
    "svc_tuned"
   ]
  },
  {
   "cell_type": "code",
   "execution_count": null,
   "metadata": {},
   "outputs": [],
   "source": []
  }
 ],
 "metadata": {
  "kernelspec": {
   "display_name": "Python 3",
   "language": "python",
   "name": "python3"
  },
  "language_info": {
   "codemirror_mode": {
    "name": "ipython",
    "version": 3
   },
   "file_extension": ".py",
   "mimetype": "text/x-python",
   "name": "python",
   "nbconvert_exporter": "python",
   "pygments_lexer": "ipython3",
   "version": "3.7.3"
  }
 },
 "nbformat": 4,
 "nbformat_minor": 2
}

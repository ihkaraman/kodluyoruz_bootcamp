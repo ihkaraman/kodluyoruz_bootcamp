{
 "cells": [
  {
   "cell_type": "code",
   "execution_count": 2,
   "metadata": {},
   "outputs": [],
   "source": [
    "import seaborn as sns\n",
    "import pandas as pd\n",
    "import numpy as np\n",
    "from sklearn import datasets\n",
    "import matplotlib.pyplot as plt\n",
    "from scipy.stats import norm\n",
    "from scipy import stats\n",
    "from matplotlib.pyplot import plot\n",
    "import pylab\n",
    "import statsmodels.api as sm\n",
    "import statsmodels.stats.api as sms\n",
    "from scipy.stats import shapiro"
   ]
  },
  {
   "cell_type": "code",
   "execution_count": 2,
   "metadata": {},
   "outputs": [],
   "source": [
    "iris = sns.load_dataset(\"iris\")"
   ]
  },
  {
   "cell_type": "code",
   "execution_count": 3,
   "metadata": {},
   "outputs": [
    {
     "data": {
      "text/html": [
       "<div>\n",
       "<style scoped>\n",
       "    .dataframe tbody tr th:only-of-type {\n",
       "        vertical-align: middle;\n",
       "    }\n",
       "\n",
       "    .dataframe tbody tr th {\n",
       "        vertical-align: top;\n",
       "    }\n",
       "\n",
       "    .dataframe thead th {\n",
       "        text-align: right;\n",
       "    }\n",
       "</style>\n",
       "<table border=\"1\" class=\"dataframe\">\n",
       "  <thead>\n",
       "    <tr style=\"text-align: right;\">\n",
       "      <th></th>\n",
       "      <th>sepal_length</th>\n",
       "      <th>sepal_width</th>\n",
       "      <th>petal_length</th>\n",
       "      <th>petal_width</th>\n",
       "      <th>species</th>\n",
       "    </tr>\n",
       "  </thead>\n",
       "  <tbody>\n",
       "    <tr>\n",
       "      <th>0</th>\n",
       "      <td>5.1</td>\n",
       "      <td>3.5</td>\n",
       "      <td>1.4</td>\n",
       "      <td>0.2</td>\n",
       "      <td>setosa</td>\n",
       "    </tr>\n",
       "    <tr>\n",
       "      <th>1</th>\n",
       "      <td>4.9</td>\n",
       "      <td>3.0</td>\n",
       "      <td>1.4</td>\n",
       "      <td>0.2</td>\n",
       "      <td>setosa</td>\n",
       "    </tr>\n",
       "    <tr>\n",
       "      <th>2</th>\n",
       "      <td>4.7</td>\n",
       "      <td>3.2</td>\n",
       "      <td>1.3</td>\n",
       "      <td>0.2</td>\n",
       "      <td>setosa</td>\n",
       "    </tr>\n",
       "    <tr>\n",
       "      <th>3</th>\n",
       "      <td>4.6</td>\n",
       "      <td>3.1</td>\n",
       "      <td>1.5</td>\n",
       "      <td>0.2</td>\n",
       "      <td>setosa</td>\n",
       "    </tr>\n",
       "    <tr>\n",
       "      <th>4</th>\n",
       "      <td>5.0</td>\n",
       "      <td>3.6</td>\n",
       "      <td>1.4</td>\n",
       "      <td>0.2</td>\n",
       "      <td>setosa</td>\n",
       "    </tr>\n",
       "  </tbody>\n",
       "</table>\n",
       "</div>"
      ],
      "text/plain": [
       "   sepal_length  sepal_width  petal_length  petal_width species\n",
       "0           5.1          3.5           1.4          0.2  setosa\n",
       "1           4.9          3.0           1.4          0.2  setosa\n",
       "2           4.7          3.2           1.3          0.2  setosa\n",
       "3           4.6          3.1           1.5          0.2  setosa\n",
       "4           5.0          3.6           1.4          0.2  setosa"
      ]
     },
     "execution_count": 3,
     "metadata": {},
     "output_type": "execute_result"
    }
   ],
   "source": [
    "iris.head()"
   ]
  },
  {
   "cell_type": "code",
   "execution_count": 4,
   "metadata": {},
   "outputs": [
    {
     "data": {
      "image/png": "[encoded data removed]",
      "text/plain": [
       "<Figure size 432x288 with 1 Axes>"
      ]
     },
     "metadata": {
      "needs_background": "light"
     },
     "output_type": "display_data"
    }
   ],
   "source": [
    "fig, ax = plt.subplots()\n",
    "ax.set_title(\"Iris Dataset\")\n",
    "ax.set_xlabel(\"Sepal Length\")\n",
    "ax.set_ylabel(\"Sepal Width\")\n",
    "colors = {'setosa':'red', 'versicolor':'green', 'virginica':'blue'}\n",
    "ax.scatter(iris[\"sepal_length\"], iris[\"sepal_width\"])\n",
    "for i in range(len(iris['sepal_length'])):\n",
    "    ax.scatter(iris['sepal_length'][i], iris['sepal_width'][i], color = colors[iris['species'][i]])"
   ]
  },
  {
   "cell_type": "code",
   "execution_count": 5,
   "metadata": {},
   "outputs": [
    {
     "data": {
      "image/png": "[encoded data removed]",
      "text/plain": [
       "<Figure size 432x288 with 1 Axes>"
      ]
     },
     "metadata": {
      "needs_background": "light"
     },
     "output_type": "display_data"
    }
   ],
   "source": [
    "fig, ax = plt.subplots()\n",
    "ax.set_title(\"Iris Dataset\")\n",
    "ax.set_xlabel(\"Petal Length\")\n",
    "ax.set_ylabel(\"Petal Width\")\n",
    "colors = {'setosa':'red', 'versicolor':'green', 'virginica':'blue'}\n",
    "markers = {'setosa':'x', 'versicolor':'o', 'virginica':'x'}\n",
    "ax.scatter(iris[\"petal_length\"], iris[\"petal_width\"])\n",
    "for i in range(len(iris['petal_length'])):\n",
    "    ax.scatter(iris['petal_length'][i], iris['petal_width'][i], color = colors[iris['species'][i]], marker =markers[iris['species'][i]] )"
   ]
  },
  {
   "cell_type": "code",
   "execution_count": 6,
   "metadata": {},
   "outputs": [
    {
     "data": {
      "text/plain": [
       "<matplotlib.legend.Legend at 0x1fc5089f978>"
      ]
     },
     "execution_count": 6,
     "metadata": {},
     "output_type": "execute_result"
    },
    {
     "data": {
      "image/png": "[encoded data removed]",
      "text/plain": [
       "<Figure size 432x288 with 1 Axes>"
      ]
     },
     "metadata": {
      "needs_background": "light"
     },
     "output_type": "display_data"
    }
   ],
   "source": [
    "columns = iris.columns.drop(['species'])\n",
    "# create x data\n",
    "x_data = range(0, iris.shape[0])\n",
    "\n",
    "fig, ax = plt.subplots()\n",
    "# plotting graph of each column\n",
    "for column in columns:\n",
    "    ax.plot(x_data, iris[columns])\n",
    "ax.set_title('Iris Dataset')\n",
    "ax.legend(columns)"
   ]
  },
  {
   "cell_type": "code",
   "execution_count": 7,
   "metadata": {},
   "outputs": [
    {
     "data": {
      "text/plain": [
       "Text(0, 0.5, 'Count')"
      ]
     },
     "execution_count": 7,
     "metadata": {},
     "output_type": "execute_result"
    },
    {
     "data": {
      "image/png": "[encoded data removed]",
      "text/plain": [
       "<Figure size 720x504 with 1 Axes>"
      ]
     },
     "metadata": {
      "needs_background": "light"
     },
     "output_type": "display_data"
    }
   ],
   "source": [
    "plt.figure(figsize = (10,7))\n",
    "x = iris[\"sepal_length\"]\n",
    "plt.hist(x, density = True, bins = 200, color = 'green')\n",
    "plt.title(\"Sepal length in cm\")\n",
    "plt.xlabel(\"Sepal_length_cm\")\n",
    "plt.ylabel(\"Count\")"
   ]
  },
  {
   "cell_type": "code",
   "execution_count": 8,
   "metadata": {},
   "outputs": [
    {
     "data": {
      "text/plain": [
       "<matplotlib.axes._subplots.AxesSubplot at 0x1fc51003be0>"
      ]
     },
     "execution_count": 8,
     "metadata": {},
     "output_type": "execute_result"
    },
    {
     "data": {
      "image/png": "[encoded data removed]",
      "text/plain": [
       "<Figure size 432x288 with 1 Axes>"
      ]
     },
     "metadata": {
      "needs_background": "light"
     },
     "output_type": "display_data"
    }
   ],
   "source": [
    "iris.boxplot()"
   ]
  },
  {
   "cell_type": "code",
   "execution_count": 9,
   "metadata": {},
   "outputs": [
    {
     "data": {
      "text/plain": [
       "Index(['sepal_length', 'sepal_width', 'petal_length', 'petal_width',\n",
       "       'species'],\n",
       "      dtype='object')"
      ]
     },
     "execution_count": 9,
     "metadata": {},
     "output_type": "execute_result"
    }
   ],
   "source": [
    "iris.columns"
   ]
  },
  {
   "cell_type": "code",
   "execution_count": 10,
   "metadata": {},
   "outputs": [
    {
     "data": {
      "text/plain": [
       "<matplotlib.axes._subplots.AxesSubplot at 0x1fc50e8d748>"
      ]
     },
     "execution_count": 10,
     "metadata": {},
     "output_type": "execute_result"
    },
    {
     "data": {
      "image/png": "[encoded data removed]",
      "text/plain": [
       "<Figure size 432x288 with 1 Axes>"
      ]
     },
     "metadata": {
      "needs_background": "light"
     },
     "output_type": "display_data"
    }
   ],
   "source": [
    "sns.boxplot(iris['sepal_length'], color = 'red')\n",
    "sns.violinplot(iris['sepal_length'], bw = 0.05)"
   ]
  },
  {
   "cell_type": "code",
   "execution_count": 11,
   "metadata": {},
   "outputs": [
    {
     "data": {
      "text/html": [
       "<style  type=\"text/css\" >\n",
       "    #T_a2fbcd22_d4bd_11e9_aff9_acfdce967714row0_col0 {\n",
       "            background-color:  #b40426;\n",
       "            color:  #f1f1f1;\n",
       "        }    #T_a2fbcd22_d4bd_11e9_aff9_acfdce967714row0_col1 {\n",
       "            background-color:  #81a4fb;\n",
       "            color:  #000000;\n",
       "        }    #T_a2fbcd22_d4bd_11e9_aff9_acfdce967714row0_col2 {\n",
       "            background-color:  #d24b40;\n",
       "            color:  #f1f1f1;\n",
       "        }    #T_a2fbcd22_d4bd_11e9_aff9_acfdce967714row0_col3 {\n",
       "            background-color:  #e0654f;\n",
       "            color:  #000000;\n",
       "        }    #T_a2fbcd22_d4bd_11e9_aff9_acfdce967714row1_col0 {\n",
       "            background-color:  #3b4cc0;\n",
       "            color:  #f1f1f1;\n",
       "        }    #T_a2fbcd22_d4bd_11e9_aff9_acfdce967714row1_col1 {\n",
       "            background-color:  #b40426;\n",
       "            color:  #f1f1f1;\n",
       "        }    #T_a2fbcd22_d4bd_11e9_aff9_acfdce967714row1_col2 {\n",
       "            background-color:  #3b4cc0;\n",
       "            color:  #f1f1f1;\n",
       "        }    #T_a2fbcd22_d4bd_11e9_aff9_acfdce967714row1_col3 {\n",
       "            background-color:  #3b4cc0;\n",
       "            color:  #f1f1f1;\n",
       "        }    #T_a2fbcd22_d4bd_11e9_aff9_acfdce967714row2_col0 {\n",
       "            background-color:  #da5a49;\n",
       "            color:  #000000;\n",
       "        }    #T_a2fbcd22_d4bd_11e9_aff9_acfdce967714row2_col1 {\n",
       "            background-color:  #3b4cc0;\n",
       "            color:  #f1f1f1;\n",
       "        }    #T_a2fbcd22_d4bd_11e9_aff9_acfdce967714row2_col2 {\n",
       "            background-color:  #b40426;\n",
       "            color:  #f1f1f1;\n",
       "        }    #T_a2fbcd22_d4bd_11e9_aff9_acfdce967714row2_col3 {\n",
       "            background-color:  #bd1f2d;\n",
       "            color:  #f1f1f1;\n",
       "        }    #T_a2fbcd22_d4bd_11e9_aff9_acfdce967714row3_col0 {\n",
       "            background-color:  #e67259;\n",
       "            color:  #000000;\n",
       "        }    #T_a2fbcd22_d4bd_11e9_aff9_acfdce967714row3_col1 {\n",
       "            background-color:  #485fd1;\n",
       "            color:  #f1f1f1;\n",
       "        }    #T_a2fbcd22_d4bd_11e9_aff9_acfdce967714row3_col2 {\n",
       "            background-color:  #bd1f2d;\n",
       "            color:  #f1f1f1;\n",
       "        }    #T_a2fbcd22_d4bd_11e9_aff9_acfdce967714row3_col3 {\n",
       "            background-color:  #b40426;\n",
       "            color:  #f1f1f1;\n",
       "        }</style><table id=\"T_a2fbcd22_d4bd_11e9_aff9_acfdce967714\" ><thead>    <tr>        <th class=\"blank level0\" ></th>        <th class=\"col_heading level0 col0\" >sepal_length</th>        <th class=\"col_heading level0 col1\" >sepal_width</th>        <th class=\"col_heading level0 col2\" >petal_length</th>        <th class=\"col_heading level0 col3\" >petal_width</th>    </tr></thead><tbody>\n",
       "                <tr>\n",
       "                        <th id=\"T_a2fbcd22_d4bd_11e9_aff9_acfdce967714level0_row0\" class=\"row_heading level0 row0\" >sepal_length</th>\n",
       "                        <td id=\"T_a2fbcd22_d4bd_11e9_aff9_acfdce967714row0_col0\" class=\"data row0 col0\" >1</td>\n",
       "                        <td id=\"T_a2fbcd22_d4bd_11e9_aff9_acfdce967714row0_col1\" class=\"data row0 col1\" >-0.11757</td>\n",
       "                        <td id=\"T_a2fbcd22_d4bd_11e9_aff9_acfdce967714row0_col2\" class=\"data row0 col2\" >0.871754</td>\n",
       "                        <td id=\"T_a2fbcd22_d4bd_11e9_aff9_acfdce967714row0_col3\" class=\"data row0 col3\" >0.817941</td>\n",
       "            </tr>\n",
       "            <tr>\n",
       "                        <th id=\"T_a2fbcd22_d4bd_11e9_aff9_acfdce967714level0_row1\" class=\"row_heading level0 row1\" >sepal_width</th>\n",
       "                        <td id=\"T_a2fbcd22_d4bd_11e9_aff9_acfdce967714row1_col0\" class=\"data row1 col0\" >-0.11757</td>\n",
       "                        <td id=\"T_a2fbcd22_d4bd_11e9_aff9_acfdce967714row1_col1\" class=\"data row1 col1\" >1</td>\n",
       "                        <td id=\"T_a2fbcd22_d4bd_11e9_aff9_acfdce967714row1_col2\" class=\"data row1 col2\" >-0.42844</td>\n",
       "                        <td id=\"T_a2fbcd22_d4bd_11e9_aff9_acfdce967714row1_col3\" class=\"data row1 col3\" >-0.366126</td>\n",
       "            </tr>\n",
       "            <tr>\n",
       "                        <th id=\"T_a2fbcd22_d4bd_11e9_aff9_acfdce967714level0_row2\" class=\"row_heading level0 row2\" >petal_length</th>\n",
       "                        <td id=\"T_a2fbcd22_d4bd_11e9_aff9_acfdce967714row2_col0\" class=\"data row2 col0\" >0.871754</td>\n",
       "                        <td id=\"T_a2fbcd22_d4bd_11e9_aff9_acfdce967714row2_col1\" class=\"data row2 col1\" >-0.42844</td>\n",
       "                        <td id=\"T_a2fbcd22_d4bd_11e9_aff9_acfdce967714row2_col2\" class=\"data row2 col2\" >1</td>\n",
       "                        <td id=\"T_a2fbcd22_d4bd_11e9_aff9_acfdce967714row2_col3\" class=\"data row2 col3\" >0.962865</td>\n",
       "            </tr>\n",
       "            <tr>\n",
       "                        <th id=\"T_a2fbcd22_d4bd_11e9_aff9_acfdce967714level0_row3\" class=\"row_heading level0 row3\" >petal_width</th>\n",
       "                        <td id=\"T_a2fbcd22_d4bd_11e9_aff9_acfdce967714row3_col0\" class=\"data row3 col0\" >0.817941</td>\n",
       "                        <td id=\"T_a2fbcd22_d4bd_11e9_aff9_acfdce967714row3_col1\" class=\"data row3 col1\" >-0.366126</td>\n",
       "                        <td id=\"T_a2fbcd22_d4bd_11e9_aff9_acfdce967714row3_col2\" class=\"data row3 col2\" >0.962865</td>\n",
       "                        <td id=\"T_a2fbcd22_d4bd_11e9_aff9_acfdce967714row3_col3\" class=\"data row3 col3\" >1</td>\n",
       "            </tr>\n",
       "    </tbody></table>"
      ],
      "text/plain": [
       "<pandas.io.formats.style.Styler at 0x1fc50ec8b38>"
      ]
     },
     "execution_count": 11,
     "metadata": {},
     "output_type": "execute_result"
    }
   ],
   "source": [
    "corr =iris.corr()\n",
    "corr\n",
    "corr.style.background_gradient(cmap='coolwarm')"
   ]
  },
  {
   "cell_type": "code",
   "execution_count": 12,
   "metadata": {},
   "outputs": [
    {
     "data": {
      "image/png": "[encoded data removed]",
      "text/plain": [
       "<Figure size 288x288 with 1 Axes>"
      ]
     },
     "metadata": {
      "needs_background": "light"
     },
     "output_type": "display_data"
    }
   ],
   "source": [
    "plt.matshow(corr)\n",
    "plt.show()\n"
   ]
  },
  {
   "cell_type": "code",
   "execution_count": 91,
   "metadata": {},
   "outputs": [
    {
     "data": {
      "text/html": [
       "<style  type=\"text/css\" >\n",
       "    #T_fa92de2c_d4bd_11e9_a1ac_acfdce967714row0_col0 {\n",
       "            background-color:  #b40426;\n",
       "            color:  #f1f1f1;\n",
       "        }    #T_fa92de2c_d4bd_11e9_a1ac_acfdce967714row0_col1 {\n",
       "            background-color:  #e2dad5;\n",
       "            color:  #000000;\n",
       "        }    #T_fa92de2c_d4bd_11e9_a1ac_acfdce967714row0_col2 {\n",
       "            background-color:  #f2c9b4;\n",
       "            color:  #000000;\n",
       "        }    #T_fa92de2c_d4bd_11e9_a1ac_acfdce967714row0_col3 {\n",
       "            background-color:  #f6bfa6;\n",
       "            color:  #000000;\n",
       "        }    #T_fa92de2c_d4bd_11e9_a1ac_acfdce967714row0_col4 {\n",
       "            background-color:  #c9d7f0;\n",
       "            color:  #000000;\n",
       "        }    #T_fa92de2c_d4bd_11e9_a1ac_acfdce967714row0_col5 {\n",
       "            background-color:  #3b4cc0;\n",
       "            color:  #f1f1f1;\n",
       "        }    #T_fa92de2c_d4bd_11e9_a1ac_acfdce967714row0_col6 {\n",
       "            background-color:  #3b4cc0;\n",
       "            color:  #f1f1f1;\n",
       "        }    #T_fa92de2c_d4bd_11e9_a1ac_acfdce967714row0_col7 {\n",
       "            background-color:  #f7ba9f;\n",
       "            color:  #000000;\n",
       "        }    #T_fa92de2c_d4bd_11e9_a1ac_acfdce967714row0_col8 {\n",
       "            background-color:  #5b7ae5;\n",
       "            color:  #000000;\n",
       "        }    #T_fa92de2c_d4bd_11e9_a1ac_acfdce967714row0_col9 {\n",
       "            background-color:  #9abbff;\n",
       "            color:  #000000;\n",
       "        }    #T_fa92de2c_d4bd_11e9_a1ac_acfdce967714row1_col0 {\n",
       "            background-color:  #f4c5ad;\n",
       "            color:  #000000;\n",
       "        }    #T_fa92de2c_d4bd_11e9_a1ac_acfdce967714row1_col1 {\n",
       "            background-color:  #b40426;\n",
       "            color:  #f1f1f1;\n",
       "        }    #T_fa92de2c_d4bd_11e9_a1ac_acfdce967714row1_col2 {\n",
       "            background-color:  #6c8ff1;\n",
       "            color:  #000000;\n",
       "        }    #T_fa92de2c_d4bd_11e9_a1ac_acfdce967714row1_col3 {\n",
       "            background-color:  #f7a688;\n",
       "            color:  #000000;\n",
       "        }    #T_fa92de2c_d4bd_11e9_a1ac_acfdce967714row1_col4 {\n",
       "            background-color:  #7da0f9;\n",
       "            color:  #000000;\n",
       "        }    #T_fa92de2c_d4bd_11e9_a1ac_acfdce967714row1_col5 {\n",
       "            background-color:  #dcdddd;\n",
       "            color:  #000000;\n",
       "        }    #T_fa92de2c_d4bd_11e9_a1ac_acfdce967714row1_col6 {\n",
       "            background-color:  #80a3fa;\n",
       "            color:  #000000;\n",
       "        }    #T_fa92de2c_d4bd_11e9_a1ac_acfdce967714row1_col7 {\n",
       "            background-color:  #f39475;\n",
       "            color:  #000000;\n",
       "        }    #T_fa92de2c_d4bd_11e9_a1ac_acfdce967714row1_col8 {\n",
       "            background-color:  #e6d7cf;\n",
       "            color:  #000000;\n",
       "        }    #T_fa92de2c_d4bd_11e9_a1ac_acfdce967714row1_col9 {\n",
       "            background-color:  #c5d6f2;\n",
       "            color:  #000000;\n",
       "        }    #T_fa92de2c_d4bd_11e9_a1ac_acfdce967714row2_col0 {\n",
       "            background-color:  #f7bca1;\n",
       "            color:  #000000;\n",
       "        }    #T_fa92de2c_d4bd_11e9_a1ac_acfdce967714row2_col1 {\n",
       "            background-color:  #4b64d5;\n",
       "            color:  #f1f1f1;\n",
       "        }    #T_fa92de2c_d4bd_11e9_a1ac_acfdce967714row2_col2 {\n",
       "            background-color:  #b40426;\n",
       "            color:  #f1f1f1;\n",
       "        }    #T_fa92de2c_d4bd_11e9_a1ac_acfdce967714row2_col3 {\n",
       "            background-color:  #3b4cc0;\n",
       "            color:  #f1f1f1;\n",
       "        }    #T_fa92de2c_d4bd_11e9_a1ac_acfdce967714row2_col4 {\n",
       "            background-color:  #d6dce4;\n",
       "            color:  #000000;\n",
       "        }    #T_fa92de2c_d4bd_11e9_a1ac_acfdce967714row2_col5 {\n",
       "            background-color:  #516ddb;\n",
       "            color:  #000000;\n",
       "        }    #T_fa92de2c_d4bd_11e9_a1ac_acfdce967714row2_col6 {\n",
       "            background-color:  #b6cefa;\n",
       "            color:  #000000;\n",
       "        }    #T_fa92de2c_d4bd_11e9_a1ac_acfdce967714row2_col7 {\n",
       "            background-color:  #b1cbfc;\n",
       "            color:  #000000;\n",
       "        }    #T_fa92de2c_d4bd_11e9_a1ac_acfdce967714row2_col8 {\n",
       "            background-color:  #5d7ce6;\n",
       "            color:  #000000;\n",
       "        }    #T_fa92de2c_d4bd_11e9_a1ac_acfdce967714row2_col9 {\n",
       "            background-color:  #3b4cc0;\n",
       "            color:  #f1f1f1;\n",
       "        }    #T_fa92de2c_d4bd_11e9_a1ac_acfdce967714row3_col0 {\n",
       "            background-color:  #f7b194;\n",
       "            color:  #000000;\n",
       "        }    #T_fa92de2c_d4bd_11e9_a1ac_acfdce967714row3_col1 {\n",
       "            background-color:  #f7b194;\n",
       "            color:  #000000;\n",
       "        }    #T_fa92de2c_d4bd_11e9_a1ac_acfdce967714row3_col2 {\n",
       "            background-color:  #3b4cc0;\n",
       "            color:  #f1f1f1;\n",
       "        }    #T_fa92de2c_d4bd_11e9_a1ac_acfdce967714row3_col3 {\n",
       "            background-color:  #b40426;\n",
       "            color:  #f1f1f1;\n",
       "        }    #T_fa92de2c_d4bd_11e9_a1ac_acfdce967714row3_col4 {\n",
       "            background-color:  #89acfd;\n",
       "            color:  #000000;\n",
       "        }    #T_fa92de2c_d4bd_11e9_a1ac_acfdce967714row3_col5 {\n",
       "            background-color:  #3c4ec2;\n",
       "            color:  #f1f1f1;\n",
       "        }    #T_fa92de2c_d4bd_11e9_a1ac_acfdce967714row3_col6 {\n",
       "            background-color:  #6788ee;\n",
       "            color:  #000000;\n",
       "        }    #T_fa92de2c_d4bd_11e9_a1ac_acfdce967714row3_col7 {\n",
       "            background-color:  #f7bca1;\n",
       "            color:  #000000;\n",
       "        }    #T_fa92de2c_d4bd_11e9_a1ac_acfdce967714row3_col8 {\n",
       "            background-color:  #ead5c9;\n",
       "            color:  #000000;\n",
       "        }    #T_fa92de2c_d4bd_11e9_a1ac_acfdce967714row3_col9 {\n",
       "            background-color:  #f2cbb7;\n",
       "            color:  #000000;\n",
       "        }    #T_fa92de2c_d4bd_11e9_a1ac_acfdce967714row4_col0 {\n",
       "            background-color:  #d3dbe7;\n",
       "            color:  #000000;\n",
       "        }    #T_fa92de2c_d4bd_11e9_a1ac_acfdce967714row4_col1 {\n",
       "            background-color:  #4b64d5;\n",
       "            color:  #f1f1f1;\n",
       "        }    #T_fa92de2c_d4bd_11e9_a1ac_acfdce967714row4_col2 {\n",
       "            background-color:  #cdd9ec;\n",
       "            color:  #000000;\n",
       "        }    #T_fa92de2c_d4bd_11e9_a1ac_acfdce967714row4_col3 {\n",
       "            background-color:  #7a9df8;\n",
       "            color:  #000000;\n",
       "        }    #T_fa92de2c_d4bd_11e9_a1ac_acfdce967714row4_col4 {\n",
       "            background-color:  #b40426;\n",
       "            color:  #f1f1f1;\n",
       "        }    #T_fa92de2c_d4bd_11e9_a1ac_acfdce967714row4_col5 {\n",
       "            background-color:  #5a78e4;\n",
       "            color:  #000000;\n",
       "        }    #T_fa92de2c_d4bd_11e9_a1ac_acfdce967714row4_col6 {\n",
       "            background-color:  #abc8fd;\n",
       "            color:  #000000;\n",
       "        }    #T_fa92de2c_d4bd_11e9_a1ac_acfdce967714row4_col7 {\n",
       "            background-color:  #3b4cc0;\n",
       "            color:  #f1f1f1;\n",
       "        }    #T_fa92de2c_d4bd_11e9_a1ac_acfdce967714row4_col8 {\n",
       "            background-color:  #3b4cc0;\n",
       "            color:  #f1f1f1;\n",
       "        }    #T_fa92de2c_d4bd_11e9_a1ac_acfdce967714row4_col9 {\n",
       "            background-color:  #6687ed;\n",
       "            color:  #000000;\n",
       "        }    #T_fa92de2c_d4bd_11e9_a1ac_acfdce967714row5_col0 {\n",
       "            background-color:  #9abbff;\n",
       "            color:  #000000;\n",
       "        }    #T_fa92de2c_d4bd_11e9_a1ac_acfdce967714row5_col1 {\n",
       "            background-color:  #e9d5cb;\n",
       "            color:  #000000;\n",
       "        }    #T_fa92de2c_d4bd_11e9_a1ac_acfdce967714row5_col2 {\n",
       "            background-color:  #8db0fe;\n",
       "            color:  #000000;\n",
       "        }    #T_fa92de2c_d4bd_11e9_a1ac_acfdce967714row5_col3 {\n",
       "            background-color:  #799cf8;\n",
       "            color:  #000000;\n",
       "        }    #T_fa92de2c_d4bd_11e9_a1ac_acfdce967714row5_col4 {\n",
       "            background-color:  #a3c2fe;\n",
       "            color:  #000000;\n",
       "        }    #T_fa92de2c_d4bd_11e9_a1ac_acfdce967714row5_col5 {\n",
       "            background-color:  #b40426;\n",
       "            color:  #f1f1f1;\n",
       "        }    #T_fa92de2c_d4bd_11e9_a1ac_acfdce967714row5_col6 {\n",
       "            background-color:  #c1d4f4;\n",
       "            color:  #000000;\n",
       "        }    #T_fa92de2c_d4bd_11e9_a1ac_acfdce967714row5_col7 {\n",
       "            background-color:  #f4c6af;\n",
       "            color:  #000000;\n",
       "        }    #T_fa92de2c_d4bd_11e9_a1ac_acfdce967714row5_col8 {\n",
       "            background-color:  #dfdbd9;\n",
       "            color:  #000000;\n",
       "        }    #T_fa92de2c_d4bd_11e9_a1ac_acfdce967714row5_col9 {\n",
       "            background-color:  #aec9fc;\n",
       "            color:  #000000;\n",
       "        }    #T_fa92de2c_d4bd_11e9_a1ac_acfdce967714row6_col0 {\n",
       "            background-color:  #3b4cc0;\n",
       "            color:  #f1f1f1;\n",
       "        }    #T_fa92de2c_d4bd_11e9_a1ac_acfdce967714row6_col1 {\n",
       "            background-color:  #3b4cc0;\n",
       "            color:  #f1f1f1;\n",
       "        }    #T_fa92de2c_d4bd_11e9_a1ac_acfdce967714row6_col2 {\n",
       "            background-color:  #98b9ff;\n",
       "            color:  #000000;\n",
       "        }    #T_fa92de2c_d4bd_11e9_a1ac_acfdce967714row6_col3 {\n",
       "            background-color:  #4358cb;\n",
       "            color:  #f1f1f1;\n",
       "        }    #T_fa92de2c_d4bd_11e9_a1ac_acfdce967714row6_col4 {\n",
       "            background-color:  #9bbcff;\n",
       "            color:  #000000;\n",
       "        }    #T_fa92de2c_d4bd_11e9_a1ac_acfdce967714row6_col5 {\n",
       "            background-color:  #6f92f3;\n",
       "            color:  #000000;\n",
       "        }    #T_fa92de2c_d4bd_11e9_a1ac_acfdce967714row6_col6 {\n",
       "            background-color:  #b40426;\n",
       "            color:  #f1f1f1;\n",
       "        }    #T_fa92de2c_d4bd_11e9_a1ac_acfdce967714row6_col7 {\n",
       "            background-color:  #3f53c6;\n",
       "            color:  #f1f1f1;\n",
       "        }    #T_fa92de2c_d4bd_11e9_a1ac_acfdce967714row6_col8 {\n",
       "            background-color:  #f3c7b1;\n",
       "            color:  #000000;\n",
       "        }    #T_fa92de2c_d4bd_11e9_a1ac_acfdce967714row6_col9 {\n",
       "            background-color:  #4055c8;\n",
       "            color:  #f1f1f1;\n",
       "        }    #T_fa92de2c_d4bd_11e9_a1ac_acfdce967714row7_col0 {\n",
       "            background-color:  #f7ad90;\n",
       "            color:  #000000;\n",
       "        }    #T_fa92de2c_d4bd_11e9_a1ac_acfdce967714row7_col1 {\n",
       "            background-color:  #f59f80;\n",
       "            color:  #000000;\n",
       "        }    #T_fa92de2c_d4bd_11e9_a1ac_acfdce967714row7_col2 {\n",
       "            background-color:  #b1cbfc;\n",
       "            color:  #000000;\n",
       "        }    #T_fa92de2c_d4bd_11e9_a1ac_acfdce967714row7_col3 {\n",
       "            background-color:  #f7bca1;\n",
       "            color:  #000000;\n",
       "        }    #T_fa92de2c_d4bd_11e9_a1ac_acfdce967714row7_col4 {\n",
       "            background-color:  #4b64d5;\n",
       "            color:  #f1f1f1;\n",
       "        }    #T_fa92de2c_d4bd_11e9_a1ac_acfdce967714row7_col5 {\n",
       "            background-color:  #e4d9d2;\n",
       "            color:  #000000;\n",
       "        }    #T_fa92de2c_d4bd_11e9_a1ac_acfdce967714row7_col6 {\n",
       "            background-color:  #6687ed;\n",
       "            color:  #000000;\n",
       "        }    #T_fa92de2c_d4bd_11e9_a1ac_acfdce967714row7_col7 {\n",
       "            background-color:  #b40426;\n",
       "            color:  #f1f1f1;\n",
       "        }    #T_fa92de2c_d4bd_11e9_a1ac_acfdce967714row7_col8 {\n",
       "            background-color:  #f3c7b1;\n",
       "            color:  #000000;\n",
       "        }    #T_fa92de2c_d4bd_11e9_a1ac_acfdce967714row7_col9 {\n",
       "            background-color:  #efcfbf;\n",
       "            color:  #000000;\n",
       "        }    #T_fa92de2c_d4bd_11e9_a1ac_acfdce967714row8_col0 {\n",
       "            background-color:  #6f92f3;\n",
       "            color:  #000000;\n",
       "        }    #T_fa92de2c_d4bd_11e9_a1ac_acfdce967714row8_col1 {\n",
       "            background-color:  #cfdaea;\n",
       "            color:  #000000;\n",
       "        }    #T_fa92de2c_d4bd_11e9_a1ac_acfdce967714row8_col2 {\n",
       "            background-color:  #4c66d6;\n",
       "            color:  #000000;\n",
       "        }    #T_fa92de2c_d4bd_11e9_a1ac_acfdce967714row8_col3 {\n",
       "            background-color:  #e3d9d3;\n",
       "            color:  #000000;\n",
       "        }    #T_fa92de2c_d4bd_11e9_a1ac_acfdce967714row8_col4 {\n",
       "            background-color:  #3b4cc0;\n",
       "            color:  #f1f1f1;\n",
       "        }    #T_fa92de2c_d4bd_11e9_a1ac_acfdce967714row8_col5 {\n",
       "            background-color:  #b2ccfb;\n",
       "            color:  #000000;\n",
       "        }    #T_fa92de2c_d4bd_11e9_a1ac_acfdce967714row8_col6 {\n",
       "            background-color:  #f6bfa6;\n",
       "            color:  #000000;\n",
       "        }    #T_fa92de2c_d4bd_11e9_a1ac_acfdce967714row8_col7 {\n",
       "            background-color:  #f1cdba;\n",
       "            color:  #000000;\n",
       "        }    #T_fa92de2c_d4bd_11e9_a1ac_acfdce967714row8_col8 {\n",
       "            background-color:  #b40426;\n",
       "            color:  #f1f1f1;\n",
       "        }    #T_fa92de2c_d4bd_11e9_a1ac_acfdce967714row8_col9 {\n",
       "            background-color:  #bbd1f8;\n",
       "            color:  #000000;\n",
       "        }    #T_fa92de2c_d4bd_11e9_a1ac_acfdce967714row9_col0 {\n",
       "            background-color:  #cad8ef;\n",
       "            color:  #000000;\n",
       "        }    #T_fa92de2c_d4bd_11e9_a1ac_acfdce967714row9_col1 {\n",
       "            background-color:  #c1d4f4;\n",
       "            color:  #000000;\n",
       "        }    #T_fa92de2c_d4bd_11e9_a1ac_acfdce967714row9_col2 {\n",
       "            background-color:  #5673e0;\n",
       "            color:  #000000;\n",
       "        }    #T_fa92de2c_d4bd_11e9_a1ac_acfdce967714row9_col3 {\n",
       "            background-color:  #f5c0a7;\n",
       "            color:  #000000;\n",
       "        }    #T_fa92de2c_d4bd_11e9_a1ac_acfdce967714row9_col4 {\n",
       "            background-color:  #92b4fe;\n",
       "            color:  #000000;\n",
       "        }    #T_fa92de2c_d4bd_11e9_a1ac_acfdce967714row9_col5 {\n",
       "            background-color:  #93b5fe;\n",
       "            color:  #000000;\n",
       "        }    #T_fa92de2c_d4bd_11e9_a1ac_acfdce967714row9_col6 {\n",
       "            background-color:  #81a4fb;\n",
       "            color:  #000000;\n",
       "        }    #T_fa92de2c_d4bd_11e9_a1ac_acfdce967714row9_col7 {\n",
       "            background-color:  #f4c6af;\n",
       "            color:  #000000;\n",
       "        }    #T_fa92de2c_d4bd_11e9_a1ac_acfdce967714row9_col8 {\n",
       "            background-color:  #d6dce4;\n",
       "            color:  #000000;\n",
       "        }    #T_fa92de2c_d4bd_11e9_a1ac_acfdce967714row9_col9 {\n",
       "            background-color:  #b40426;\n",
       "            color:  #f1f1f1;\n",
       "        }</style><table id=\"T_fa92de2c_d4bd_11e9_a1ac_acfdce967714\" ><thead>    <tr>        <th class=\"blank level0\" ></th>        <th class=\"col_heading level0 col0\" >0</th>        <th class=\"col_heading level0 col1\" >1</th>        <th class=\"col_heading level0 col2\" >2</th>        <th class=\"col_heading level0 col3\" >3</th>        <th class=\"col_heading level0 col4\" >4</th>        <th class=\"col_heading level0 col5\" >5</th>        <th class=\"col_heading level0 col6\" >6</th>        <th class=\"col_heading level0 col7\" >7</th>        <th class=\"col_heading level0 col8\" >8</th>        <th class=\"col_heading level0 col9\" >9</th>    </tr></thead><tbody>\n",
       "                <tr>\n",
       "                        <th id=\"T_fa92de2c_d4bd_11e9_a1ac_acfdce967714level0_row0\" class=\"row_heading level0 row0\" >0</th>\n",
       "                        <td id=\"T_fa92de2c_d4bd_11e9_a1ac_acfdce967714row0_col0\" class=\"data row0 col0\" >1</td>\n",
       "                        <td id=\"T_fa92de2c_d4bd_11e9_a1ac_acfdce967714row0_col1\" class=\"data row0 col1\" >0.347533</td>\n",
       "                        <td id=\"T_fa92de2c_d4bd_11e9_a1ac_acfdce967714row0_col2\" class=\"data row0 col2\" >0.398948</td>\n",
       "                        <td id=\"T_fa92de2c_d4bd_11e9_a1ac_acfdce967714row0_col3\" class=\"data row0 col3\" >0.455743</td>\n",
       "                        <td id=\"T_fa92de2c_d4bd_11e9_a1ac_acfdce967714row0_col4\" class=\"data row0 col4\" >0.0729144</td>\n",
       "                        <td id=\"T_fa92de2c_d4bd_11e9_a1ac_acfdce967714row0_col5\" class=\"data row0 col5\" >-0.233402</td>\n",
       "                        <td id=\"T_fa92de2c_d4bd_11e9_a1ac_acfdce967714row0_col6\" class=\"data row0 col6\" >-0.731222</td>\n",
       "                        <td id=\"T_fa92de2c_d4bd_11e9_a1ac_acfdce967714row0_col7\" class=\"data row0 col7\" >0.477978</td>\n",
       "                        <td id=\"T_fa92de2c_d4bd_11e9_a1ac_acfdce967714row0_col8\" class=\"data row0 col8\" >-0.442621</td>\n",
       "                        <td id=\"T_fa92de2c_d4bd_11e9_a1ac_acfdce967714row0_col9\" class=\"data row0 col9\" >0.0151847</td>\n",
       "            </tr>\n",
       "            <tr>\n",
       "                        <th id=\"T_fa92de2c_d4bd_11e9_a1ac_acfdce967714level0_row1\" class=\"row_heading level0 row1\" >1</th>\n",
       "                        <td id=\"T_fa92de2c_d4bd_11e9_a1ac_acfdce967714row1_col0\" class=\"data row1 col0\" >0.347533</td>\n",
       "                        <td id=\"T_fa92de2c_d4bd_11e9_a1ac_acfdce967714row1_col1\" class=\"data row1 col1\" >1</td>\n",
       "                        <td id=\"T_fa92de2c_d4bd_11e9_a1ac_acfdce967714row1_col2\" class=\"data row1 col2\" >-0.284056</td>\n",
       "                        <td id=\"T_fa92de2c_d4bd_11e9_a1ac_acfdce967714row1_col3\" class=\"data row1 col3\" >0.571003</td>\n",
       "                        <td id=\"T_fa92de2c_d4bd_11e9_a1ac_acfdce967714row1_col4\" class=\"data row1 col4\" >-0.285483</td>\n",
       "                        <td id=\"T_fa92de2c_d4bd_11e9_a1ac_acfdce967714row1_col5\" class=\"data row1 col5\" >0.38248</td>\n",
       "                        <td id=\"T_fa92de2c_d4bd_11e9_a1ac_acfdce967714row1_col6\" class=\"data row1 col6\" >-0.362842</td>\n",
       "                        <td id=\"T_fa92de2c_d4bd_11e9_a1ac_acfdce967714row1_col7\" class=\"data row1 col7\" >0.642578</td>\n",
       "                        <td id=\"T_fa92de2c_d4bd_11e9_a1ac_acfdce967714row1_col8\" class=\"data row1 col8\" >0.252556</td>\n",
       "                        <td id=\"T_fa92de2c_d4bd_11e9_a1ac_acfdce967714row1_col9\" class=\"data row1 col9\" >0.190047</td>\n",
       "            </tr>\n",
       "            <tr>\n",
       "                        <th id=\"T_fa92de2c_d4bd_11e9_a1ac_acfdce967714level0_row2\" class=\"row_heading level0 row2\" >2</th>\n",
       "                        <td id=\"T_fa92de2c_d4bd_11e9_a1ac_acfdce967714row2_col0\" class=\"data row2 col0\" >0.398948</td>\n",
       "                        <td id=\"T_fa92de2c_d4bd_11e9_a1ac_acfdce967714row2_col1\" class=\"data row2 col1\" >-0.284056</td>\n",
       "                        <td id=\"T_fa92de2c_d4bd_11e9_a1ac_acfdce967714row2_col2\" class=\"data row2 col2\" >1</td>\n",
       "                        <td id=\"T_fa92de2c_d4bd_11e9_a1ac_acfdce967714row2_col3\" class=\"data row2 col3\" >-0.523649</td>\n",
       "                        <td id=\"T_fa92de2c_d4bd_11e9_a1ac_acfdce967714row2_col4\" class=\"data row2 col4\" >0.152937</td>\n",
       "                        <td id=\"T_fa92de2c_d4bd_11e9_a1ac_acfdce967714row2_col5\" class=\"data row2 col5\" >-0.139176</td>\n",
       "                        <td id=\"T_fa92de2c_d4bd_11e9_a1ac_acfdce967714row2_col6\" class=\"data row2 col6\" >-0.0928948</td>\n",
       "                        <td id=\"T_fa92de2c_d4bd_11e9_a1ac_acfdce967714row2_col7\" class=\"data row2 col7\" >0.0162655</td>\n",
       "                        <td id=\"T_fa92de2c_d4bd_11e9_a1ac_acfdce967714row2_col8\" class=\"data row2 col8\" >-0.434016</td>\n",
       "                        <td id=\"T_fa92de2c_d4bd_11e9_a1ac_acfdce967714row2_col9\" class=\"data row2 col9\" >-0.383585</td>\n",
       "            </tr>\n",
       "            <tr>\n",
       "                        <th id=\"T_fa92de2c_d4bd_11e9_a1ac_acfdce967714level0_row3\" class=\"row_heading level0 row3\" >3</th>\n",
       "                        <td id=\"T_fa92de2c_d4bd_11e9_a1ac_acfdce967714row3_col0\" class=\"data row3 col0\" >0.455743</td>\n",
       "                        <td id=\"T_fa92de2c_d4bd_11e9_a1ac_acfdce967714row3_col1\" class=\"data row3 col1\" >0.571003</td>\n",
       "                        <td id=\"T_fa92de2c_d4bd_11e9_a1ac_acfdce967714row3_col2\" class=\"data row3 col2\" >-0.523649</td>\n",
       "                        <td id=\"T_fa92de2c_d4bd_11e9_a1ac_acfdce967714row3_col3\" class=\"data row3 col3\" >1</td>\n",
       "                        <td id=\"T_fa92de2c_d4bd_11e9_a1ac_acfdce967714row3_col4\" class=\"data row3 col4\" >-0.225343</td>\n",
       "                        <td id=\"T_fa92de2c_d4bd_11e9_a1ac_acfdce967714row3_col5\" class=\"data row3 col5\" >-0.227577</td>\n",
       "                        <td id=\"T_fa92de2c_d4bd_11e9_a1ac_acfdce967714row3_col6\" class=\"data row3 col6\" >-0.481548</td>\n",
       "                        <td id=\"T_fa92de2c_d4bd_11e9_a1ac_acfdce967714row3_col7\" class=\"data row3 col7\" >0.473286</td>\n",
       "                        <td id=\"T_fa92de2c_d4bd_11e9_a1ac_acfdce967714row3_col8\" class=\"data row3 col8\" >0.279258</td>\n",
       "                        <td id=\"T_fa92de2c_d4bd_11e9_a1ac_acfdce967714row3_col9\" class=\"data row3 col9\" >0.44665</td>\n",
       "            </tr>\n",
       "            <tr>\n",
       "                        <th id=\"T_fa92de2c_d4bd_11e9_a1ac_acfdce967714level0_row4\" class=\"row_heading level0 row4\" >4</th>\n",
       "                        <td id=\"T_fa92de2c_d4bd_11e9_a1ac_acfdce967714row4_col0\" class=\"data row4 col0\" >0.0729144</td>\n",
       "                        <td id=\"T_fa92de2c_d4bd_11e9_a1ac_acfdce967714row4_col1\" class=\"data row4 col1\" >-0.285483</td>\n",
       "                        <td id=\"T_fa92de2c_d4bd_11e9_a1ac_acfdce967714row4_col2\" class=\"data row4 col2\" >0.152937</td>\n",
       "                        <td id=\"T_fa92de2c_d4bd_11e9_a1ac_acfdce967714row4_col3\" class=\"data row4 col3\" >-0.225343</td>\n",
       "                        <td id=\"T_fa92de2c_d4bd_11e9_a1ac_acfdce967714row4_col4\" class=\"data row4 col4\" >1</td>\n",
       "                        <td id=\"T_fa92de2c_d4bd_11e9_a1ac_acfdce967714row4_col5\" class=\"data row4 col5\" >-0.104438</td>\n",
       "                        <td id=\"T_fa92de2c_d4bd_11e9_a1ac_acfdce967714row4_col6\" class=\"data row4 col6\" >-0.147477</td>\n",
       "                        <td id=\"T_fa92de2c_d4bd_11e9_a1ac_acfdce967714row4_col7\" class=\"data row4 col7\" >-0.523283</td>\n",
       "                        <td id=\"T_fa92de2c_d4bd_11e9_a1ac_acfdce967714row4_col8\" class=\"data row4 col8\" >-0.614603</td>\n",
       "                        <td id=\"T_fa92de2c_d4bd_11e9_a1ac_acfdce967714row4_col9\" class=\"data row4 col9\" >-0.189916</td>\n",
       "            </tr>\n",
       "            <tr>\n",
       "                        <th id=\"T_fa92de2c_d4bd_11e9_a1ac_acfdce967714level0_row5\" class=\"row_heading level0 row5\" >5</th>\n",
       "                        <td id=\"T_fa92de2c_d4bd_11e9_a1ac_acfdce967714row5_col0\" class=\"data row5 col0\" >-0.233402</td>\n",
       "                        <td id=\"T_fa92de2c_d4bd_11e9_a1ac_acfdce967714row5_col1\" class=\"data row5 col1\" >0.38248</td>\n",
       "                        <td id=\"T_fa92de2c_d4bd_11e9_a1ac_acfdce967714row5_col2\" class=\"data row5 col2\" >-0.139176</td>\n",
       "                        <td id=\"T_fa92de2c_d4bd_11e9_a1ac_acfdce967714row5_col3\" class=\"data row5 col3\" >-0.227577</td>\n",
       "                        <td id=\"T_fa92de2c_d4bd_11e9_a1ac_acfdce967714row5_col4\" class=\"data row5 col4\" >-0.104438</td>\n",
       "                        <td id=\"T_fa92de2c_d4bd_11e9_a1ac_acfdce967714row5_col5\" class=\"data row5 col5\" >1</td>\n",
       "                        <td id=\"T_fa92de2c_d4bd_11e9_a1ac_acfdce967714row5_col6\" class=\"data row5 col6\" >-0.0302517</td>\n",
       "                        <td id=\"T_fa92de2c_d4bd_11e9_a1ac_acfdce967714row5_col7\" class=\"data row5 col7\" >0.41764</td>\n",
       "                        <td id=\"T_fa92de2c_d4bd_11e9_a1ac_acfdce967714row5_col8\" class=\"data row5 col8\" >0.205851</td>\n",
       "                        <td id=\"T_fa92de2c_d4bd_11e9_a1ac_acfdce967714row5_col9\" class=\"data row5 col9\" >0.0950844</td>\n",
       "            </tr>\n",
       "            <tr>\n",
       "                        <th id=\"T_fa92de2c_d4bd_11e9_a1ac_acfdce967714level0_row6\" class=\"row_heading level0 row6\" >6</th>\n",
       "                        <td id=\"T_fa92de2c_d4bd_11e9_a1ac_acfdce967714row6_col0\" class=\"data row6 col0\" >-0.731222</td>\n",
       "                        <td id=\"T_fa92de2c_d4bd_11e9_a1ac_acfdce967714row6_col1\" class=\"data row6 col1\" >-0.362842</td>\n",
       "                        <td id=\"T_fa92de2c_d4bd_11e9_a1ac_acfdce967714row6_col2\" class=\"data row6 col2\" >-0.0928948</td>\n",
       "                        <td id=\"T_fa92de2c_d4bd_11e9_a1ac_acfdce967714row6_col3\" class=\"data row6 col3\" >-0.481548</td>\n",
       "                        <td id=\"T_fa92de2c_d4bd_11e9_a1ac_acfdce967714row6_col4\" class=\"data row6 col4\" >-0.147477</td>\n",
       "                        <td id=\"T_fa92de2c_d4bd_11e9_a1ac_acfdce967714row6_col5\" class=\"data row6 col5\" >-0.0302517</td>\n",
       "                        <td id=\"T_fa92de2c_d4bd_11e9_a1ac_acfdce967714row6_col6\" class=\"data row6 col6\" >1</td>\n",
       "                        <td id=\"T_fa92de2c_d4bd_11e9_a1ac_acfdce967714row6_col7\" class=\"data row6 col7\" >-0.49444</td>\n",
       "                        <td id=\"T_fa92de2c_d4bd_11e9_a1ac_acfdce967714row6_col8\" class=\"data row6 col8\" >0.381407</td>\n",
       "                        <td id=\"T_fa92de2c_d4bd_11e9_a1ac_acfdce967714row6_col9\" class=\"data row6 col9\" >-0.353652</td>\n",
       "            </tr>\n",
       "            <tr>\n",
       "                        <th id=\"T_fa92de2c_d4bd_11e9_a1ac_acfdce967714level0_row7\" class=\"row_heading level0 row7\" >7</th>\n",
       "                        <td id=\"T_fa92de2c_d4bd_11e9_a1ac_acfdce967714row7_col0\" class=\"data row7 col0\" >0.477978</td>\n",
       "                        <td id=\"T_fa92de2c_d4bd_11e9_a1ac_acfdce967714row7_col1\" class=\"data row7 col1\" >0.642578</td>\n",
       "                        <td id=\"T_fa92de2c_d4bd_11e9_a1ac_acfdce967714row7_col2\" class=\"data row7 col2\" >0.0162655</td>\n",
       "                        <td id=\"T_fa92de2c_d4bd_11e9_a1ac_acfdce967714row7_col3\" class=\"data row7 col3\" >0.473286</td>\n",
       "                        <td id=\"T_fa92de2c_d4bd_11e9_a1ac_acfdce967714row7_col4\" class=\"data row7 col4\" >-0.523283</td>\n",
       "                        <td id=\"T_fa92de2c_d4bd_11e9_a1ac_acfdce967714row7_col5\" class=\"data row7 col5\" >0.41764</td>\n",
       "                        <td id=\"T_fa92de2c_d4bd_11e9_a1ac_acfdce967714row7_col6\" class=\"data row7 col6\" >-0.49444</td>\n",
       "                        <td id=\"T_fa92de2c_d4bd_11e9_a1ac_acfdce967714row7_col7\" class=\"data row7 col7\" >1</td>\n",
       "                        <td id=\"T_fa92de2c_d4bd_11e9_a1ac_acfdce967714row7_col8\" class=\"data row7 col8\" >0.375873</td>\n",
       "                        <td id=\"T_fa92de2c_d4bd_11e9_a1ac_acfdce967714row7_col9\" class=\"data row7 col9\" >0.417863</td>\n",
       "            </tr>\n",
       "            <tr>\n",
       "                        <th id=\"T_fa92de2c_d4bd_11e9_a1ac_acfdce967714level0_row8\" class=\"row_heading level0 row8\" >8</th>\n",
       "                        <td id=\"T_fa92de2c_d4bd_11e9_a1ac_acfdce967714row8_col0\" class=\"data row8 col0\" >-0.442621</td>\n",
       "                        <td id=\"T_fa92de2c_d4bd_11e9_a1ac_acfdce967714row8_col1\" class=\"data row8 col1\" >0.252556</td>\n",
       "                        <td id=\"T_fa92de2c_d4bd_11e9_a1ac_acfdce967714row8_col2\" class=\"data row8 col2\" >-0.434016</td>\n",
       "                        <td id=\"T_fa92de2c_d4bd_11e9_a1ac_acfdce967714row8_col3\" class=\"data row8 col3\" >0.279258</td>\n",
       "                        <td id=\"T_fa92de2c_d4bd_11e9_a1ac_acfdce967714row8_col4\" class=\"data row8 col4\" >-0.614603</td>\n",
       "                        <td id=\"T_fa92de2c_d4bd_11e9_a1ac_acfdce967714row8_col5\" class=\"data row8 col5\" >0.205851</td>\n",
       "                        <td id=\"T_fa92de2c_d4bd_11e9_a1ac_acfdce967714row8_col6\" class=\"data row8 col6\" >0.381407</td>\n",
       "                        <td id=\"T_fa92de2c_d4bd_11e9_a1ac_acfdce967714row8_col7\" class=\"data row8 col7\" >0.375873</td>\n",
       "                        <td id=\"T_fa92de2c_d4bd_11e9_a1ac_acfdce967714row8_col8\" class=\"data row8 col8\" >1</td>\n",
       "                        <td id=\"T_fa92de2c_d4bd_11e9_a1ac_acfdce967714row8_col9\" class=\"data row8 col9\" >0.150421</td>\n",
       "            </tr>\n",
       "            <tr>\n",
       "                        <th id=\"T_fa92de2c_d4bd_11e9_a1ac_acfdce967714level0_row9\" class=\"row_heading level0 row9\" >9</th>\n",
       "                        <td id=\"T_fa92de2c_d4bd_11e9_a1ac_acfdce967714row9_col0\" class=\"data row9 col0\" >0.0151847</td>\n",
       "                        <td id=\"T_fa92de2c_d4bd_11e9_a1ac_acfdce967714row9_col1\" class=\"data row9 col1\" >0.190047</td>\n",
       "                        <td id=\"T_fa92de2c_d4bd_11e9_a1ac_acfdce967714row9_col2\" class=\"data row9 col2\" >-0.383585</td>\n",
       "                        <td id=\"T_fa92de2c_d4bd_11e9_a1ac_acfdce967714row9_col3\" class=\"data row9 col3\" >0.44665</td>\n",
       "                        <td id=\"T_fa92de2c_d4bd_11e9_a1ac_acfdce967714row9_col4\" class=\"data row9 col4\" >-0.189916</td>\n",
       "                        <td id=\"T_fa92de2c_d4bd_11e9_a1ac_acfdce967714row9_col5\" class=\"data row9 col5\" >0.0950844</td>\n",
       "                        <td id=\"T_fa92de2c_d4bd_11e9_a1ac_acfdce967714row9_col6\" class=\"data row9 col6\" >-0.353652</td>\n",
       "                        <td id=\"T_fa92de2c_d4bd_11e9_a1ac_acfdce967714row9_col7\" class=\"data row9 col7\" >0.417863</td>\n",
       "                        <td id=\"T_fa92de2c_d4bd_11e9_a1ac_acfdce967714row9_col8\" class=\"data row9 col8\" >0.150421</td>\n",
       "                        <td id=\"T_fa92de2c_d4bd_11e9_a1ac_acfdce967714row9_col9\" class=\"data row9 col9\" >1</td>\n",
       "            </tr>\n",
       "    </tbody></table>"
      ],
      "text/plain": [
       "<pandas.io.formats.style.Styler at 0x1fc5280e080>"
      ]
     },
     "execution_count": 91,
     "metadata": {},
     "output_type": "execute_result"
    }
   ],
   "source": [
    "rs = np.random.RandomState(0)\n",
    "df = pd.DataFrame(rs.rand(10,10))\n",
    "corr = df.corr()\n",
    "corr.style.background_gradient(cmap='coolwarm')"
   ]
  },
  {
   "cell_type": "code",
   "execution_count": 95,
   "metadata": {},
   "outputs": [
    {
     "data": {
      "text/html": [
       "<div>\n",
       "<style scoped>\n",
       "    .dataframe tbody tr th:only-of-type {\n",
       "        vertical-align: middle;\n",
       "    }\n",
       "\n",
       "    .dataframe tbody tr th {\n",
       "        vertical-align: top;\n",
       "    }\n",
       "\n",
       "    .dataframe thead th {\n",
       "        text-align: right;\n",
       "    }\n",
       "</style>\n",
       "<table border=\"1\" class=\"dataframe\">\n",
       "  <thead>\n",
       "    <tr style=\"text-align: right;\">\n",
       "      <th></th>\n",
       "      <th>0</th>\n",
       "      <th>1</th>\n",
       "      <th>2</th>\n",
       "      <th>3</th>\n",
       "      <th>4</th>\n",
       "      <th>5</th>\n",
       "      <th>6</th>\n",
       "      <th>7</th>\n",
       "      <th>8</th>\n",
       "      <th>9</th>\n",
       "    </tr>\n",
       "  </thead>\n",
       "  <tbody>\n",
       "    <tr>\n",
       "      <th>0</th>\n",
       "      <td>0.548814</td>\n",
       "      <td>0.715189</td>\n",
       "      <td>0.602763</td>\n",
       "      <td>0.544883</td>\n",
       "      <td>0.423655</td>\n",
       "      <td>0.645894</td>\n",
       "      <td>0.437587</td>\n",
       "      <td>0.891773</td>\n",
       "      <td>0.963663</td>\n",
       "      <td>0.383442</td>\n",
       "    </tr>\n",
       "    <tr>\n",
       "      <th>1</th>\n",
       "      <td>0.791725</td>\n",
       "      <td>0.528895</td>\n",
       "      <td>0.568045</td>\n",
       "      <td>0.925597</td>\n",
       "      <td>0.071036</td>\n",
       "      <td>0.087129</td>\n",
       "      <td>0.020218</td>\n",
       "      <td>0.832620</td>\n",
       "      <td>0.778157</td>\n",
       "      <td>0.870012</td>\n",
       "    </tr>\n",
       "    <tr>\n",
       "      <th>2</th>\n",
       "      <td>0.978618</td>\n",
       "      <td>0.799159</td>\n",
       "      <td>0.461479</td>\n",
       "      <td>0.780529</td>\n",
       "      <td>0.118274</td>\n",
       "      <td>0.639921</td>\n",
       "      <td>0.143353</td>\n",
       "      <td>0.944669</td>\n",
       "      <td>0.521848</td>\n",
       "      <td>0.414662</td>\n",
       "    </tr>\n",
       "    <tr>\n",
       "      <th>3</th>\n",
       "      <td>0.264556</td>\n",
       "      <td>0.774234</td>\n",
       "      <td>0.456150</td>\n",
       "      <td>0.568434</td>\n",
       "      <td>0.018790</td>\n",
       "      <td>0.617635</td>\n",
       "      <td>0.612096</td>\n",
       "      <td>0.616934</td>\n",
       "      <td>0.943748</td>\n",
       "      <td>0.681820</td>\n",
       "    </tr>\n",
       "    <tr>\n",
       "      <th>4</th>\n",
       "      <td>0.359508</td>\n",
       "      <td>0.437032</td>\n",
       "      <td>0.697631</td>\n",
       "      <td>0.060225</td>\n",
       "      <td>0.666767</td>\n",
       "      <td>0.670638</td>\n",
       "      <td>0.210383</td>\n",
       "      <td>0.128926</td>\n",
       "      <td>0.315428</td>\n",
       "      <td>0.363711</td>\n",
       "    </tr>\n",
       "    <tr>\n",
       "      <th>5</th>\n",
       "      <td>0.570197</td>\n",
       "      <td>0.438602</td>\n",
       "      <td>0.988374</td>\n",
       "      <td>0.102045</td>\n",
       "      <td>0.208877</td>\n",
       "      <td>0.161310</td>\n",
       "      <td>0.653108</td>\n",
       "      <td>0.253292</td>\n",
       "      <td>0.466311</td>\n",
       "      <td>0.244426</td>\n",
       "    </tr>\n",
       "    <tr>\n",
       "      <th>6</th>\n",
       "      <td>0.158970</td>\n",
       "      <td>0.110375</td>\n",
       "      <td>0.656330</td>\n",
       "      <td>0.138183</td>\n",
       "      <td>0.196582</td>\n",
       "      <td>0.368725</td>\n",
       "      <td>0.820993</td>\n",
       "      <td>0.097101</td>\n",
       "      <td>0.837945</td>\n",
       "      <td>0.096098</td>\n",
       "    </tr>\n",
       "    <tr>\n",
       "      <th>7</th>\n",
       "      <td>0.976459</td>\n",
       "      <td>0.468651</td>\n",
       "      <td>0.976761</td>\n",
       "      <td>0.604846</td>\n",
       "      <td>0.739264</td>\n",
       "      <td>0.039188</td>\n",
       "      <td>0.282807</td>\n",
       "      <td>0.120197</td>\n",
       "      <td>0.296140</td>\n",
       "      <td>0.118728</td>\n",
       "    </tr>\n",
       "    <tr>\n",
       "      <th>8</th>\n",
       "      <td>0.317983</td>\n",
       "      <td>0.414263</td>\n",
       "      <td>0.064147</td>\n",
       "      <td>0.692472</td>\n",
       "      <td>0.566601</td>\n",
       "      <td>0.265389</td>\n",
       "      <td>0.523248</td>\n",
       "      <td>0.093941</td>\n",
       "      <td>0.575946</td>\n",
       "      <td>0.929296</td>\n",
       "    </tr>\n",
       "    <tr>\n",
       "      <th>9</th>\n",
       "      <td>0.318569</td>\n",
       "      <td>0.667410</td>\n",
       "      <td>0.131798</td>\n",
       "      <td>0.716327</td>\n",
       "      <td>0.289406</td>\n",
       "      <td>0.183191</td>\n",
       "      <td>0.586513</td>\n",
       "      <td>0.020108</td>\n",
       "      <td>0.828940</td>\n",
       "      <td>0.004695</td>\n",
       "    </tr>\n",
       "  </tbody>\n",
       "</table>\n",
       "</div>"
      ],
      "text/plain": [
       "          0         1         2         3         4         5         6  \\\n",
       "0  0.548814  0.715189  0.602763  0.544883  0.423655  0.645894  0.437587   \n",
       "1  0.791725  0.528895  0.568045  0.925597  0.071036  0.087129  0.020218   \n",
       "2  0.978618  0.799159  0.461479  0.780529  0.118274  0.639921  0.143353   \n",
       "3  0.264556  0.774234  0.456150  0.568434  0.018790  0.617635  0.612096   \n",
       "4  0.359508  0.437032  0.697631  0.060225  0.666767  0.670638  0.210383   \n",
       "5  0.570197  0.438602  0.988374  0.102045  0.208877  0.161310  0.653108   \n",
       "6  0.158970  0.110375  0.656330  0.138183  0.196582  0.368725  0.820993   \n",
       "7  0.976459  0.468651  0.976761  0.604846  0.739264  0.039188  0.282807   \n",
       "8  0.317983  0.414263  0.064147  0.692472  0.566601  0.265389  0.523248   \n",
       "9  0.318569  0.667410  0.131798  0.716327  0.289406  0.183191  0.586513   \n",
       "\n",
       "          7         8         9  \n",
       "0  0.891773  0.963663  0.383442  \n",
       "1  0.832620  0.778157  0.870012  \n",
       "2  0.944669  0.521848  0.414662  \n",
       "3  0.616934  0.943748  0.681820  \n",
       "4  0.128926  0.315428  0.363711  \n",
       "5  0.253292  0.466311  0.244426  \n",
       "6  0.097101  0.837945  0.096098  \n",
       "7  0.120197  0.296140  0.118728  \n",
       "8  0.093941  0.575946  0.929296  \n",
       "9  0.020108  0.828940  0.004695  "
      ]
     },
     "execution_count": 95,
     "metadata": {},
     "output_type": "execute_result"
    }
   ],
   "source": [
    "df"
   ]
  },
  {
   "cell_type": "code",
   "execution_count": 4,
   "metadata": {},
   "outputs": [
    {
     "data": {
      "text/html": [
       "<div>\n",
       "<style scoped>\n",
       "    .dataframe tbody tr th:only-of-type {\n",
       "        vertical-align: middle;\n",
       "    }\n",
       "\n",
       "    .dataframe tbody tr th {\n",
       "        vertical-align: top;\n",
       "    }\n",
       "\n",
       "    .dataframe thead th {\n",
       "        text-align: right;\n",
       "    }\n",
       "</style>\n",
       "<table border=\"1\" class=\"dataframe\">\n",
       "  <thead>\n",
       "    <tr style=\"text-align: right;\">\n",
       "      <th></th>\n",
       "      <th>PassengerId</th>\n",
       "      <th>Survived</th>\n",
       "      <th>Pclass</th>\n",
       "      <th>Name</th>\n",
       "      <th>Sex</th>\n",
       "      <th>Age</th>\n",
       "      <th>SibSp</th>\n",
       "      <th>Parch</th>\n",
       "      <th>Ticket</th>\n",
       "      <th>Fare</th>\n",
       "      <th>Cabin</th>\n",
       "      <th>Embarked</th>\n",
       "    </tr>\n",
       "  </thead>\n",
       "  <tbody>\n",
       "    <tr>\n",
       "      <th>0</th>\n",
       "      <td>1</td>\n",
       "      <td>0</td>\n",
       "      <td>3</td>\n",
       "      <td>Braund, Mr. Owen Harris</td>\n",
       "      <td>male</td>\n",
       "      <td>22.0</td>\n",
       "      <td>1</td>\n",
       "      <td>0</td>\n",
       "      <td>A/5 21171</td>\n",
       "      <td>7.2500</td>\n",
       "      <td>NaN</td>\n",
       "      <td>S</td>\n",
       "    </tr>\n",
       "    <tr>\n",
       "      <th>1</th>\n",
       "      <td>2</td>\n",
       "      <td>1</td>\n",
       "      <td>1</td>\n",
       "      <td>Cumings, Mrs. John Bradley (Florence Briggs Th...</td>\n",
       "      <td>female</td>\n",
       "      <td>38.0</td>\n",
       "      <td>1</td>\n",
       "      <td>0</td>\n",
       "      <td>PC 17599</td>\n",
       "      <td>71.2833</td>\n",
       "      <td>C85</td>\n",
       "      <td>C</td>\n",
       "    </tr>\n",
       "    <tr>\n",
       "      <th>2</th>\n",
       "      <td>3</td>\n",
       "      <td>1</td>\n",
       "      <td>3</td>\n",
       "      <td>Heikkinen, Miss. Laina</td>\n",
       "      <td>female</td>\n",
       "      <td>26.0</td>\n",
       "      <td>0</td>\n",
       "      <td>0</td>\n",
       "      <td>STON/O2. 3101282</td>\n",
       "      <td>7.9250</td>\n",
       "      <td>NaN</td>\n",
       "      <td>S</td>\n",
       "    </tr>\n",
       "    <tr>\n",
       "      <th>3</th>\n",
       "      <td>4</td>\n",
       "      <td>1</td>\n",
       "      <td>1</td>\n",
       "      <td>Futrelle, Mrs. Jacques Heath (Lily May Peel)</td>\n",
       "      <td>female</td>\n",
       "      <td>35.0</td>\n",
       "      <td>1</td>\n",
       "      <td>0</td>\n",
       "      <td>113803</td>\n",
       "      <td>53.1000</td>\n",
       "      <td>C123</td>\n",
       "      <td>S</td>\n",
       "    </tr>\n",
       "    <tr>\n",
       "      <th>4</th>\n",
       "      <td>5</td>\n",
       "      <td>0</td>\n",
       "      <td>3</td>\n",
       "      <td>Allen, Mr. William Henry</td>\n",
       "      <td>male</td>\n",
       "      <td>35.0</td>\n",
       "      <td>0</td>\n",
       "      <td>0</td>\n",
       "      <td>373450</td>\n",
       "      <td>8.0500</td>\n",
       "      <td>NaN</td>\n",
       "      <td>S</td>\n",
       "    </tr>\n",
       "  </tbody>\n",
       "</table>\n",
       "</div>"
      ],
      "text/plain": [
       "   PassengerId  Survived  Pclass  \\\n",
       "0            1         0       3   \n",
       "1            2         1       1   \n",
       "2            3         1       3   \n",
       "3            4         1       1   \n",
       "4            5         0       3   \n",
       "\n",
       "                                                Name     Sex   Age  SibSp  \\\n",
       "0                            Braund, Mr. Owen Harris    male  22.0      1   \n",
       "1  Cumings, Mrs. John Bradley (Florence Briggs Th...  female  38.0      1   \n",
       "2                             Heikkinen, Miss. Laina  female  26.0      0   \n",
       "3       Futrelle, Mrs. Jacques Heath (Lily May Peel)  female  35.0      1   \n",
       "4                           Allen, Mr. William Henry    male  35.0      0   \n",
       "\n",
       "   Parch            Ticket     Fare Cabin Embarked  \n",
       "0      0         A/5 21171   7.2500   NaN        S  \n",
       "1      0          PC 17599  71.2833   C85        C  \n",
       "2      0  STON/O2. 3101282   7.9250   NaN        S  \n",
       "3      0            113803  53.1000  C123        S  \n",
       "4      0            373450   8.0500   NaN        S  "
      ]
     },
     "execution_count": 4,
     "metadata": {},
     "output_type": "execute_result"
    }
   ],
   "source": [
    "data = pd.read_csv(\"Datasets/titanic_train.csv\")\n",
    "data.head()"
   ]
  },
  {
   "cell_type": "code",
   "execution_count": 15,
   "metadata": {},
   "outputs": [
    {
     "data": {
      "text/html": [
       "<div>\n",
       "<style scoped>\n",
       "    .dataframe tbody tr th:only-of-type {\n",
       "        vertical-align: middle;\n",
       "    }\n",
       "\n",
       "    .dataframe tbody tr th {\n",
       "        vertical-align: top;\n",
       "    }\n",
       "\n",
       "    .dataframe thead th {\n",
       "        text-align: right;\n",
       "    }\n",
       "</style>\n",
       "<table border=\"1\" class=\"dataframe\">\n",
       "  <thead>\n",
       "    <tr style=\"text-align: right;\">\n",
       "      <th>Sex</th>\n",
       "      <th>female</th>\n",
       "      <th>male</th>\n",
       "      <th>All</th>\n",
       "    </tr>\n",
       "    <tr>\n",
       "      <th>Survived</th>\n",
       "      <th></th>\n",
       "      <th></th>\n",
       "      <th></th>\n",
       "    </tr>\n",
       "  </thead>\n",
       "  <tbody>\n",
       "    <tr>\n",
       "      <th>0</th>\n",
       "      <td>81</td>\n",
       "      <td>468</td>\n",
       "      <td>549</td>\n",
       "    </tr>\n",
       "    <tr>\n",
       "      <th>1</th>\n",
       "      <td>233</td>\n",
       "      <td>109</td>\n",
       "      <td>342</td>\n",
       "    </tr>\n",
       "    <tr>\n",
       "      <th>All</th>\n",
       "      <td>314</td>\n",
       "      <td>577</td>\n",
       "      <td>891</td>\n",
       "    </tr>\n",
       "  </tbody>\n",
       "</table>\n",
       "</div>"
      ],
      "text/plain": [
       "Sex       female  male  All\n",
       "Survived                   \n",
       "0             81   468  549\n",
       "1            233   109  342\n",
       "All          314   577  891"
      ]
     },
     "execution_count": 15,
     "metadata": {},
     "output_type": "execute_result"
    }
   ],
   "source": [
    "pd.crosstab(data.Survived,data.Sex ,margins=True)"
   ]
  },
  {
   "cell_type": "code",
   "execution_count": 16,
   "metadata": {},
   "outputs": [
    {
     "data": {
      "text/html": [
       "<div>\n",
       "<style scoped>\n",
       "    .dataframe tbody tr th:only-of-type {\n",
       "        vertical-align: middle;\n",
       "    }\n",
       "\n",
       "    .dataframe tbody tr th {\n",
       "        vertical-align: top;\n",
       "    }\n",
       "\n",
       "    .dataframe thead th {\n",
       "        text-align: right;\n",
       "    }\n",
       "</style>\n",
       "<table border=\"1\" class=\"dataframe\">\n",
       "  <thead>\n",
       "    <tr style=\"text-align: right;\">\n",
       "      <th>Sex</th>\n",
       "      <th>female</th>\n",
       "      <th>male</th>\n",
       "    </tr>\n",
       "  </thead>\n",
       "  <tbody>\n",
       "    <tr>\n",
       "      <th>Died</th>\n",
       "      <td>81</td>\n",
       "      <td>468</td>\n",
       "    </tr>\n",
       "    <tr>\n",
       "      <th>Survived</th>\n",
       "      <td>233</td>\n",
       "      <td>109</td>\n",
       "    </tr>\n",
       "  </tbody>\n",
       "</table>\n",
       "</div>"
      ],
      "text/plain": [
       "Sex       female  male\n",
       "Died          81   468\n",
       "Survived     233   109"
      ]
     },
     "execution_count": 16,
     "metadata": {},
     "output_type": "execute_result"
    }
   ],
   "source": [
    "survived_sex = pd.crosstab(index= data[\"Survived\"], columns = data[\"Sex\"])\n",
    "survived_sex.index = ['Died', 'Survived'] # index'in isimlendirilmesi\n",
    "survived_sex"
   ]
  },
  {
   "cell_type": "code",
   "execution_count": 97,
   "metadata": {},
   "outputs": [],
   "source": [
    "char_cabin = data[\"Cabin\"].astype(str) # convert cabin to str\n",
    "new_cabin = np.array([cabin[0] for cabin in char_cabin])\n",
    "data[\"CabinCat\"] = pd.Categorical(new_cabin)"
   ]
  },
  {
   "cell_type": "code",
   "execution_count": 101,
   "metadata": {},
   "outputs": [
    {
     "data": {
      "text/html": [
       "<div>\n",
       "<style scoped>\n",
       "    .dataframe tbody tr th:only-of-type {\n",
       "        vertical-align: middle;\n",
       "    }\n",
       "\n",
       "    .dataframe tbody tr th {\n",
       "        vertical-align: top;\n",
       "    }\n",
       "\n",
       "    .dataframe thead th {\n",
       "        text-align: right;\n",
       "    }\n",
       "</style>\n",
       "<table border=\"1\" class=\"dataframe\">\n",
       "  <thead>\n",
       "    <tr style=\"text-align: right;\">\n",
       "      <th>col_0</th>\n",
       "      <th>count</th>\n",
       "    </tr>\n",
       "    <tr>\n",
       "      <th>Survived</th>\n",
       "      <th></th>\n",
       "    </tr>\n",
       "  </thead>\n",
       "  <tbody>\n",
       "    <tr>\n",
       "      <th>0</th>\n",
       "      <td>549</td>\n",
       "    </tr>\n",
       "    <tr>\n",
       "      <th>1</th>\n",
       "      <td>342</td>\n",
       "    </tr>\n",
       "  </tbody>\n",
       "</table>\n",
       "</div>"
      ],
      "text/plain": [
       "col_0     count\n",
       "Survived       \n",
       "0           549\n",
       "1           342"
      ]
     },
     "execution_count": 101,
     "metadata": {},
     "output_type": "execute_result"
    }
   ],
   "source": [
    "my_tab = pd.crosstab(index=data[\"Survived\"], columns=\"count\")\n",
    "my_tab"
   ]
  },
  {
   "cell_type": "code",
   "execution_count": 104,
   "metadata": {},
   "outputs": [
    {
     "data": {
      "text/html": [
       "<div>\n",
       "<style scoped>\n",
       "    .dataframe tbody tr th:only-of-type {\n",
       "        vertical-align: middle;\n",
       "    }\n",
       "\n",
       "    .dataframe tbody tr th {\n",
       "        vertical-align: top;\n",
       "    }\n",
       "\n",
       "    .dataframe thead th {\n",
       "        text-align: right;\n",
       "    }\n",
       "</style>\n",
       "<table border=\"1\" class=\"dataframe\">\n",
       "  <thead>\n",
       "    <tr style=\"text-align: right;\">\n",
       "      <th>col_0</th>\n",
       "      <th>Survived</th>\n",
       "    </tr>\n",
       "    <tr>\n",
       "      <th>CabinCat</th>\n",
       "      <th></th>\n",
       "    </tr>\n",
       "  </thead>\n",
       "  <tbody>\n",
       "    <tr>\n",
       "      <th>A</th>\n",
       "      <td>15</td>\n",
       "    </tr>\n",
       "    <tr>\n",
       "      <th>B</th>\n",
       "      <td>47</td>\n",
       "    </tr>\n",
       "    <tr>\n",
       "      <th>C</th>\n",
       "      <td>59</td>\n",
       "    </tr>\n",
       "    <tr>\n",
       "      <th>D</th>\n",
       "      <td>33</td>\n",
       "    </tr>\n",
       "    <tr>\n",
       "      <th>E</th>\n",
       "      <td>32</td>\n",
       "    </tr>\n",
       "    <tr>\n",
       "      <th>F</th>\n",
       "      <td>13</td>\n",
       "    </tr>\n",
       "    <tr>\n",
       "      <th>G</th>\n",
       "      <td>4</td>\n",
       "    </tr>\n",
       "    <tr>\n",
       "      <th>T</th>\n",
       "      <td>1</td>\n",
       "    </tr>\n",
       "    <tr>\n",
       "      <th>n</th>\n",
       "      <td>687</td>\n",
       "    </tr>\n",
       "  </tbody>\n",
       "</table>\n",
       "</div>"
      ],
      "text/plain": [
       "col_0     Survived\n",
       "CabinCat          \n",
       "A               15\n",
       "B               47\n",
       "C               59\n",
       "D               33\n",
       "E               32\n",
       "F               13\n",
       "G                4\n",
       "T                1\n",
       "n              687"
      ]
     },
     "execution_count": 104,
     "metadata": {},
     "output_type": "execute_result"
    }
   ],
   "source": [
    "pd.crosstab(index=data[\"CabinCat\"], columns=\"Survived\") # sadece kolona isim vermek"
   ]
  },
  {
   "cell_type": "code",
   "execution_count": 20,
   "metadata": {},
   "outputs": [
    {
     "data": {
      "text/html": [
       "<div>\n",
       "<style scoped>\n",
       "    .dataframe tbody tr th:only-of-type {\n",
       "        vertical-align: middle;\n",
       "    }\n",
       "\n",
       "    .dataframe tbody tr th {\n",
       "        vertical-align: top;\n",
       "    }\n",
       "\n",
       "    .dataframe thead th {\n",
       "        text-align: right;\n",
       "    }\n",
       "</style>\n",
       "<table border=\"1\" class=\"dataframe\">\n",
       "  <thead>\n",
       "    <tr style=\"text-align: right;\">\n",
       "      <th>Survived</th>\n",
       "      <th>0</th>\n",
       "      <th>1</th>\n",
       "    </tr>\n",
       "    <tr>\n",
       "      <th>CabinCat</th>\n",
       "      <th></th>\n",
       "      <th></th>\n",
       "    </tr>\n",
       "  </thead>\n",
       "  <tbody>\n",
       "    <tr>\n",
       "      <th>A</th>\n",
       "      <td>8</td>\n",
       "      <td>7</td>\n",
       "    </tr>\n",
       "    <tr>\n",
       "      <th>B</th>\n",
       "      <td>12</td>\n",
       "      <td>35</td>\n",
       "    </tr>\n",
       "    <tr>\n",
       "      <th>C</th>\n",
       "      <td>24</td>\n",
       "      <td>35</td>\n",
       "    </tr>\n",
       "    <tr>\n",
       "      <th>D</th>\n",
       "      <td>8</td>\n",
       "      <td>25</td>\n",
       "    </tr>\n",
       "    <tr>\n",
       "      <th>E</th>\n",
       "      <td>8</td>\n",
       "      <td>24</td>\n",
       "    </tr>\n",
       "    <tr>\n",
       "      <th>F</th>\n",
       "      <td>5</td>\n",
       "      <td>8</td>\n",
       "    </tr>\n",
       "    <tr>\n",
       "      <th>G</th>\n",
       "      <td>2</td>\n",
       "      <td>2</td>\n",
       "    </tr>\n",
       "    <tr>\n",
       "      <th>T</th>\n",
       "      <td>1</td>\n",
       "      <td>0</td>\n",
       "    </tr>\n",
       "    <tr>\n",
       "      <th>n</th>\n",
       "      <td>481</td>\n",
       "      <td>206</td>\n",
       "    </tr>\n",
       "  </tbody>\n",
       "</table>\n",
       "</div>"
      ],
      "text/plain": [
       "Survived    0    1\n",
       "CabinCat          \n",
       "A           8    7\n",
       "B          12   35\n",
       "C          24   35\n",
       "D           8   25\n",
       "E           8   24\n",
       "F           5    8\n",
       "G           2    2\n",
       "T           1    0\n",
       "n         481  206"
      ]
     },
     "execution_count": 20,
     "metadata": {},
     "output_type": "execute_result"
    }
   ],
   "source": [
    "my_tab = pd.crosstab(index=data[\"CabinCat\"], columns=data[\"Survived\"])\n",
    "my_tab"
   ]
  },
  {
   "cell_type": "code",
   "execution_count": 21,
   "metadata": {},
   "outputs": [
    {
     "data": {
      "text/html": [
       "<div>\n",
       "<style scoped>\n",
       "    .dataframe tbody tr th:only-of-type {\n",
       "        vertical-align: middle;\n",
       "    }\n",
       "\n",
       "    .dataframe tbody tr th {\n",
       "        vertical-align: top;\n",
       "    }\n",
       "\n",
       "    .dataframe thead th {\n",
       "        text-align: right;\n",
       "    }\n",
       "</style>\n",
       "<table border=\"1\" class=\"dataframe\">\n",
       "  <thead>\n",
       "    <tr style=\"text-align: right;\">\n",
       "      <th>Pclass</th>\n",
       "      <th>1</th>\n",
       "      <th>2</th>\n",
       "      <th>3</th>\n",
       "      <th>All</th>\n",
       "    </tr>\n",
       "    <tr>\n",
       "      <th>Survived</th>\n",
       "      <th></th>\n",
       "      <th></th>\n",
       "      <th></th>\n",
       "      <th></th>\n",
       "    </tr>\n",
       "  </thead>\n",
       "  <tbody>\n",
       "    <tr>\n",
       "      <th>0</th>\n",
       "      <td>80</td>\n",
       "      <td>97</td>\n",
       "      <td>372</td>\n",
       "      <td>549</td>\n",
       "    </tr>\n",
       "    <tr>\n",
       "      <th>1</th>\n",
       "      <td>136</td>\n",
       "      <td>87</td>\n",
       "      <td>119</td>\n",
       "      <td>342</td>\n",
       "    </tr>\n",
       "    <tr>\n",
       "      <th>All</th>\n",
       "      <td>216</td>\n",
       "      <td>184</td>\n",
       "      <td>491</td>\n",
       "      <td>891</td>\n",
       "    </tr>\n",
       "  </tbody>\n",
       "</table>\n",
       "</div>"
      ],
      "text/plain": [
       "Pclass      1    2    3  All\n",
       "Survived                    \n",
       "0          80   97  372  549\n",
       "1         136   87  119  342\n",
       "All       216  184  491  891"
      ]
     },
     "execution_count": 21,
     "metadata": {},
     "output_type": "execute_result"
    }
   ],
   "source": [
    "survived_class = pd.crosstab(index=data[\"Survived\"], columns = data[\"Pclass\"], margins = True)\n",
    "survived_class"
   ]
  },
  {
   "cell_type": "code",
   "execution_count": 22,
   "metadata": {},
   "outputs": [
    {
     "data": {
      "text/html": [
       "<div>\n",
       "<style scoped>\n",
       "    .dataframe tbody tr th:only-of-type {\n",
       "        vertical-align: middle;\n",
       "    }\n",
       "\n",
       "    .dataframe tbody tr th {\n",
       "        vertical-align: top;\n",
       "    }\n",
       "\n",
       "    .dataframe thead th {\n",
       "        text-align: right;\n",
       "    }\n",
       "</style>\n",
       "<table border=\"1\" class=\"dataframe\">\n",
       "  <thead>\n",
       "    <tr style=\"text-align: right;\">\n",
       "      <th></th>\n",
       "      <th>class1</th>\n",
       "      <th>class2</th>\n",
       "      <th>class3</th>\n",
       "      <th>rowtotal</th>\n",
       "    </tr>\n",
       "  </thead>\n",
       "  <tbody>\n",
       "    <tr>\n",
       "      <th>died</th>\n",
       "      <td>0.089787</td>\n",
       "      <td>0.108866</td>\n",
       "      <td>0.417508</td>\n",
       "      <td>0.616162</td>\n",
       "    </tr>\n",
       "    <tr>\n",
       "      <th>survived</th>\n",
       "      <td>0.152637</td>\n",
       "      <td>0.097643</td>\n",
       "      <td>0.133558</td>\n",
       "      <td>0.383838</td>\n",
       "    </tr>\n",
       "    <tr>\n",
       "      <th>coltotal</th>\n",
       "      <td>0.242424</td>\n",
       "      <td>0.206510</td>\n",
       "      <td>0.551066</td>\n",
       "      <td>1.000000</td>\n",
       "    </tr>\n",
       "  </tbody>\n",
       "</table>\n",
       "</div>"
      ],
      "text/plain": [
       "            class1    class2    class3  rowtotal\n",
       "died      0.089787  0.108866  0.417508  0.616162\n",
       "survived  0.152637  0.097643  0.133558  0.383838\n",
       "coltotal  0.242424  0.206510  0.551066  1.000000"
      ]
     },
     "execution_count": 22,
     "metadata": {},
     "output_type": "execute_result"
    }
   ],
   "source": [
    "survived_class.columns = [\"class1\", \"class2\", \"class3\", \"rowtotal\"] # renaming columns\n",
    "survived_class.index = [\"died\", \"survived\", \"coltotal\"] # renaming rows\n",
    "survived_class\n",
    "survived_class/survived_class.loc[\"coltotal\", \"rowtotal\"] # tüm hücrelerin total sayıya bölünmesi \n",
    "# verilerin normalizasyonu"
   ]
  },
  {
   "cell_type": "code",
   "execution_count": 23,
   "metadata": {},
   "outputs": [
    {
     "data": {
      "text/html": [
       "<div>\n",
       "<style scoped>\n",
       "    .dataframe tbody tr th:only-of-type {\n",
       "        vertical-align: middle;\n",
       "    }\n",
       "\n",
       "    .dataframe tbody tr th {\n",
       "        vertical-align: top;\n",
       "    }\n",
       "\n",
       "    .dataframe thead th {\n",
       "        text-align: right;\n",
       "    }\n",
       "</style>\n",
       "<table border=\"1\" class=\"dataframe\">\n",
       "  <thead>\n",
       "    <tr style=\"text-align: right;\">\n",
       "      <th></th>\n",
       "      <th>Name</th>\n",
       "      <th>Age</th>\n",
       "      <th>Rating</th>\n",
       "    </tr>\n",
       "  </thead>\n",
       "  <tbody>\n",
       "    <tr>\n",
       "      <th>0</th>\n",
       "      <td>Tom</td>\n",
       "      <td>25</td>\n",
       "      <td>4.23</td>\n",
       "    </tr>\n",
       "    <tr>\n",
       "      <th>1</th>\n",
       "      <td>James</td>\n",
       "      <td>26</td>\n",
       "      <td>3.24</td>\n",
       "    </tr>\n",
       "    <tr>\n",
       "      <th>2</th>\n",
       "      <td>Ricky</td>\n",
       "      <td>25</td>\n",
       "      <td>3.98</td>\n",
       "    </tr>\n",
       "    <tr>\n",
       "      <th>3</th>\n",
       "      <td>Vin</td>\n",
       "      <td>23</td>\n",
       "      <td>2.56</td>\n",
       "    </tr>\n",
       "    <tr>\n",
       "      <th>4</th>\n",
       "      <td>Steve</td>\n",
       "      <td>30</td>\n",
       "      <td>3.20</td>\n",
       "    </tr>\n",
       "    <tr>\n",
       "      <th>5</th>\n",
       "      <td>Smith</td>\n",
       "      <td>29</td>\n",
       "      <td>4.60</td>\n",
       "    </tr>\n",
       "    <tr>\n",
       "      <th>6</th>\n",
       "      <td>Jack</td>\n",
       "      <td>23</td>\n",
       "      <td>3.80</td>\n",
       "    </tr>\n",
       "    <tr>\n",
       "      <th>7</th>\n",
       "      <td>Lee</td>\n",
       "      <td>34</td>\n",
       "      <td>3.78</td>\n",
       "    </tr>\n",
       "    <tr>\n",
       "      <th>8</th>\n",
       "      <td>David</td>\n",
       "      <td>40</td>\n",
       "      <td>2.98</td>\n",
       "    </tr>\n",
       "    <tr>\n",
       "      <th>9</th>\n",
       "      <td>Gasper</td>\n",
       "      <td>30</td>\n",
       "      <td>4.80</td>\n",
       "    </tr>\n",
       "    <tr>\n",
       "      <th>10</th>\n",
       "      <td>Betina</td>\n",
       "      <td>51</td>\n",
       "      <td>4.10</td>\n",
       "    </tr>\n",
       "    <tr>\n",
       "      <th>11</th>\n",
       "      <td>Andres</td>\n",
       "      <td>46</td>\n",
       "      <td>3.65</td>\n",
       "    </tr>\n",
       "  </tbody>\n",
       "</table>\n",
       "</div>"
      ],
      "text/plain": [
       "      Name  Age  Rating\n",
       "0      Tom   25    4.23\n",
       "1    James   26    3.24\n",
       "2    Ricky   25    3.98\n",
       "3      Vin   23    2.56\n",
       "4    Steve   30    3.20\n",
       "5    Smith   29    4.60\n",
       "6     Jack   23    3.80\n",
       "7      Lee   34    3.78\n",
       "8    David   40    2.98\n",
       "9   Gasper   30    4.80\n",
       "10  Betina   51    4.10\n",
       "11  Andres   46    3.65"
      ]
     },
     "execution_count": 23,
     "metadata": {},
     "output_type": "execute_result"
    }
   ],
   "source": [
    "d = {'Name':pd.Series(['Tom','James','Ricky','Vin','Steve','Smith','Jack',\n",
    "   'Lee','David','Gasper','Betina','Andres']),\n",
    "   'Age':pd.Series([25,26,25,23,30,29,23,34,40,30,51,46]),\n",
    "   'Rating':pd.Series([4.23,3.24,3.98,2.56,3.20,4.6,3.8,3.78,2.98,4.80,4.10,3.65])\n",
    "}\n",
    "df = pd.DataFrame(d)\n",
    "df"
   ]
  },
  {
   "cell_type": "code",
   "execution_count": 24,
   "metadata": {},
   "outputs": [
    {
     "name": "stdout",
     "output_type": "stream",
     "text": [
      "Name      TomJamesRickyVinSteveSmithJackLeeDavidGasperBe...\n",
      "Age                                                     382\n",
      "Rating                                                44.92\n",
      "dtype: object\n"
     ]
    }
   ],
   "source": [
    "print(df.sum())"
   ]
  },
  {
   "cell_type": "code",
   "execution_count": 25,
   "metadata": {},
   "outputs": [
    {
     "name": "stdout",
     "output_type": "stream",
     "text": [
      "-------Sum-----------------\n",
      "Name      TomJamesRickyVinSteveSmithJackLeeDavidGasperBe...\n",
      "Age                                                     382\n",
      "Rating                                                44.92\n",
      "dtype: object\n",
      "-------Mean-----------------\n",
      "Age       31.833333\n",
      "Rating     3.743333\n",
      "dtype: float64\n",
      "-------Std-----------------\n",
      "Age       9.232682\n",
      "Rating    0.661628\n",
      "dtype: float64\n",
      "-------Describe-----------------\n",
      "             Age     Rating\n",
      "count  12.000000  12.000000\n",
      "mean   31.833333   3.743333\n",
      "std     9.232682   0.661628\n",
      "min    23.000000   2.560000\n",
      "25%    25.000000   3.230000\n",
      "50%    29.500000   3.790000\n",
      "75%    35.500000   4.132500\n",
      "max    51.000000   4.800000\n"
     ]
    }
   ],
   "source": [
    "print(\"-------Sum-----------------\")\n",
    "print(df.sum())\n",
    "print(\"-------Mean-----------------\")\n",
    "print(df.mean())\n",
    "print(\"-------Std-----------------\")\n",
    "print(df.std())\n",
    "print(\"-------Describe-----------------\")\n",
    "print(df.describe())"
   ]
  },
  {
   "cell_type": "code",
   "execution_count": 26,
   "metadata": {},
   "outputs": [
    {
     "data": {
      "text/html": [
       "<div>\n",
       "<style scoped>\n",
       "    .dataframe tbody tr th:only-of-type {\n",
       "        vertical-align: middle;\n",
       "    }\n",
       "\n",
       "    .dataframe tbody tr th {\n",
       "        vertical-align: top;\n",
       "    }\n",
       "\n",
       "    .dataframe thead th {\n",
       "        text-align: right;\n",
       "    }\n",
       "</style>\n",
       "<table border=\"1\" class=\"dataframe\">\n",
       "  <thead>\n",
       "    <tr style=\"text-align: right;\">\n",
       "      <th></th>\n",
       "      <th>Name</th>\n",
       "      <th>Age</th>\n",
       "      <th>Rating</th>\n",
       "    </tr>\n",
       "  </thead>\n",
       "  <tbody>\n",
       "    <tr>\n",
       "      <th>count</th>\n",
       "      <td>12</td>\n",
       "      <td>12.000000</td>\n",
       "      <td>12.000000</td>\n",
       "    </tr>\n",
       "    <tr>\n",
       "      <th>unique</th>\n",
       "      <td>12</td>\n",
       "      <td>NaN</td>\n",
       "      <td>NaN</td>\n",
       "    </tr>\n",
       "    <tr>\n",
       "      <th>top</th>\n",
       "      <td>Smith</td>\n",
       "      <td>NaN</td>\n",
       "      <td>NaN</td>\n",
       "    </tr>\n",
       "    <tr>\n",
       "      <th>freq</th>\n",
       "      <td>1</td>\n",
       "      <td>NaN</td>\n",
       "      <td>NaN</td>\n",
       "    </tr>\n",
       "    <tr>\n",
       "      <th>mean</th>\n",
       "      <td>NaN</td>\n",
       "      <td>31.833333</td>\n",
       "      <td>3.743333</td>\n",
       "    </tr>\n",
       "    <tr>\n",
       "      <th>std</th>\n",
       "      <td>NaN</td>\n",
       "      <td>9.232682</td>\n",
       "      <td>0.661628</td>\n",
       "    </tr>\n",
       "    <tr>\n",
       "      <th>min</th>\n",
       "      <td>NaN</td>\n",
       "      <td>23.000000</td>\n",
       "      <td>2.560000</td>\n",
       "    </tr>\n",
       "    <tr>\n",
       "      <th>25%</th>\n",
       "      <td>NaN</td>\n",
       "      <td>25.000000</td>\n",
       "      <td>3.230000</td>\n",
       "    </tr>\n",
       "    <tr>\n",
       "      <th>50%</th>\n",
       "      <td>NaN</td>\n",
       "      <td>29.500000</td>\n",
       "      <td>3.790000</td>\n",
       "    </tr>\n",
       "    <tr>\n",
       "      <th>75%</th>\n",
       "      <td>NaN</td>\n",
       "      <td>35.500000</td>\n",
       "      <td>4.132500</td>\n",
       "    </tr>\n",
       "    <tr>\n",
       "      <th>max</th>\n",
       "      <td>NaN</td>\n",
       "      <td>51.000000</td>\n",
       "      <td>4.800000</td>\n",
       "    </tr>\n",
       "  </tbody>\n",
       "</table>\n",
       "</div>"
      ],
      "text/plain": [
       "         Name        Age     Rating\n",
       "count      12  12.000000  12.000000\n",
       "unique     12        NaN        NaN\n",
       "top     Smith        NaN        NaN\n",
       "freq        1        NaN        NaN\n",
       "mean      NaN  31.833333   3.743333\n",
       "std       NaN   9.232682   0.661628\n",
       "min       NaN  23.000000   2.560000\n",
       "25%       NaN  25.000000   3.230000\n",
       "50%       NaN  29.500000   3.790000\n",
       "75%       NaN  35.500000   4.132500\n",
       "max       NaN  51.000000   4.800000"
      ]
     },
     "execution_count": 26,
     "metadata": {},
     "output_type": "execute_result"
    }
   ],
   "source": [
    "df.describe(include = 'all')"
   ]
  },
  {
   "cell_type": "code",
   "execution_count": 27,
   "metadata": {},
   "outputs": [
    {
     "name": "stdout",
     "output_type": "stream",
     "text": [
      "                                                 Name  Age Rating\n",
      "0                                                 Tom   25   4.23\n",
      "1                                            TomJames   51   7.47\n",
      "2                                       TomJamesRicky   76  11.45\n",
      "3                                    TomJamesRickyVin   99  14.01\n",
      "4                               TomJamesRickyVinSteve  129  17.21\n",
      "5                          TomJamesRickyVinSteveSmith  158  21.81\n",
      "6                      TomJamesRickyVinSteveSmithJack  181  25.61\n",
      "7                   TomJamesRickyVinSteveSmithJackLee  215  29.39\n",
      "8              TomJamesRickyVinSteveSmithJackLeeDavid  255  32.37\n",
      "9        TomJamesRickyVinSteveSmithJackLeeDavidGasper  285  37.17\n",
      "10  TomJamesRickyVinSteveSmithJackLeeDavidGasperBe...  336  41.27\n",
      "11  TomJamesRickyVinSteveSmithJackLeeDavidGasperBe...  382  44.92\n"
     ]
    }
   ],
   "source": [
    "print(df.cumsum())"
   ]
  },
  {
   "cell_type": "code",
   "execution_count": 28,
   "metadata": {},
   "outputs": [],
   "source": [
    "from scipy.stats import norm"
   ]
  },
  {
   "cell_type": "code",
   "execution_count": 107,
   "metadata": {},
   "outputs": [
    {
     "data": {
      "image/png": "[encoded data removed]",
      "text/plain": [
       "<Figure size 432x288 with 1 Axes>"
      ]
     },
     "metadata": {
      "needs_background": "light"
     },
     "output_type": "display_data"
    }
   ],
   "source": [
    "veri_normal = norm.rvs(size=10000, loc=0, scale=1)\n",
    "ax = sns.distplot(veri_normal)"
   ]
  },
  {
   "cell_type": "code",
   "execution_count": 109,
   "metadata": {},
   "outputs": [
    {
     "data": {
      "text/plain": [
       "[Text(0, 0.5, 'Frekans'), Text(0.5, 0, 'Normal')]"
      ]
     },
     "execution_count": 109,
     "metadata": {},
     "output_type": "execute_result"
    },
    {
     "data": {
      "image/png": "[encoded data removed]",
      "text/plain": [
       "<Figure size 432x288 with 1 Axes>"
      ]
     },
     "metadata": {
      "needs_background": "light"
     },
     "output_type": "display_data"
    }
   ],
   "source": [
    "ax = sns.distplot(veri_normal, bins=100, kde=False, color='indianred', hist_kws={\"linewidth\":15, \"alpha\":1})\n",
    "ax.set(xlabel='Normal', ylabel='Frekans')"
   ]
  },
  {
   "cell_type": "code",
   "execution_count": 110,
   "metadata": {},
   "outputs": [
    {
     "data": {
      "text/plain": [
       "array([ 17, 160, 234, 149, 145, 107, 197,  75, 201, 225, 211, 119, 157,\n",
       "       145, 127, 244, 163, 114, 145,  65, 112, 185, 202, 146, 203, 224,\n",
       "       203, 114, 188, 156, 187, 154, 177,  95, 165,  50, 110, 216, 138,\n",
       "       151, 166, 135, 155,  84, 251, 173, 131, 207, 121, 120])"
      ]
     },
     "execution_count": 110,
     "metadata": {},
     "output_type": "execute_result"
    }
   ],
   "source": [
    "olcumler = np.array([17, 160, 234, 149, 145, 107, 197, 75, 201, 225, 211, 119, \n",
    "               157, 145, 127, 244, 163, 114, 145,  65, 112, 185, 202, 146,\n",
    "               203, 224, 203, 114, 188, 156, 187, 154, 177, 95, 165, 50, 110, \n",
    "       216, 138, 151, 166, 135, 155, 84, 251, 173, 131, 207, 121, 120])\n",
    "olcumler"
   ]
  },
  {
   "cell_type": "code",
   "execution_count": 111,
   "metadata": {},
   "outputs": [
    {
     "data": {
      "text/plain": [
       "DescribeResult(nobs=50, minmax=(17, 251), mean=154.38, variance=2578.0363265306123, skewness=-0.32398897278694483, kurtosis=-0.05849823498415985)"
      ]
     },
     "execution_count": 111,
     "metadata": {},
     "output_type": "execute_result"
    }
   ],
   "source": [
    "stats.describe(olcumler)"
   ]
  },
  {
   "cell_type": "code",
   "execution_count": 33,
   "metadata": {},
   "outputs": [
    {
     "data": {
      "text/plain": [
       "<matplotlib.axes._subplots.AxesSubplot at 0x1fc50f54978>"
      ]
     },
     "execution_count": 33,
     "metadata": {},
     "output_type": "execute_result"
    },
    {
     "data": {
      "image/png": "[encoded data removed]",
      "text/plain": [
       "<Figure size 432x288 with 1 Axes>"
      ]
     },
     "metadata": {
      "needs_background": "light"
     },
     "output_type": "display_data"
    }
   ],
   "source": [
    "sns.distplot(olcumler, bins = 20, kde = True)"
   ]
  },
  {
   "cell_type": "code",
   "execution_count": 114,
   "metadata": {},
   "outputs": [
    {
     "data": {
      "text/plain": [
       "<matplotlib.axes._subplots.AxesSubplot at 0x1fc54e3aa58>"
      ]
     },
     "execution_count": 114,
     "metadata": {},
     "output_type": "execute_result"
    },
    {
     "data": {
      "image/png": "[encoded data removed]",
      "text/plain": [
       "<Figure size 432x288 with 1 Axes>"
      ]
     },
     "metadata": {
      "needs_background": "light"
     },
     "output_type": "display_data"
    }
   ],
   "source": [
    "pd.DataFrame(olcumler).plot.hist(bins = 30) # pandas'dan histogram çizdirilmesi"
   ]
  },
  {
   "cell_type": "code",
   "execution_count": 115,
   "metadata": {},
   "outputs": [
    {
     "data": {
      "text/plain": [
       "<function matplotlib.pyplot.show(*args, **kw)>"
      ]
     },
     "execution_count": 115,
     "metadata": {},
     "output_type": "execute_result"
    },
    {
     "data": {
      "image/png": "[encoded data removed]",
      "text/plain": [
       "<Figure size 432x288 with 1 Axes>"
      ]
     },
     "metadata": {
      "needs_background": "light"
     },
     "output_type": "display_data"
    }
   ],
   "source": [
    "# verilerin normal dağılım grafiğinin çizilmesi, verilerin normal dağılıma benzeyip benzemediğine bakılır\n",
    "stats.probplot(olcumler, dist='norm', plot = pylab)\n",
    "pylab.show"
   ]
  },
  {
   "cell_type": "code",
   "execution_count": 36,
   "metadata": {},
   "outputs": [
    {
     "data": {
      "image/png": "[encoded data removed]",
      "text/plain": [
       "<Figure size 432x288 with 1 Axes>"
      ]
     },
     "execution_count": 36,
     "metadata": {},
     "output_type": "execute_result"
    },
    {
     "data": {
      "image/png": "[encoded data removed]",
      "text/plain": [
       "<Figure size 432x288 with 1 Axes>"
      ]
     },
     "metadata": {
      "needs_background": "light"
     },
     "output_type": "display_data"
    }
   ],
   "source": [
    "sm.qqplot(olcumler, line='s')"
   ]
  },
  {
   "cell_type": "markdown",
   "metadata": {},
   "source": [
    "Varsayım:      \n",
    "1) Normal Dağılım : Shapiro - milk test     \n",
    "2) Varyansın homojen olması : Şartlett, levene"
   ]
  },
  {
   "cell_type": "code",
   "execution_count": 37,
   "metadata": {},
   "outputs": [
    {
     "name": "stdout",
     "output_type": "stream",
     "text": [
      "Statistics = 0.985, P=0.785\n"
     ]
    }
   ],
   "source": [
    "from scipy.stats import shapiro\n",
    "stat, p = shapiro(olcumler)\n",
    "print('Statistics = %.3f, P=%.3f' % (stat, p))"
   ]
  },
  {
   "cell_type": "markdown",
   "metadata": {},
   "source": [
    "# one sample t-test"
   ]
  },
  {
   "cell_type": "code",
   "execution_count": 38,
   "metadata": {},
   "outputs": [],
   "source": [
    "olcumler = np.array([17, 160, 234, 149, 145, 107, 197, 75, 201, 225, 211, 119, \n",
    "               157, 145, 127, 244, 163, 114, 145,  65, 112, 185, 202, 146,\n",
    "               203, 224, 203, 114, 188, 156, 187, 154, 177, 95, 165, 50, 110, \n",
    "       216, 138, 151, 166, 135, 155, 84, 251, 173, 131, 207, 121, 120])"
   ]
  },
  {
   "cell_type": "code",
   "execution_count": 39,
   "metadata": {},
   "outputs": [
    {
     "name": "stdout",
     "output_type": "stream",
     "text": [
      "Statistics = 0.985, P=0.785\n"
     ]
    }
   ],
   "source": [
    "stat, p = shapiro(olcumler) # verilerin normal dağılım olup olmadığını test eder.\n",
    "print('Statistics = %.3f, P=%.3f' % (stat, p))\n",
    "# p value alpha ile kıyaslanır. alpha'dan büyük olması fail to reject.\n",
    "# stat değeri alanı veren noktadır."
   ]
  },
  {
   "cell_type": "code",
   "execution_count": 116,
   "metadata": {},
   "outputs": [
    {
     "name": "stdout",
     "output_type": "stream",
     "text": [
      "Fail to recejt! - Örneklem normal dağılımdan gelmektedir.\n"
     ]
    }
   ],
   "source": [
    "alpha = 0.05\n",
    "if p > alpha:\n",
    "    print(\"Fail to recejt! - Örneklem normal dağılımdan gelmektedir.\")\n",
    "else:\n",
    "    print(\"Reject! - Örneklerm normal dağılımdan gelmemektedir.\")"
   ]
  },
  {
   "cell_type": "code",
   "execution_count": 117,
   "metadata": {},
   "outputs": [
    {
     "data": {
      "text/plain": [
       "Ttest_1sampResult(statistic=-2.1753117985877966, pvalue=0.034460415195071446)"
      ]
     },
     "execution_count": 117,
     "metadata": {},
     "output_type": "execute_result"
    }
   ],
   "source": [
    "# one sample t-test\n",
    "\n",
    "stats.ttest_1samp(olcumler, popmean=170)\n",
    "# hipotezim ortalamanın 170 olup olmadığı.\n",
    "# h0 -> M0 = 170\n",
    "# h1 -> M1 != 170\n",
    "# alpha 0.05 (%95 güven aralığı) ve test çift taraflı olduğu için grafiğin 0.025 ve 0.975 aralığı fail to reject aralığı oluyor. \n",
    "# p değeri 0.0344 < 0.05 olduğu için hipotezimi 'reject' ediyorum ve %95 güven aralığında M0 != 170'dir diyorum.\n",
    "# alpha = 0.1 (%90 güven aralığı) olsaydı fail to reject alanım daralacaktı.\n",
    "# alpha = 0.01 (%99 güven aralığında) "
   ]
  },
  {
   "cell_type": "code",
   "execution_count": 42,
   "metadata": {},
   "outputs": [
    {
     "data": {
      "text/plain": [
       "-2.0095752344892093"
      ]
     },
     "execution_count": 42,
     "metadata": {},
     "output_type": "execute_result"
    }
   ],
   "source": [
    "stats.t.ppf(q=0.025, df = len(olcumler)-1) # alpha = 0.05 yani %95lik güven aralığındaki t değerim nedir?"
   ]
  },
  {
   "cell_type": "code",
   "execution_count": 43,
   "metadata": {},
   "outputs": [
    {
     "data": {
      "text/plain": [
       "0.034460415195071446"
      ]
     },
     "execution_count": 43,
     "metadata": {},
     "output_type": "execute_result"
    }
   ],
   "source": [
    "stats.t.cdf(x=-2.1753117985877966, df = len(olcumler)-1)*2 # 2 taraflı olduğu için 2 ile çarpılır."
   ]
  },
  {
   "cell_type": "code",
   "execution_count": 44,
   "metadata": {},
   "outputs": [
    {
     "data": {
      "text/plain": [
       "(139.95008462736266, 168.80991537263733)"
      ]
     },
     "execution_count": 44,
     "metadata": {},
     "output_type": "execute_result"
    }
   ],
   "source": [
    "sms.DescrStatsW(olcumler).tconfint_mean() # güven aralığının bulunması"
   ]
  },
  {
   "cell_type": "markdown",
   "metadata": {},
   "source": [
    "# farklı veri gruplarının karşılaştırılması"
   ]
  },
  {
   "cell_type": "code",
   "execution_count": 45,
   "metadata": {},
   "outputs": [],
   "source": [
    "A = pd.DataFrame([30,27,21,27,29,30,20,20,27,32,35,22,24,23,25,27,23,27,23,25,21,18,24,26,33,26,27,28,19,25])\n",
    "  \n",
    "B = pd.DataFrame([37,39,31,31,34,38,30,36,29,28,38,28,37,37,30,32,31,31,27,32,33,33,33,31,32,33,26,32,33,29])"
   ]
  },
  {
   "cell_type": "code",
   "execution_count": 46,
   "metadata": {},
   "outputs": [
    {
     "data": {
      "text/html": [
       "<div>\n",
       "<style scoped>\n",
       "    .dataframe tbody tr th:only-of-type {\n",
       "        vertical-align: middle;\n",
       "    }\n",
       "\n",
       "    .dataframe tbody tr th {\n",
       "        vertical-align: top;\n",
       "    }\n",
       "\n",
       "    .dataframe thead th {\n",
       "        text-align: right;\n",
       "    }\n",
       "</style>\n",
       "<table border=\"1\" class=\"dataframe\">\n",
       "  <thead>\n",
       "    <tr style=\"text-align: right;\">\n",
       "      <th></th>\n",
       "      <th>Kadın</th>\n",
       "      <th>Erkek</th>\n",
       "    </tr>\n",
       "  </thead>\n",
       "  <tbody>\n",
       "    <tr>\n",
       "      <th>0</th>\n",
       "      <td>30</td>\n",
       "      <td>37</td>\n",
       "    </tr>\n",
       "    <tr>\n",
       "      <th>1</th>\n",
       "      <td>27</td>\n",
       "      <td>39</td>\n",
       "    </tr>\n",
       "    <tr>\n",
       "      <th>2</th>\n",
       "      <td>21</td>\n",
       "      <td>31</td>\n",
       "    </tr>\n",
       "    <tr>\n",
       "      <th>3</th>\n",
       "      <td>27</td>\n",
       "      <td>31</td>\n",
       "    </tr>\n",
       "    <tr>\n",
       "      <th>4</th>\n",
       "      <td>29</td>\n",
       "      <td>34</td>\n",
       "    </tr>\n",
       "  </tbody>\n",
       "</table>\n",
       "</div>"
      ],
      "text/plain": [
       "   Kadın  Erkek\n",
       "0     30     37\n",
       "1     27     39\n",
       "2     21     31\n",
       "3     27     31\n",
       "4     29     34"
      ]
     },
     "execution_count": 46,
     "metadata": {},
     "output_type": "execute_result"
    }
   ],
   "source": [
    "A_B = pd.concat([A, B], axis = 1)\n",
    "A_B.columns = [\"Kadın\", \"Erkek\"]\n",
    "A_B.head()"
   ]
  },
  {
   "cell_type": "code",
   "execution_count": 47,
   "metadata": {},
   "outputs": [
    {
     "data": {
      "text/html": [
       "<div>\n",
       "<style scoped>\n",
       "    .dataframe tbody tr th:only-of-type {\n",
       "        vertical-align: middle;\n",
       "    }\n",
       "\n",
       "    .dataframe tbody tr th {\n",
       "        vertical-align: top;\n",
       "    }\n",
       "\n",
       "    .dataframe thead th {\n",
       "        text-align: right;\n",
       "    }\n",
       "</style>\n",
       "<table border=\"1\" class=\"dataframe\">\n",
       "  <thead>\n",
       "    <tr style=\"text-align: right;\">\n",
       "      <th></th>\n",
       "      <th>0</th>\n",
       "      <th>0</th>\n",
       "    </tr>\n",
       "  </thead>\n",
       "  <tbody>\n",
       "    <tr>\n",
       "      <th>0</th>\n",
       "      <td>30</td>\n",
       "      <td>A</td>\n",
       "    </tr>\n",
       "    <tr>\n",
       "      <th>1</th>\n",
       "      <td>27</td>\n",
       "      <td>A</td>\n",
       "    </tr>\n",
       "    <tr>\n",
       "      <th>2</th>\n",
       "      <td>21</td>\n",
       "      <td>A</td>\n",
       "    </tr>\n",
       "    <tr>\n",
       "      <th>3</th>\n",
       "      <td>27</td>\n",
       "      <td>A</td>\n",
       "    </tr>\n",
       "    <tr>\n",
       "      <th>4</th>\n",
       "      <td>29</td>\n",
       "      <td>A</td>\n",
       "    </tr>\n",
       "  </tbody>\n",
       "</table>\n",
       "</div>"
      ],
      "text/plain": [
       "    0  0\n",
       "0  30  A\n",
       "1  27  A\n",
       "2  21  A\n",
       "3  27  A\n",
       "4  29  A"
      ]
     },
     "execution_count": 47,
     "metadata": {},
     "output_type": "execute_result"
    }
   ],
   "source": [
    "GRUP_A = np.arange(len(A))\n",
    "GRUP_A = pd.DataFrame(GRUP_A)\n",
    "GRUP_A[:]= \"A\"\n",
    "A = pd.concat([A, GRUP_A], axis=1)\n",
    "A.head()"
   ]
  },
  {
   "cell_type": "code",
   "execution_count": 48,
   "metadata": {},
   "outputs": [
    {
     "data": {
      "text/html": [
       "<div>\n",
       "<style scoped>\n",
       "    .dataframe tbody tr th:only-of-type {\n",
       "        vertical-align: middle;\n",
       "    }\n",
       "\n",
       "    .dataframe tbody tr th {\n",
       "        vertical-align: top;\n",
       "    }\n",
       "\n",
       "    .dataframe thead th {\n",
       "        text-align: right;\n",
       "    }\n",
       "</style>\n",
       "<table border=\"1\" class=\"dataframe\">\n",
       "  <thead>\n",
       "    <tr style=\"text-align: right;\">\n",
       "      <th></th>\n",
       "      <th>0</th>\n",
       "      <th>0</th>\n",
       "    </tr>\n",
       "  </thead>\n",
       "  <tbody>\n",
       "    <tr>\n",
       "      <th>0</th>\n",
       "      <td>37</td>\n",
       "      <td>B</td>\n",
       "    </tr>\n",
       "    <tr>\n",
       "      <th>1</th>\n",
       "      <td>39</td>\n",
       "      <td>B</td>\n",
       "    </tr>\n",
       "    <tr>\n",
       "      <th>2</th>\n",
       "      <td>31</td>\n",
       "      <td>B</td>\n",
       "    </tr>\n",
       "    <tr>\n",
       "      <th>3</th>\n",
       "      <td>31</td>\n",
       "      <td>B</td>\n",
       "    </tr>\n",
       "    <tr>\n",
       "      <th>4</th>\n",
       "      <td>34</td>\n",
       "      <td>B</td>\n",
       "    </tr>\n",
       "  </tbody>\n",
       "</table>\n",
       "</div>"
      ],
      "text/plain": [
       "    0  0\n",
       "0  37  B\n",
       "1  39  B\n",
       "2  31  B\n",
       "3  31  B\n",
       "4  34  B"
      ]
     },
     "execution_count": 48,
     "metadata": {},
     "output_type": "execute_result"
    }
   ],
   "source": [
    "GRUP_B = np.arange(len(B))\n",
    "GRUP_B = pd.DataFrame(GRUP_B)\n",
    "GRUP_B[:]= \"B\"\n",
    "B = pd.concat([B, GRUP_B], axis=1)\n",
    "B.head()"
   ]
  },
  {
   "cell_type": "code",
   "execution_count": 49,
   "metadata": {},
   "outputs": [
    {
     "data": {
      "text/html": [
       "<div>\n",
       "<style scoped>\n",
       "    .dataframe tbody tr th:only-of-type {\n",
       "        vertical-align: middle;\n",
       "    }\n",
       "\n",
       "    .dataframe tbody tr th {\n",
       "        vertical-align: top;\n",
       "    }\n",
       "\n",
       "    .dataframe thead th {\n",
       "        text-align: right;\n",
       "    }\n",
       "</style>\n",
       "<table border=\"1\" class=\"dataframe\">\n",
       "  <thead>\n",
       "    <tr style=\"text-align: right;\">\n",
       "      <th></th>\n",
       "      <th>Gelir</th>\n",
       "      <th>Grup</th>\n",
       "    </tr>\n",
       "  </thead>\n",
       "  <tbody>\n",
       "    <tr>\n",
       "      <th>0</th>\n",
       "      <td>30</td>\n",
       "      <td>A</td>\n",
       "    </tr>\n",
       "    <tr>\n",
       "      <th>1</th>\n",
       "      <td>27</td>\n",
       "      <td>A</td>\n",
       "    </tr>\n",
       "    <tr>\n",
       "      <th>2</th>\n",
       "      <td>21</td>\n",
       "      <td>A</td>\n",
       "    </tr>\n",
       "    <tr>\n",
       "      <th>3</th>\n",
       "      <td>27</td>\n",
       "      <td>A</td>\n",
       "    </tr>\n",
       "    <tr>\n",
       "      <th>4</th>\n",
       "      <td>29</td>\n",
       "      <td>A</td>\n",
       "    </tr>\n",
       "  </tbody>\n",
       "</table>\n",
       "</div>"
      ],
      "text/plain": [
       "   Gelir Grup\n",
       "0     30    A\n",
       "1     27    A\n",
       "2     21    A\n",
       "3     27    A\n",
       "4     29    A"
      ]
     },
     "execution_count": 49,
     "metadata": {},
     "output_type": "execute_result"
    }
   ],
   "source": [
    "AB = pd.concat([A,B])\n",
    "AB.columns = [\"Gelir\", \"Grup\"]\n",
    "AB.head()"
   ]
  },
  {
   "cell_type": "code",
   "execution_count": 50,
   "metadata": {},
   "outputs": [
    {
     "data": {
      "text/plain": [
       "<matplotlib.axes._subplots.AxesSubplot at 0x1fc526d4f60>"
      ]
     },
     "execution_count": 50,
     "metadata": {},
     "output_type": "execute_result"
    },
    {
     "data": {
      "image/png": "[encoded data removed]",
      "text/plain": [
       "<Figure size 432x288 with 1 Axes>"
      ]
     },
     "metadata": {
      "needs_background": "light"
     },
     "output_type": "display_data"
    }
   ],
   "source": [
    "sns.boxplot(x='Grup', y='Gelir', data = AB)"
   ]
  },
  {
   "cell_type": "code",
   "execution_count": 51,
   "metadata": {},
   "outputs": [
    {
     "data": {
      "text/plain": [
       "<matplotlib.axes._subplots.AxesSubplot at 0x1fc52679828>"
      ]
     },
     "execution_count": 51,
     "metadata": {},
     "output_type": "execute_result"
    },
    {
     "data": {
      "image/png": "[encoded data removed]",
      "text/plain": [
       "<Figure size 432x288 with 1 Axes>"
      ]
     },
     "metadata": {
      "needs_background": "light"
     },
     "output_type": "display_data"
    }
   ],
   "source": [
    "sns.violinplot(x='Grup', y='Gelir', data = AB)"
   ]
  },
  {
   "cell_type": "code",
   "execution_count": 52,
   "metadata": {},
   "outputs": [
    {
     "data": {
      "text/plain": [
       "(0.9789242148399353, 0.7962799668312073)"
      ]
     },
     "execution_count": 52,
     "metadata": {},
     "output_type": "execute_result"
    }
   ],
   "source": [
    "shapiro(A_B.Kadın) # verinin normal dağılım sahip olup olmadığını test ediyorum.\n"
   ]
  },
  {
   "cell_type": "code",
   "execution_count": 53,
   "metadata": {},
   "outputs": [
    {
     "data": {
      "text/plain": [
       "(0.9561260342597961, 0.24584221839904785)"
      ]
     },
     "execution_count": 53,
     "metadata": {},
     "output_type": "execute_result"
    }
   ],
   "source": [
    "shapiro(A_B.Erkek) # verinin normal dağılım sahip olup olmadığını test ediyorum."
   ]
  },
  {
   "cell_type": "code",
   "execution_count": 54,
   "metadata": {},
   "outputs": [
    {
     "data": {
      "text/plain": [
       "LeveneResult(statistic=1.1101802757158004, pvalue=0.2964124900636569)"
      ]
     },
     "execution_count": 54,
     "metadata": {},
     "output_type": "execute_result"
    }
   ],
   "source": [
    "stats.levene(A_B.Kadın, A_B.Erkek) # p value = 0.29 > alpha olduğu için hipotezimi 'fail to reject' yani kabul ediyorum \n",
    "# varyansın yakın olması verilerin aynı dağılıma sahip olduğunu ifade eder."
   ]
  },
  {
   "cell_type": "code",
   "execution_count": 55,
   "metadata": {},
   "outputs": [
    {
     "data": {
      "text/plain": [
       "Ttest_indResult(statistic=-7.028690967745927, pvalue=2.6233215605475075e-09)"
      ]
     },
     "execution_count": 55,
     "metadata": {},
     "output_type": "execute_result"
    }
   ],
   "source": [
    "stats.ttest_ind(A_B[\"Kadın\"], A_B[\"Erkek\"], equal_var = True) # varyansın aynı olduğunu söyleyerek t test yaptık \n",
    "# p değeri alpha'dan küçük olduğu için reject ediyorum.\n",
    "# test sonucunda göre iki veri seti arasında anlamlı bir fark vardır."
   ]
  },
  {
   "cell_type": "markdown",
   "metadata": {},
   "source": [
    "# aynı kişilerin öncesi ve sonrası durumlarının kıyaslanması"
   ]
  },
  {
   "cell_type": "code",
   "execution_count": 56,
   "metadata": {},
   "outputs": [],
   "source": [
    "oncesi = pd.DataFrame([123,119,119,116,123,123,121,120,117,118,121,121,123,119,121,118,124,121,125,115,115,119,118,121,117,117,120,120,121,117,118,117,123,118,124,121,115,118,125,115])\n",
    "sonrasi = pd.DataFrame([118,127,122,132,129,123,129,132,128,130,128,138,140,130,134,134,124,140,134,129,129,138,134,124,122,126,133,127,130,130,130,132,117,130,125,129,133,120,127,123])"
   ]
  },
  {
   "cell_type": "code",
   "execution_count": 57,
   "metadata": {},
   "outputs": [],
   "source": [
    "grup_oncesi = np.arange(len(oncesi))\n",
    "grup_oncesi = pd.DataFrame(grup_oncesi)\n",
    "grup_oncesi[:] = 'oncesi'\n",
    "A = pd.concat([oncesi, grup_oncesi], axis = 1)"
   ]
  },
  {
   "cell_type": "code",
   "execution_count": 58,
   "metadata": {},
   "outputs": [],
   "source": [
    "grup_sonrasi = np.arange(len(sonrasi))\n",
    "grup_sonrasi = pd.DataFrame(grup_sonrasi)\n",
    "grup_sonrasi[:] = 'sonrasi'\n",
    "B = pd.concat([sonrasi, grup_sonrasi], axis = 1)"
   ]
  },
  {
   "cell_type": "code",
   "execution_count": 59,
   "metadata": {},
   "outputs": [
    {
     "data": {
      "text/html": [
       "<div>\n",
       "<style scoped>\n",
       "    .dataframe tbody tr th:only-of-type {\n",
       "        vertical-align: middle;\n",
       "    }\n",
       "\n",
       "    .dataframe tbody tr th {\n",
       "        vertical-align: top;\n",
       "    }\n",
       "\n",
       "    .dataframe thead th {\n",
       "        text-align: right;\n",
       "    }\n",
       "</style>\n",
       "<table border=\"1\" class=\"dataframe\">\n",
       "  <thead>\n",
       "    <tr style=\"text-align: right;\">\n",
       "      <th></th>\n",
       "      <th>skor</th>\n",
       "      <th>oncesi_sonrasi</th>\n",
       "    </tr>\n",
       "  </thead>\n",
       "  <tbody>\n",
       "    <tr>\n",
       "      <th>0</th>\n",
       "      <td>123</td>\n",
       "      <td>oncesi</td>\n",
       "    </tr>\n",
       "    <tr>\n",
       "      <th>1</th>\n",
       "      <td>119</td>\n",
       "      <td>oncesi</td>\n",
       "    </tr>\n",
       "    <tr>\n",
       "      <th>2</th>\n",
       "      <td>119</td>\n",
       "      <td>oncesi</td>\n",
       "    </tr>\n",
       "    <tr>\n",
       "      <th>3</th>\n",
       "      <td>116</td>\n",
       "      <td>oncesi</td>\n",
       "    </tr>\n",
       "    <tr>\n",
       "      <th>4</th>\n",
       "      <td>123</td>\n",
       "      <td>oncesi</td>\n",
       "    </tr>\n",
       "  </tbody>\n",
       "</table>\n",
       "</div>"
      ],
      "text/plain": [
       "   skor oncesi_sonrasi\n",
       "0   123         oncesi\n",
       "1   119         oncesi\n",
       "2   119         oncesi\n",
       "3   116         oncesi\n",
       "4   123         oncesi"
      ]
     },
     "execution_count": 59,
     "metadata": {},
     "output_type": "execute_result"
    }
   ],
   "source": [
    "AB = pd.concat([A, B])\n",
    "AB.columns = ['skor', 'oncesi_sonrasi']\n",
    "AB.head()"
   ]
  },
  {
   "cell_type": "code",
   "execution_count": 60,
   "metadata": {},
   "outputs": [
    {
     "data": {
      "text/plain": [
       "<matplotlib.axes._subplots.AxesSubplot at 0x1fc52679d68>"
      ]
     },
     "execution_count": 60,
     "metadata": {},
     "output_type": "execute_result"
    },
    {
     "data": {
      "image/png": "[encoded data removed]",
      "text/plain": [
       "<Figure size 432x288 with 1 Axes>"
      ]
     },
     "metadata": {
      "needs_background": "light"
     },
     "output_type": "display_data"
    }
   ],
   "source": [
    "sns.boxplot(x= 'oncesi_sonrasi', y='skor', data = AB)"
   ]
  },
  {
   "cell_type": "code",
   "execution_count": 61,
   "metadata": {},
   "outputs": [],
   "source": [
    "birlikte = pd.concat([oncesi, sonrasi], axis =1)\n",
    "birlikte.columns = ['oncesi', 'sonrasi']"
   ]
  },
  {
   "cell_type": "code",
   "execution_count": 62,
   "metadata": {},
   "outputs": [
    {
     "name": "stdout",
     "output_type": "stream",
     "text": [
      "Fail to recejt! - Örneklem normal dağılımdan gelmektedir.\n"
     ]
    }
   ],
   "source": [
    "stat1, p1 = shapiro(birlikte.oncesi) # sonuçtaki iki değer test statistics and p value. p value > 0.05 olduğu için fail to reject\n",
    "alpha = 0.05\n",
    "if p1 > alpha:\n",
    "    print(\"Fail to recejt! - Örneklem normal dağılımdan gelmektedir.\")\n",
    "else:\n",
    "    print(\"Reject! - Örneklerm normal dağılımdan gelmemektedir.\")"
   ]
  },
  {
   "cell_type": "code",
   "execution_count": 63,
   "metadata": {},
   "outputs": [
    {
     "name": "stdout",
     "output_type": "stream",
     "text": [
      "Fail to recejt! - Örneklem normal dağılımdan gelmektedir.\n"
     ]
    }
   ],
   "source": [
    "stat2, p2 = shapiro(birlikte.sonrasi)\n",
    "alpha = 0.05\n",
    "if p2 > alpha:\n",
    "    print(\"Fail to recejt! - Örneklem normal dağılımdan gelmektedir.\")\n",
    "else:\n",
    "    print(\"Reject! - Örneklerm normal dağılımdan gelmemektedir.\")"
   ]
  },
  {
   "cell_type": "code",
   "execution_count": 64,
   "metadata": {},
   "outputs": [
    {
     "name": "stdout",
     "output_type": "stream",
     "text": [
      "Alanı veren nokta : 8.31303288672351, p value (alan) : 0.0050844511807370246 \n",
      "Reject! - Örneklerm sabit varyansa sahip değildir.\n"
     ]
    }
   ],
   "source": [
    "stat, p = stats.levene(birlikte.oncesi, birlikte.sonrasi)\n",
    "alpha = 0.05\n",
    "print(\"Alanı veren nokta : {}, p value (alan) : {} \".format(stat, p))\n",
    "if p > alpha:\n",
    "    print(\"Fail to recejt! - Örneklem sabit varyansa sahiptir.\")\n",
    "else:\n",
    "    print(\"Reject! - Örneklerm sabit varyansa sahip değildir.\")"
   ]
  },
  {
   "cell_type": "code",
   "execution_count": 65,
   "metadata": {},
   "outputs": [
    {
     "name": "stdout",
     "output_type": "stream",
     "text": [
      "Alanı veren nokta : -9.281533480429937, p value (alan) : 2.0235251764440722e-11 \n",
      "Reject! - Verilerin birbireriyle ilişkisi yoktur.\n"
     ]
    }
   ],
   "source": [
    "stat, p = stats.ttest_rel(birlikte.oncesi, birlikte.sonrasi)\n",
    "alpha = 0.05\n",
    "print(\"Alanı veren nokta : {}, p value (alan) : {} \".format(stat, p))\n",
    "if p > alpha:\n",
    "    print(\"Fail to recejt! - Verilerin birbireriyle ilişkisi vardır.\")\n",
    "else:\n",
    "    print(\"Reject! - Verilerin birbireriyle ilişkisi yoktur.\")\n",
    "#aynı örneklem üzerinden bakılır öncesive sonrasının faydasının farkına\n",
    "#iki datanın popülasyonlarının meanleri arasındaki farkına bakılır(iki datasetin ortalamsını alıp ona baksak olmazmı demişlerdi ;olmaz çünkü biz örneklemlerin ortalamsına degil popülasyonların ortalamsına bakıyoruz bu .rel de )\n",
    "#h0=iki grup arasında fark yoktu\n",
    "#h1=iki grup arasında analmlı fark vardır.\n",
    "#related test yani özel ders alamdan önceki sınıf ortalaması ile özel ders aldıktan sornaki sınıf ortalaması aarasındaki farkı anlamamızı saglar.\n",
    "#fark vardır yada yoktur gibiisiinden.\n",
    "#burda ki p valuemuz alfadan çok küçük(0 a yakın) old icin h0 reject edidi \n",
    "#iki datanın arasındaki öncesi ve sonrasi durumları arasında fark var mı diye varsayımımmızı reddetme/reddetmemek icin bu ttest_rel testini yaotık\n"
   ]
  },
  {
   "cell_type": "markdown",
   "metadata": {},
   "source": [
    "# ANOVA"
   ]
  },
  {
   "cell_type": "markdown",
   "metadata": {},
   "source": [
    "anova = analysis of variance  \n",
    "ikiden fazla grup sayısı için anova kullanılır.  \n",
    "F-statistic : variance between groups / variance within groups  \n",
    "F-statistic de alpha ile kıyaslanır.  \n",
    "F-statistic verisi için de tablo vardır. Tabloda veri sayısı -1 ve karşılaştırılacak grup sayısı -1 ile değerler bulunur.\n",
    "\n",
    "iki gruptan fazla grubumuz oldugundaki varyans farklılıklarına bakmak istersek aNOVA YÖNTEMİNE GÖRE BAKARIZ ttest yerine f skora bakılır pratiklik acisindan    \n",
    "F -statistic ;gruplar arasında anlamlı farklılık varmı yada yok mu (be in -beetween ) grup için de mi anlamlılık var mı gruplar arasında anlamlılık varmı\n",
    "anovanın sonucunda f istatiktik gelicek bu da p value ya benzer olarak alfa ile karşılaştırılcak bir f skor tablosu degerdir.\n",
    "f istatistik = gruplar arası anlamlılık/grup içi anlamlılık\n",
    "    \n",
    "f skor table iki tane parametre alır 2 tane df si vardır  1.parametre=grup sayısı-1 2.parametre=grupların büyüklüğü-1 \n",
    "f skor degeri de bir alandır ve onu da alpha ile karşılaştırıcaz."
   ]
  },
  {
   "cell_type": "code",
   "execution_count": 66,
   "metadata": {},
   "outputs": [],
   "source": [
    "import pandas as pd\n",
    "A = pd.DataFrame([28,33,30,29,28,29,27,31,30,32,28,33,25,29,27,31,31,30,31,34,30,32,31,34,28,32,31,28,33,29])\n",
    "B = pd.DataFrame([31,32,30,30,33,32,34,27,36,30,31,30,38,29,30,34,34,31,35,35,33,30,28,29,26,37,31,28,34,33])\n",
    "C = pd.DataFrame([40,33,38,41,42,43,38,35,39,39,36,34,35,40,38,36,39,36,33,35,38,35,40,40,39,38,38,43,40,42])"
   ]
  },
  {
   "cell_type": "code",
   "execution_count": 67,
   "metadata": {},
   "outputs": [
    {
     "data": {
      "text/html": [
       "<div>\n",
       "<style scoped>\n",
       "    .dataframe tbody tr th:only-of-type {\n",
       "        vertical-align: middle;\n",
       "    }\n",
       "\n",
       "    .dataframe tbody tr th {\n",
       "        vertical-align: top;\n",
       "    }\n",
       "\n",
       "    .dataframe thead th {\n",
       "        text-align: right;\n",
       "    }\n",
       "</style>\n",
       "<table border=\"1\" class=\"dataframe\">\n",
       "  <thead>\n",
       "    <tr style=\"text-align: right;\">\n",
       "      <th></th>\n",
       "      <th>count</th>\n",
       "      <th>mean</th>\n",
       "      <th>std</th>\n",
       "      <th>min</th>\n",
       "      <th>25%</th>\n",
       "      <th>50%</th>\n",
       "      <th>75%</th>\n",
       "      <th>max</th>\n",
       "    </tr>\n",
       "  </thead>\n",
       "  <tbody>\n",
       "    <tr>\n",
       "      <th>GRUP_A</th>\n",
       "      <td>30.0</td>\n",
       "      <td>30.133333</td>\n",
       "      <td>2.224214</td>\n",
       "      <td>25.0</td>\n",
       "      <td>28.25</td>\n",
       "      <td>30.0</td>\n",
       "      <td>31.75</td>\n",
       "      <td>34.0</td>\n",
       "    </tr>\n",
       "    <tr>\n",
       "      <th>GRUP_B</th>\n",
       "      <td>30.0</td>\n",
       "      <td>31.700000</td>\n",
       "      <td>2.937862</td>\n",
       "      <td>26.0</td>\n",
       "      <td>30.00</td>\n",
       "      <td>31.0</td>\n",
       "      <td>34.00</td>\n",
       "      <td>38.0</td>\n",
       "    </tr>\n",
       "    <tr>\n",
       "      <th>GRUP_C</th>\n",
       "      <td>30.0</td>\n",
       "      <td>38.100000</td>\n",
       "      <td>2.808239</td>\n",
       "      <td>33.0</td>\n",
       "      <td>36.00</td>\n",
       "      <td>38.0</td>\n",
       "      <td>40.00</td>\n",
       "      <td>43.0</td>\n",
       "    </tr>\n",
       "  </tbody>\n",
       "</table>\n",
       "</div>"
      ],
      "text/plain": [
       "        count       mean       std   min    25%   50%    75%   max\n",
       "GRUP_A   30.0  30.133333  2.224214  25.0  28.25  30.0  31.75  34.0\n",
       "GRUP_B   30.0  31.700000  2.937862  26.0  30.00  31.0  34.00  38.0\n",
       "GRUP_C   30.0  38.100000  2.808239  33.0  36.00  38.0  40.00  43.0"
      ]
     },
     "execution_count": 67,
     "metadata": {},
     "output_type": "execute_result"
    }
   ],
   "source": [
    "dfs=[A,B,C]\n",
    "ABC=pd.concat(dfs, axis=1)\n",
    "ABC.columns=[\"GRUP_A\",\"GRUP_B\",\"GRUP_C\"]\n",
    "ABC.describe().T"
   ]
  },
  {
   "cell_type": "code",
   "execution_count": 68,
   "metadata": {},
   "outputs": [
    {
     "name": "stdout",
     "output_type": "stream",
     "text": [
      "GRUP_A: Statistics=0.970, p=0.532\n",
      "örneklem model normal(Gaussian) dağılımdan gelmektedir (Fall to reject)\n"
     ]
    }
   ],
   "source": [
    "from scipy.stats import shapiro \n",
    "stat, p = shapiro(ABC.GRUP_A)\n",
    "print('GRUP_A:','Statistics=%.3f, p=%.3f' % (stat,p))  #Statistics alanı veren nokta\n",
    "\n",
    "alpha=0.05\n",
    "if p>alpha:\n",
    "    print('örneklem model normal(Gaussian) dağılımdan gelmektedir (Fall to reject)')\n",
    "else:\n",
    "    print('örneklem model nromal(Gausssian) dağılımdan gelmemektedir (reject H0)')"
   ]
  },
  {
   "cell_type": "code",
   "execution_count": 69,
   "metadata": {},
   "outputs": [
    {
     "name": "stdout",
     "output_type": "stream",
     "text": [
      "GRUP_B: Statistics=0.978985, p=0.798\n",
      "örneklem model normal(Gaussian) dağılımdan gelmektedir (Fall to reject)\n"
     ]
    }
   ],
   "source": [
    "from scipy.stats import shapiro \n",
    "stat, p = shapiro(ABC.GRUP_B)\n",
    "print('GRUP_B:','Statistics=%3f, p=%.3f' % (stat,p))  #Statistics alanı veren nokta\n",
    "\n",
    "alpha=0.05\n",
    "if p>alpha:\n",
    "    print('örneklem model normal(Gaussian) dağılımdan gelmektedir (Fall to reject)')\n",
    "else:\n",
    "    print('örneklem model nromal(Gausssian) dağılımdan gelmemektedir (reject H0)')"
   ]
  },
  {
   "cell_type": "code",
   "execution_count": 70,
   "metadata": {},
   "outputs": [
    {
     "name": "stdout",
     "output_type": "stream",
     "text": [
      "GRUP_C: Statistics=0.958, p=0.274\n",
      "örneklem model normal(Gaussian) dağılımdan gelmektedir (Fall to reject)\n"
     ]
    }
   ],
   "source": [
    "from scipy.stats import shapiro \n",
    "stat, p = shapiro(ABC.GRUP_C)\n",
    "print('GRUP_C:','Statistics=%.3f, p=%.3f' % (stat,p))  #Statistics alanı veren nokta\n",
    "\n",
    "alpha=0.05\n",
    "if p>alpha:\n",
    "    print('örneklem model normal(Gaussian) dağılımdan gelmektedir (Fall to reject)')\n",
    "else:\n",
    "    print('örneklem model nromal(Gausssian) dağılımdan gelmemektedir (reject H0)')"
   ]
  },
  {
   "cell_type": "code",
   "execution_count": 71,
   "metadata": {},
   "outputs": [
    {
     "name": "stdout",
     "output_type": "stream",
     "text": [
      "Statistics=1.027, p=0.362\n",
      "örneklem Sabit Varyansa sabittir (Fall to reject)\n"
     ]
    }
   ],
   "source": [
    "# 3 grup anasında anlamlı farklılık varmı yok mu test yapcaz\n",
    "#h0= a,b,c gruparının arasında anlamlı fark yok ,ortalamaları eşit\n",
    "#h1=en az biri farklı \n",
    "#dagılımlarımın normal dagılımdan geldiğini ve constant(homojen) avryansa sahip oldugunu varsayarım    \n",
    " \n",
    "from scipy.stats import levene\n",
    "stat, p = levene(ABC.GRUP_A, ABC.GRUP_B,ABC.GRUP_C) #equal variance test\n",
    "print('Statistics=%.3f, p=%.3f' % (stat,p))\n",
    "#interpret\n",
    "alpha=0.05\n",
    "if p>alpha:\n",
    "    print('örneklem Sabit Varyansa sabittir (Fall to reject)')\n",
    "else:\n",
    "    print('örneklem Sabit Varyansa sabit değildir (reject H0)')\n"
   ]
  },
  {
   "cell_type": "code",
   "execution_count": 72,
   "metadata": {},
   "outputs": [
    {
     "data": {
      "text/plain": [
       "F_onewayResult(statistic=74.69278140730431, pvalue=1.3079050746811477e-19)"
      ]
     },
     "execution_count": 72,
     "metadata": {},
     "output_type": "execute_result"
    }
   ],
   "source": [
    "from scipy.stats import f_oneway\n",
    "f_oneway(ABC.GRUP_A,ABC.GRUP_B,ABC.GRUP_C) \n",
    "#çıkan sonuca göre en az bir tanesinin popülasyonun ortalaması farklı yorumu yapabiliriz \n",
    "#yine pvalue alpha ile karşılaştırarak bulduk bu yorumu pvalue reject alanına düştü"
   ]
  },
  {
   "cell_type": "code",
   "execution_count": 73,
   "metadata": {},
   "outputs": [
    {
     "data": {
      "text/html": [
       "<div>\n",
       "<style scoped>\n",
       "    .dataframe tbody tr th:only-of-type {\n",
       "        vertical-align: middle;\n",
       "    }\n",
       "\n",
       "    .dataframe tbody tr th {\n",
       "        vertical-align: top;\n",
       "    }\n",
       "\n",
       "    .dataframe thead th {\n",
       "        text-align: right;\n",
       "    }\n",
       "</style>\n",
       "<table border=\"1\" class=\"dataframe\">\n",
       "  <thead>\n",
       "    <tr style=\"text-align: right;\">\n",
       "      <th></th>\n",
       "      <th>sepal_length</th>\n",
       "      <th>sepal_width</th>\n",
       "      <th>petal_length</th>\n",
       "      <th>petal_width</th>\n",
       "      <th>species</th>\n",
       "    </tr>\n",
       "  </thead>\n",
       "  <tbody>\n",
       "    <tr>\n",
       "      <th>0</th>\n",
       "      <td>5.1</td>\n",
       "      <td>3.5</td>\n",
       "      <td>1.4</td>\n",
       "      <td>0.2</td>\n",
       "      <td>setosa</td>\n",
       "    </tr>\n",
       "    <tr>\n",
       "      <th>1</th>\n",
       "      <td>4.9</td>\n",
       "      <td>3.0</td>\n",
       "      <td>1.4</td>\n",
       "      <td>0.2</td>\n",
       "      <td>setosa</td>\n",
       "    </tr>\n",
       "    <tr>\n",
       "      <th>2</th>\n",
       "      <td>4.7</td>\n",
       "      <td>3.2</td>\n",
       "      <td>1.3</td>\n",
       "      <td>0.2</td>\n",
       "      <td>setosa</td>\n",
       "    </tr>\n",
       "    <tr>\n",
       "      <th>3</th>\n",
       "      <td>4.6</td>\n",
       "      <td>3.1</td>\n",
       "      <td>1.5</td>\n",
       "      <td>0.2</td>\n",
       "      <td>setosa</td>\n",
       "    </tr>\n",
       "    <tr>\n",
       "      <th>4</th>\n",
       "      <td>5.0</td>\n",
       "      <td>3.6</td>\n",
       "      <td>1.4</td>\n",
       "      <td>0.2</td>\n",
       "      <td>setosa</td>\n",
       "    </tr>\n",
       "  </tbody>\n",
       "</table>\n",
       "</div>"
      ],
      "text/plain": [
       "   sepal_length  sepal_width  petal_length  petal_width species\n",
       "0           5.1          3.5           1.4          0.2  setosa\n",
       "1           4.9          3.0           1.4          0.2  setosa\n",
       "2           4.7          3.2           1.3          0.2  setosa\n",
       "3           4.6          3.1           1.5          0.2  setosa\n",
       "4           5.0          3.6           1.4          0.2  setosa"
      ]
     },
     "execution_count": 73,
     "metadata": {},
     "output_type": "execute_result"
    }
   ],
   "source": [
    "# iris üzerine yöntemlerin uygulanması\n",
    "iris = sns.load_dataset('iris')\n",
    "iris.head()"
   ]
  },
  {
   "cell_type": "code",
   "execution_count": 74,
   "metadata": {},
   "outputs": [
    {
     "data": {
      "text/plain": [
       "<matplotlib.axes._subplots.AxesSubplot at 0x1fc5286a278>"
      ]
     },
     "execution_count": 74,
     "metadata": {},
     "output_type": "execute_result"
    },
    {
     "data": {
      "image/png": "[encoded data removed]",
      "text/plain": [
       "<Figure size 576x576 with 1 Axes>"
      ]
     },
     "metadata": {
      "needs_background": "light"
     },
     "output_type": "display_data"
    }
   ],
   "source": [
    "#3 species için nasıl değişiyor box plot ona bakıcaz, sepal_lenght ile türler arası nasıl bir değişim var görebiliriz.\n",
    "iris.boxplot(column=\"sepal_length\",\n",
    "             by=\"species\",\n",
    "             figsize=(8,8))"
   ]
  },
  {
   "cell_type": "code",
   "execution_count": 75,
   "metadata": {},
   "outputs": [
    {
     "name": "stderr",
     "output_type": "stream",
     "text": [
      "C:\\Users\\ihkar\\Anaconda3\\lib\\site-packages\\ipykernel_launcher.py:3: UserWarning: Matplotlib is currently using module://ipykernel.pylab.backend_inline, which is a non-GUI backend, so cannot show the figure.\n",
      "  This is separate from the ipykernel package so we can avoid doing imports until\n",
      "C:\\Users\\ihkar\\Anaconda3\\lib\\site-packages\\ipykernel_launcher.py:6: UserWarning: Matplotlib is currently using module://ipykernel.pylab.backend_inline, which is a non-GUI backend, so cannot show the figure.\n",
      "  \n"
     ]
    },
    {
     "data": {
      "text/plain": [
       "<Figure size 432x288 with 0 Axes>"
      ]
     },
     "metadata": {},
     "output_type": "display_data"
    },
    {
     "data": {
      "image/png": "[encoded data removed]",
      "text/plain": [
       "<Figure size 576x576 with 1 Axes>"
      ]
     },
     "metadata": {
      "needs_background": "light"
     },
     "output_type": "display_data"
    },
    {
     "data": {
      "image/png": "[encoded data removed]",
      "text/plain": [
       "<Figure size 576x576 with 1 Axes>"
      ]
     },
     "metadata": {
      "needs_background": "light"
     },
     "output_type": "display_data"
    }
   ],
   "source": [
    "f=plt.figure(1)\n",
    "iris.boxplot(column=\"sepal_length\", by=\"species\", figsize=(8,8))\n",
    "f.show()\n",
    "g=plt.figure(2)\n",
    "iris.boxplot(column=\"sepal_width\", by=\"species\", figsize=(8,8))\n",
    "g.show()"
   ]
  },
  {
   "cell_type": "code",
   "execution_count": 76,
   "metadata": {},
   "outputs": [
    {
     "name": "stderr",
     "output_type": "stream",
     "text": [
      "C:\\Users\\ihkar\\Anaconda3\\lib\\site-packages\\ipykernel_launcher.py:3: UserWarning: Matplotlib is currently using module://ipykernel.pylab.backend_inline, which is a non-GUI backend, so cannot show the figure.\n",
      "  This is separate from the ipykernel package so we can avoid doing imports until\n",
      "C:\\Users\\ihkar\\Anaconda3\\lib\\site-packages\\ipykernel_launcher.py:6: UserWarning: Matplotlib is currently using module://ipykernel.pylab.backend_inline, which is a non-GUI backend, so cannot show the figure.\n",
      "  \n"
     ]
    },
    {
     "data": {
      "text/plain": [
       "<Figure size 432x288 with 0 Axes>"
      ]
     },
     "metadata": {},
     "output_type": "display_data"
    },
    {
     "data": {
      "image/png": "[encoded data removed]",
      "text/plain": [
       "<Figure size 576x576 with 1 Axes>"
      ]
     },
     "metadata": {
      "needs_background": "light"
     },
     "output_type": "display_data"
    },
    {
     "data": {
      "image/png": "[encoded data removed]",
      "text/plain": [
       "<Figure size 576x576 with 1 Axes>"
      ]
     },
     "metadata": {
      "needs_background": "light"
     },
     "output_type": "display_data"
    }
   ],
   "source": [
    "k=plt.figure(1)\n",
    "iris.boxplot(column=\"petal_length\", by=\"species\", figsize=(8,8))\n",
    "k.show()\n",
    "l=plt.figure(2)\n",
    "iris.boxplot(column=\"petal_width\", by=\"species\", figsize=(8,8))\n",
    "l.show()"
   ]
  },
  {
   "cell_type": "code",
   "execution_count": 77,
   "metadata": {},
   "outputs": [
    {
     "data": {
      "text/plain": [
       "Text(0, 0.5, 'Count')"
      ]
     },
     "execution_count": 77,
     "metadata": {},
     "output_type": "execute_result"
    },
    {
     "data": {
      "image/png": "[encoded data removed]",
      "text/plain": [
       "<Figure size 1152x1152 with 8 Axes>"
      ]
     },
     "metadata": {
      "needs_background": "light"
     },
     "output_type": "display_data"
    }
   ],
   "source": [
    "f, axs = plt.subplots(2,2,figsize=(16,16))\n",
    "\n",
    "ax = f.add_subplot(221)\n",
    "plt.hist(iris['sepal_length'],bins=20, color='green')\n",
    "plt.title(\"Sepal length in cm\")\n",
    "plt.xlabel(\"sepal length cm\")\n",
    "plt.ylabel(\"Count\")\n",
    "\n",
    "ax2 = f.add_subplot(222)\n",
    "plt.hist(iris['sepal_width'],bins=20, color='blue')\n",
    "plt.title(\"Sepal width in cm\")\n",
    "plt.xlabel(\"sepal width cm\")\n",
    "plt.ylabel(\"Count\")\n",
    "\n",
    "ax2 = f.add_subplot(223)\n",
    "plt.hist(iris['petal_length'],bins=20, color='red')\n",
    "plt.title(\"Petal length in cm\")\n",
    "plt.xlabel(\"Petal length cm\")\n",
    "plt.ylabel(\"Count\")\n",
    "\n",
    "ax2 = f.add_subplot(224)\n",
    "plt.hist(iris['petal_width'],bins=20, color='yellow')\n",
    "plt.title(\"Petal width in cm\")\n",
    "plt.xlabel(\"Petal width cm\")\n",
    "plt.ylabel(\"Count\")"
   ]
  },
  {
   "cell_type": "code",
   "execution_count": 78,
   "metadata": {},
   "outputs": [
    {
     "data": {
      "text/plain": [
       "array(['setosa', 'versicolor', 'virginica'], dtype=object)"
      ]
     },
     "execution_count": 78,
     "metadata": {},
     "output_type": "execute_result"
    }
   ],
   "source": [
    "grps = pd.unique(iris.species.values)\n",
    "grps"
   ]
  },
  {
   "cell_type": "code",
   "execution_count": 79,
   "metadata": {},
   "outputs": [
    {
     "name": "stdout",
     "output_type": "stream",
     "text": [
      "setosa (0.9776989221572876, 0.4595281183719635)\n",
      "versicolor (0.9778355956077576, 0.46473264694213867)\n",
      "virginica (0.9711798429489136, 0.25832483172416687)\n"
     ]
    }
   ],
   "source": [
    "### grps den aldıklarını iris'in species olduğunu tara ve her bir türün sepal length'inin nasıl dağıldığını gösterir\n",
    "## normal dağılım göstermezse transformation metotlarını yaparsın.\n",
    "### burada baktığında hepsi normal dağılıyor \n",
    "for name in grps:\n",
    "    print(name,shapiro(iris['sepal_length'][iris['species']==name]))"
   ]
  },
  {
   "cell_type": "code",
   "execution_count": 80,
   "metadata": {},
   "outputs": [
    {
     "name": "stdout",
     "output_type": "stream",
     "text": [
      "setosa (0.9549766182899475, 0.05481043830513954)\n",
      "versicolor (0.9660047888755798, 0.1584833413362503)\n",
      "virginica (0.9621862769126892, 0.10977369546890259)\n"
     ]
    }
   ],
   "source": [
    "### burada baktığında hepsi normal dağılıyor \n",
    "for name in grps:\n",
    "    print(name,shapiro(iris['petal_length'][iris['species']==name]))"
   ]
  },
  {
   "cell_type": "code",
   "execution_count": 81,
   "metadata": {},
   "outputs": [
    {
     "name": "stdout",
     "output_type": "stream",
     "text": [
      "setosa (0.7997642159461975, 8.65842082475865e-07)\n",
      "versicolor (0.947626531124115, 0.027278218418359756)\n",
      "virginica (0.9597718715667725, 0.08695744723081589)\n"
     ]
    }
   ],
   "source": [
    "### verimin normal dağılım gösterdiği bileşeni bulmaya çalışıp ordan analiz yapmak daha kolaydır.\n",
    "### grps den aldıklarını iris'in species olduğunu tara ve her bir türün petal width'inin nasıl dağıldığını gösterir\n",
    "### setosa ve versicolor normal dağılmıyor\n",
    "for name in grps:\n",
    "    print(name,shapiro(iris['petal_width'][iris['species']==name]))"
   ]
  },
  {
   "cell_type": "code",
   "execution_count": 82,
   "metadata": {},
   "outputs": [
    {
     "name": "stdout",
     "output_type": "stream",
     "text": [
      "setosa (0.97171950340271, 0.2715264856815338)\n",
      "versicolor (0.9741330742835999, 0.33798879384994507)\n",
      "virginica (0.9673910140991211, 0.1809043288230896)\n"
     ]
    }
   ],
   "source": [
    "### burada baktığında hepsi normal dağılıyor \n",
    "for name in grps:\n",
    "    print(name,shapiro(iris['sepal_width'][iris['species']==name]))"
   ]
  },
  {
   "cell_type": "code",
   "execution_count": 83,
   "metadata": {},
   "outputs": [
    {
     "data": {
      "text/plain": [
       "BartlettResult(statistic=2.0910752014391774, pvalue=0.35150280041581317)"
      ]
     },
     "execution_count": 83,
     "metadata": {},
     "output_type": "execute_result"
    }
   ],
   "source": [
    "#datamız normalden gelmiyorsa levene kullanmak daha avantajlı olur, levene daha güvende tutar. barttlet daha olumsuz sonuc verir\n",
    "#bartlett normal dağılım oldupundan daha emin olduğumuzda\n",
    "\n",
    "from scipy.stats import bartlett\n",
    "bartlett(iris['sepal_width'][iris['species'] == 'setosa'],\n",
    "        iris['sepal_width'][iris['species'] == 'versicolor'],\n",
    "        iris['sepal_width'][iris['species'] == 'virginica'],)"
   ]
  },
  {
   "cell_type": "code",
   "execution_count": 84,
   "metadata": {},
   "outputs": [
    {
     "data": {
      "text/plain": [
       "LeveneResult(statistic=0.5902115655853319, pvalue=0.5555178984739075)"
      ]
     },
     "execution_count": 84,
     "metadata": {},
     "output_type": "execute_result"
    }
   ],
   "source": [
    "#3 grup arasındaki dağılıma bakmamıza\n",
    "from scipy.stats import levene\n",
    "levene(iris['sepal_width'][iris['species'] == 'setosa'],\n",
    "        iris['sepal_width'][iris['species'] == 'versicolor'],\n",
    "        iris['sepal_width'][iris['species'] == 'virginica'],)"
   ]
  },
  {
   "cell_type": "code",
   "execution_count": 85,
   "metadata": {},
   "outputs": [
    {
     "data": {
      "text/plain": [
       "BartlettResult(statistic=39.2131139455632, pvalue=3.0547839321996904e-09)"
      ]
     },
     "execution_count": 85,
     "metadata": {},
     "output_type": "execute_result"
    }
   ],
   "source": [
    "from scipy.stats import bartlett\n",
    "bartlett(iris['petal_width'][iris['species'] == 'setosa'],\n",
    "        iris['petal_width'][iris['species'] == 'versicolor'],\n",
    "        iris['petal_width'][iris['species'] == 'virginica'],)"
   ]
  },
  {
   "cell_type": "code",
   "execution_count": 86,
   "metadata": {},
   "outputs": [
    {
     "data": {
      "text/plain": [
       "LeveneResult(statistic=19.892438674871457, pvalue=2.260519740405839e-08)"
      ]
     },
     "execution_count": 86,
     "metadata": {},
     "output_type": "execute_result"
    }
   ],
   "source": [
    "#3 grup arasındaki dağılıma bakmamıza\n",
    "from scipy.stats import levene\n",
    "levene(iris['petal_width'][iris['species'] == 'setosa'],\n",
    "        iris['petal_width'][iris['species'] == 'versicolor'],\n",
    "        iris['petal_width'][iris['species'] == 'virginica'],)"
   ]
  },
  {
   "cell_type": "code",
   "execution_count": 87,
   "metadata": {},
   "outputs": [
    {
     "data": {
      "text/plain": [
       "F_onewayResult(statistic=49.160040089612075, pvalue=4.492017133309115e-17)"
      ]
     },
     "execution_count": 87,
     "metadata": {},
     "output_type": "execute_result"
    }
   ],
   "source": [
    "##sepal width türleri ayrıştırabilmek için anlamlı bir değişken olmus oluyor yani sonucta çıkan p=0, reject bölgeye düştüğü için\n",
    "## anova için normal dağılım ve constant var olması gerekir \n",
    "## pvalue değerine göre ben bu değişkeni modelde kullanayım mı kullanmayayım mı,pvalue < alpha olduğundan reject bölgeye düştü\n",
    "f_oneway(iris['sepal_width'][iris['species'] == 'setosa'],\n",
    "        iris['sepal_width'][iris['species'] == 'versicolor'],\n",
    "        iris['sepal_width'][iris['species'] == 'virginica'],)"
   ]
  },
  {
   "cell_type": "code",
   "execution_count": 88,
   "metadata": {},
   "outputs": [
    {
     "data": {
      "text/html": [
       "<table class=\"simpletable\">\n",
       "<caption>OLS Regression Results</caption>\n",
       "<tr>\n",
       "  <th>Dep. Variable:</th>       <td>sepal_width</td>   <th>  R-squared:         </th> <td>   0.401</td>\n",
       "</tr>\n",
       "<tr>\n",
       "  <th>Model:</th>                   <td>OLS</td>       <th>  Adj. R-squared:    </th> <td>   0.393</td>\n",
       "</tr>\n",
       "<tr>\n",
       "  <th>Method:</th>             <td>Least Squares</td>  <th>  F-statistic:       </th> <td>   49.16</td>\n",
       "</tr>\n",
       "<tr>\n",
       "  <th>Date:</th>             <td>Wed, 11 Sep 2019</td> <th>  Prob (F-statistic):</th> <td>4.49e-17</td>\n",
       "</tr>\n",
       "<tr>\n",
       "  <th>Time:</th>                 <td>20:57:43</td>     <th>  Log-Likelihood:    </th> <td> -49.366</td>\n",
       "</tr>\n",
       "<tr>\n",
       "  <th>No. Observations:</th>      <td>   150</td>      <th>  AIC:               </th> <td>   104.7</td>\n",
       "</tr>\n",
       "<tr>\n",
       "  <th>Df Residuals:</th>          <td>   147</td>      <th>  BIC:               </th> <td>   113.8</td>\n",
       "</tr>\n",
       "<tr>\n",
       "  <th>Df Model:</th>              <td>     2</td>      <th>                     </th>     <td> </td>   \n",
       "</tr>\n",
       "<tr>\n",
       "  <th>Covariance Type:</th>      <td>nonrobust</td>    <th>                     </th>     <td> </td>   \n",
       "</tr>\n",
       "</table>\n",
       "<table class=\"simpletable\">\n",
       "<tr>\n",
       "            <td></td>               <th>coef</th>     <th>std err</th>      <th>t</th>      <th>P>|t|</th>  <th>[0.025</th>    <th>0.975]</th>  \n",
       "</tr>\n",
       "<tr>\n",
       "  <th>Intercept</th>             <td>    3.4280</td> <td>    0.048</td> <td>   71.359</td> <td> 0.000</td> <td>    3.333</td> <td>    3.523</td>\n",
       "</tr>\n",
       "<tr>\n",
       "  <th>species[T.versicolor]</th> <td>   -0.6580</td> <td>    0.068</td> <td>   -9.685</td> <td> 0.000</td> <td>   -0.792</td> <td>   -0.524</td>\n",
       "</tr>\n",
       "<tr>\n",
       "  <th>species[T.virginica]</th>  <td>   -0.4540</td> <td>    0.068</td> <td>   -6.683</td> <td> 0.000</td> <td>   -0.588</td> <td>   -0.320</td>\n",
       "</tr>\n",
       "</table>\n",
       "<table class=\"simpletable\">\n",
       "<tr>\n",
       "  <th>Omnibus:</th>       <td> 1.920</td> <th>  Durbin-Watson:     </th> <td>   1.879</td>\n",
       "</tr>\n",
       "<tr>\n",
       "  <th>Prob(Omnibus):</th> <td> 0.383</td> <th>  Jarque-Bera (JB):  </th> <td>   1.632</td>\n",
       "</tr>\n",
       "<tr>\n",
       "  <th>Skew:</th>          <td> 0.027</td> <th>  Prob(JB):          </th> <td>   0.442</td>\n",
       "</tr>\n",
       "<tr>\n",
       "  <th>Kurtosis:</th>      <td> 3.508</td> <th>  Cond. No.          </th> <td>    3.73</td>\n",
       "</tr>\n",
       "</table><br/><br/>Warnings:<br/>[1] Standard Errors assume that the covariance matrix of the errors is correctly specified."
      ],
      "text/plain": [
       "<class 'statsmodels.iolib.summary.Summary'>\n",
       "\"\"\"\n",
       "                            OLS Regression Results                            \n",
       "==============================================================================\n",
       "Dep. Variable:            sepal_width   R-squared:                       0.401\n",
       "Model:                            OLS   Adj. R-squared:                  0.393\n",
       "Method:                 Least Squares   F-statistic:                     49.16\n",
       "Date:                Wed, 11 Sep 2019   Prob (F-statistic):           4.49e-17\n",
       "Time:                        20:57:43   Log-Likelihood:                -49.366\n",
       "No. Observations:                 150   AIC:                             104.7\n",
       "Df Residuals:                     147   BIC:                             113.8\n",
       "Df Model:                           2                                         \n",
       "Covariance Type:            nonrobust                                         \n",
       "=========================================================================================\n",
       "                            coef    std err          t      P>|t|      [0.025      0.975]\n",
       "-----------------------------------------------------------------------------------------\n",
       "Intercept                 3.4280      0.048     71.359      0.000       3.333       3.523\n",
       "species[T.versicolor]    -0.6580      0.068     -9.685      0.000      -0.792      -0.524\n",
       "species[T.virginica]     -0.4540      0.068     -6.683      0.000      -0.588      -0.320\n",
       "==============================================================================\n",
       "Omnibus:                        1.920   Durbin-Watson:                   1.879\n",
       "Prob(Omnibus):                  0.383   Jarque-Bera (JB):                1.632\n",
       "Skew:                           0.027   Prob(JB):                        0.442\n",
       "Kurtosis:                       3.508   Cond. No.                         3.73\n",
       "==============================================================================\n",
       "\n",
       "Warnings:\n",
       "[1] Standard Errors assume that the covariance matrix of the errors is correctly specified.\n",
       "\"\"\""
      ]
     },
     "execution_count": 88,
     "metadata": {},
     "output_type": "execute_result"
    }
   ],
   "source": [
    "#ols regression\n",
    "import statsmodels.formula.api as smf\n",
    "results=smf.ols('sepal_width ~ species', data=iris).fit()\n",
    "results.summary()\n"
   ]
  },
  {
   "cell_type": "code",
   "execution_count": 89,
   "metadata": {},
   "outputs": [],
   "source": [
    "#normal dagılımdan gelmemiş olan parametreler için yeterli örnek sayım varsa(big data gibi) ben bunu normal dagılım oldugunu varsyabilrim\n",
    "#yada box cox ile transform ederim normal dagılım ile dagıtırım bununla modellerim bu prametreyi.\n",
    "#akademik çalışma yapıyorsak buparametre normal dagılmasa bile ona ben normal dagılımdan geldigini varsayıyorum diyemem\n",
    "#normalden gelene kadar o parametreye transform yapmam lazım o transformu tüm gruplara yapmam lazım\n",
    "#ve bu transform dönüşümümüz grupların dagılımını bozuyormu diye tekrar bakmak lazım bu kadar çok uğraşmamak için \n",
    "#akademik calisma dışındaki projelerde normalden dagıldıgını varsayarlar genelde.   \n",
    "\n",
    "#ger datamız normal dagılımdan gelmiyorsa (non normalsa)levene kullanılır ,bartletta göre daha iyi calilsiyor \n",
    "#bartlett test normal dagılımda daha iyi calisir   \n",
    "\n",
    "#barlett ve levenin h0=varyanslar eşittir(h0 accept) 2=eşit degildir.(h0 reject)\n",
    "#sepal_width için levene ile barlettın p valuelarını kıyasladıgımızda levene daha yüksek degerli p value verdi \n",
    "#yani bizim datamızda levene kullanmak daha uygunmus\n",
    "#barlett rejecte daha yakınmıs(her çeşitin varyansı farklı diyor) levene ise kabule(her hipotezin varyansı aynı  diyor) daha yakın\n",
    "# (amacım h0=homojen varyans hipotezini kabul etmek )\n",
    "#o zaman levene benim datama daha uymus diyorum \n",
    "#mesela petal degişkeni ,setosa icin normal dagılmadıgı icin barlett bu anormallik karşısında gücsüz kaldı ve rejecte daha yakın oldu\n",
    "\n",
    "#bu sepal length,çiiçekelri ayırmam da önemli bir parametreymiş dedik \n",
    "#normalitem kesinse barlet kulanıım degilse levene kullanırım \n",
    "#sabit varyansın  oldugunu söyleyen h1 hipotezimizi kanıtlamak icin p valuenun yüksek cıkması gerekir  \n",
    "#levenin p valuesu daha büyük oldugu icin h0 i kabul etmeye daha yakınımdır\n",
    "#h0 i niye kabul etmek istiyorum cünkü h0 kabul olunca anova yapabilirim ve ben anova yapmak istiyorum\n",
    "#constant varyan isteme sebebim türleri kontrol etme işlemimi kolaylaştırmak .\n"
   ]
  },
  {
   "cell_type": "code",
   "execution_count": null,
   "metadata": {},
   "outputs": [],
   "source": []
  }
 ],
 "metadata": {
  "kernelspec": {
   "display_name": "Python 3",
   "language": "python",
   "name": "python3"
  },
  "language_info": {
   "codemirror_mode": {
    "name": "ipython",
    "version": 3
   },
   "file_extension": ".py",
   "mimetype": "text/x-python",
   "name": "python",
   "nbconvert_exporter": "python",
   "pygments_lexer": "ipython3",
   "version": "3.7.3"
  }
 },
 "nbformat": 4,
 "nbformat_minor": 2
}

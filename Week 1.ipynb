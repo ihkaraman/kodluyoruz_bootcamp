{
 "cells": [
  {
   "cell_type": "markdown",
   "metadata": {},
   "source": [
    "# Ders: Veri Bilimi ve Makine Öğrenmesi"
   ]
  },
  {
   "cell_type": "markdown",
   "metadata": {},
   "source": [
    "#### Eğitmen: Damla Dokuzoğlu - Kodluyoruz\n",
    "#### 6 hafta - Odtü Zgarage"
   ]
  },
  {
   "cell_type": "markdown",
   "metadata": {},
   "source": [
    "# Ders Planı"
   ]
  },
  {
   "cell_type": "raw",
   "metadata": {},
   "source": [
    "- Temel istatistik kavramları\n",
    "- Verileri özetlemek için gerekli temel teknikler\n",
    "- Simülasyon teknikleri\n",
    "- Veri madenciliği metotlarının amaçları ve kullanımı\n",
    "- Farklı amaçlara göre tahmin modellemesi\n",
    "- Parametre sayısını azaltma teknikleri\n",
    "- Problemin tanımı ve veri seçimi\n",
    "- Verinin gözlemlenmesi ve temizlenmesi\n",
    "- Algoritmalar"
   ]
  },
  {
   "cell_type": "markdown",
   "metadata": {},
   "source": [
    "### Proje Sunumu"
   ]
  },
  {
   "cell_type": "raw",
   "metadata": {},
   "source": [
    "Eğitim sonunda proje sunumu olacak. Sektörden bu alanda çalışan kişiler sunuma katılacak.\n",
    "- Sunumda teknik detaya girmemek gerekli."
   ]
  },
  {
   "cell_type": "markdown",
   "metadata": {},
   "source": [
    "# İstatistik ve Tanımlar"
   ]
  },
  {
   "cell_type": "raw",
   "metadata": {},
   "source": [
    "İstatistik verilerin toplanmasını ve analiz edilmesini sağlayan bilimdir.\n",
    "-Veriler üzerinde analizler yapılarak bazı tahminler yapılır.\n",
    "-İstatistiksel yöntemler tanımlayıcı ve çıkarımsal olarak iki temel başlığa ayrılır.\n",
    "    -Tanımlayıcı yöntemler ortalama, median vb. gibi verileri.\n",
    "    -Çıkarımsal yöntemler tahmin modelleri vb. \n",
    "-Popülasyon: Hedef alınan veri seti.\n",
    "-Sample: Veri setinden alınan örneklem.\n",
    "-Rassal değişken: Her gözlemde farklı değerler alan objelere denir. \n",
    "    Kesikli ve sürekli olarak ikiye ayrılır.\n",
    "-Değişkenler sınıflandırma (nominal), sıralama (ordinal), eşit aralıklı (interval) ve oransal (ratio) olarak ölçülebilir.\n",
    "-Tahmin modelleri, popülasyon kümesi hakkında yorum yapabilmek  için örneklem kümesinden elde edilen örneklem istatistiklerinin kullanılması. \n",
    "\n",
    "Popülasyon gözlemi (X1, X2, X3....XN) : N gözlem\n",
    "Sample gözlemi (x1, x2, x3...... xn) : n gözlem (n<<N)\n",
    "\n",
    "İstatistiksel tahmin ediciler\n",
    "    -Nokta tahmini:\n",
    "        -popülasyon ortalaması (mu), standart sapma (sigma)\n",
    "        -sample ortalaması (xbar), standart sapma (s), standart error (sx) = s/kök n\n",
    "        -Normal dağılımda; mu +- 3*sigma dışında kalan verilere outlier denir. Verilerin %95 oranında mu +- 3*sigma aralığında \n",
    "        olduğu varsayılır. %2.5'er olarak sağ ve sol bölgelere dağılır.\n",
    "    -Aralık tahmini"
   ]
  },
  {
   "cell_type": "markdown",
   "metadata": {},
   "source": [
    "# Veri tipleri ve işlemler"
   ]
  },
  {
   "cell_type": "code",
   "execution_count": 1,
   "metadata": {},
   "outputs": [
    {
     "data": {
      "text/plain": [
       "(int, str)"
      ]
     },
     "execution_count": 1,
     "metadata": {},
     "output_type": "execute_result"
    }
   ],
   "source": [
    "# nesnesinin veri tipini gösterir.\n",
    "type(50), type(\"aasd\")"
   ]
  },
  {
   "cell_type": "code",
   "execution_count": 2,
   "metadata": {},
   "outputs": [
    {
     "data": {
      "text/plain": [
       "'ab'"
      ]
     },
     "execution_count": 2,
     "metadata": {},
     "output_type": "execute_result"
    }
   ],
   "source": [
    "'a' + 'b'"
   ]
  },
  {
   "cell_type": "code",
   "execution_count": 3,
   "metadata": {},
   "outputs": [
    {
     "data": {
      "text/plain": [
       "[1, 2, 3]"
      ]
     },
     "execution_count": 3,
     "metadata": {},
     "output_type": "execute_result"
    }
   ],
   "source": [
    "# listelerin tanımlanması\n",
    "list = [1,2,3]\n",
    "list"
   ]
  },
  {
   "cell_type": "code",
   "execution_count": 4,
   "metadata": {},
   "outputs": [
    {
     "data": {
      "text/plain": [
       "[1, 2, 3, 4, 5]"
      ]
     },
     "execution_count": 4,
     "metadata": {},
     "output_type": "execute_result"
    }
   ],
   "source": [
    "# listelerin toplanması\n",
    "list1 = [1,2,3]\n",
    "list2 = [4,5]\n",
    "list1 + list2"
   ]
  },
  {
   "cell_type": "code",
   "execution_count": 5,
   "metadata": {},
   "outputs": [
    {
     "data": {
      "text/plain": [
       "[[1, 2, 3], [4, 5]]"
      ]
     },
     "execution_count": 5,
     "metadata": {},
     "output_type": "execute_result"
    }
   ],
   "source": [
    "# iki listenin yeni bir listeye eleman olarak eklenmesi\n",
    "list = [list1, list2]\n",
    "list"
   ]
  },
  {
   "cell_type": "code",
   "execution_count": 6,
   "metadata": {},
   "outputs": [
    {
     "data": {
      "text/plain": [
       "[[1, 2, 3], [4, 5], 3]"
      ]
     },
     "execution_count": 6,
     "metadata": {},
     "output_type": "execute_result"
    }
   ],
   "source": [
    "# listeye yeni eleman eklenmesi\n",
    "list.append(3)\n",
    "list"
   ]
  },
  {
   "cell_type": "code",
   "execution_count": 7,
   "metadata": {},
   "outputs": [
    {
     "data": {
      "text/plain": [
       "[[1, 2, 3], [4, 5]]"
      ]
     },
     "execution_count": 7,
     "metadata": {},
     "output_type": "execute_result"
    }
   ],
   "source": [
    "# x elemanını listeden siler.\n",
    "list.remove(3)\n",
    "list"
   ]
  },
  {
   "cell_type": "code",
   "execution_count": 8,
   "metadata": {},
   "outputs": [
    {
     "data": {
      "text/plain": [
       "[[1, 2, 3], [4, 5], 4]"
      ]
     },
     "execution_count": 8,
     "metadata": {},
     "output_type": "execute_result"
    }
   ],
   "source": [
    "# i indexine x elemanını atar.\n",
    "list.append(3)\n",
    "list[2] = 4\n",
    "list"
   ]
  },
  {
   "cell_type": "code",
   "execution_count": 9,
   "metadata": {},
   "outputs": [
    {
     "data": {
      "text/plain": [
       "[[1, 2, 3], [4, 5], 4, 5]"
      ]
     },
     "execution_count": 9,
     "metadata": {},
     "output_type": "execute_result"
    }
   ],
   "source": [
    "# x elemanını i indexine ekler.# \n",
    "list.insert(3, 5) \n",
    "list"
   ]
  },
  {
   "cell_type": "code",
   "execution_count": 10,
   "metadata": {},
   "outputs": [
    {
     "data": {
      "text/plain": [
       "[[1, 2, 3], [4, 5], 4]"
      ]
     },
     "execution_count": 10,
     "metadata": {},
     "output_type": "execute_result"
    }
   ],
   "source": [
    "# i indexli eleman listeden atılır.\n",
    "list.pop(3)\n",
    "list"
   ]
  },
  {
   "cell_type": "code",
   "execution_count": 11,
   "metadata": {},
   "outputs": [
    {
     "data": {
      "text/plain": [
       "('ali', 'veli', 2, 4, 6, [1, 2, 3])"
      ]
     },
     "execution_count": 11,
     "metadata": {},
     "output_type": "execute_result"
    }
   ],
   "source": [
    "# tuple oluşturulması.\n",
    "tuple = (\"ali\", \"veli\", 2, 4, 6, [1, 2, 3])\n",
    "tuple"
   ]
  },
  {
   "cell_type": "code",
   "execution_count": 12,
   "metadata": {},
   "outputs": [
    {
     "data": {
      "text/plain": [
       "('ali', 'veli')"
      ]
     },
     "execution_count": 12,
     "metadata": {},
     "output_type": "execute_result"
    }
   ],
   "source": [
    "# tuple'ın ilk 2 elemanın gösterilmesi.\n",
    "tuple[0:2]"
   ]
  },
  {
   "cell_type": "code",
   "execution_count": 13,
   "metadata": {},
   "outputs": [
    {
     "data": {
      "text/plain": [
       "{'reg': 'regresyon', 'log': 'lojistik regresyon', 'tre': 'decision trees'}"
      ]
     },
     "execution_count": 13,
     "metadata": {},
     "output_type": "execute_result"
    }
   ],
   "source": [
    "# sozluklerin tanımlanması\n",
    "sozluk = {\"reg\" : \"regresyon\", \"log\" : \"lojistik regresyon\", \"tre\" : \"decision trees\"}\n",
    "sozluk"
   ]
  },
  {
   "cell_type": "code",
   "execution_count": 14,
   "metadata": {},
   "outputs": [
    {
     "data": {
      "text/plain": [
       "{'sozluk1': {'bir': '1', 'iki': '2'}, 'sozluk2': {'üç': '3', 'dört': '4'}}"
      ]
     },
     "execution_count": 14,
     "metadata": {},
     "output_type": "execute_result"
    }
   ],
   "source": [
    "# sözlük içine sözlük tanımlanması.\n",
    "sozlukA = {\"sozluk1\" :  {\"bir\" : \"1\", \"iki\" : \"2\"}, \"sozluk2\" : {\"üç\" : \"3\", \"dört\" : \"4\"}} \n",
    "sozlukA"
   ]
  },
  {
   "cell_type": "code",
   "execution_count": 15,
   "metadata": {},
   "outputs": [
    {
     "data": {
      "text/plain": [
       "{'reg': 'regresyon',\n",
       " 'log': 'lojistik regresyon',\n",
       " 'tre': 'decision trees',\n",
       " 'pol': 'polinm regresyon'}"
      ]
     },
     "execution_count": 15,
     "metadata": {},
     "output_type": "execute_result"
    }
   ],
   "source": [
    "# sözlüğe yeni bir eleman eklenmesi.\n",
    "sozluk[\"pol\"] = \"polinm regresyon\"\n",
    "sozluk"
   ]
  },
  {
   "cell_type": "code",
   "execution_count": 1,
   "metadata": {},
   "outputs": [
    {
     "data": {
      "text/plain": [
       "{2, 5, 6}"
      ]
     },
     "execution_count": 1,
     "metadata": {},
     "output_type": "execute_result"
    }
   ],
   "source": [
    "# nesneleri set türüne çevirir, set türünün index tanımı yoktur. Ayrıca set'lerde her bir eleman bir kere geçer.\n",
    "array = [2,5,6]\n",
    "set(array)"
   ]
  },
  {
   "cell_type": "code",
   "execution_count": 17,
   "metadata": {},
   "outputs": [
    {
     "data": {
      "text/plain": [
       "{2}"
      ]
     },
     "execution_count": 17,
     "metadata": {},
     "output_type": "execute_result"
    }
   ],
   "source": [
    "# set1 ve set2 setleri arasındaki farkları gösterir.\n",
    "set1 = {1,2,3}\n",
    "set2 = {1,3,4}\n",
    "set1.difference(set2)"
   ]
  },
  {
   "cell_type": "code",
   "execution_count": 18,
   "metadata": {},
   "outputs": [
    {
     "data": {
      "text/plain": [
       "{1, 3}"
      ]
     },
     "execution_count": 18,
     "metadata": {},
     "output_type": "execute_result"
    }
   ],
   "source": [
    "# set1 ve set2'nin ortak elemanlarını gösterir.\n",
    "set1.intersection(set2)"
   ]
  },
  {
   "cell_type": "code",
   "execution_count": 19,
   "metadata": {},
   "outputs": [],
   "source": [
    "# kare alan sonucu yazdıran ve döndüren bir fonksiyon.\n",
    "def kare_al(x):\n",
    "     print(\"karesi\", x**2)\n",
    "     return(x**2)"
   ]
  },
  {
   "cell_type": "code",
   "execution_count": 20,
   "metadata": {},
   "outputs": [
    {
     "name": "stdout",
     "output_type": "stream",
     "text": [
      "karesi 144\n"
     ]
    },
    {
     "data": {
      "text/plain": [
       "144"
      ]
     },
     "execution_count": 20,
     "metadata": {},
     "output_type": "execute_result"
    }
   ],
   "source": [
    "# kare al fonk. sonucunun sonuc değişkenine atanması.\n",
    "sonuc = kare_al(12)\n",
    "sonuc"
   ]
  },
  {
   "cell_type": "code",
   "execution_count": 21,
   "metadata": {},
   "outputs": [],
   "source": [
    "# globaldeki x değişkeninin kullanılması.\n",
    "global x\n",
    "x = 0\n",
    "y = 2*x + 5"
   ]
  },
  {
   "cell_type": "code",
   "execution_count": 22,
   "metadata": {},
   "outputs": [
    {
     "name": "stdout",
     "output_type": "stream",
     "text": [
      "4\n",
      "bigger one is  4\n"
     ]
    }
   ],
   "source": [
    "a = 3\n",
    "b = input()\n",
    "b = int(b)\n",
    "if a > b:\n",
    "    print(\"bigger one is \", a)\n",
    "elif b>a:\n",
    "    print(\"bigger one is \", b)\n",
    "else:\n",
    "    print(\"Numbers are equal!\")"
   ]
  },
  {
   "cell_type": "code",
   "execution_count": 23,
   "metadata": {},
   "outputs": [
    {
     "name": "stdout",
     "output_type": "stream",
     "text": [
      "1\n",
      "2\n",
      "4\n",
      "16\n"
     ]
    }
   ],
   "source": [
    "# for döngüsü ve continue, break komutları\n",
    "list = [1, 2, 4, 8, 16, 32]\n",
    "for i in list:\n",
    "    if i>5 and i<15:\n",
    "        continue \n",
    "    if i>20:\n",
    "        break  \n",
    "    print(i)"
   ]
  },
  {
   "cell_type": "code",
   "execution_count": 24,
   "metadata": {},
   "outputs": [
    {
     "name": "stdout",
     "output_type": "stream",
     "text": [
      "1\n",
      "2\n",
      "3\n",
      "4\n",
      "5\n"
     ]
    }
   ],
   "source": [
    "# while döngüsü\n",
    "sayi = 0\n",
    "while sayi<5:\n",
    "    print(sayi+1)\n",
    "    sayi+= 1"
   ]
  },
  {
   "cell_type": "code",
   "execution_count": 25,
   "metadata": {},
   "outputs": [
    {
     "name": "stdout",
     "output_type": "stream",
     "text": [
      "Veri bilimi sınıfı\n"
     ]
    },
    {
     "data": {
      "text/plain": [
       "True"
      ]
     },
     "execution_count": 25,
     "metadata": {},
     "output_type": "execute_result"
    }
   ],
   "source": [
    "# Classes\n",
    "class VeriBilimci():\n",
    "    print(\"Veri bilimi sınıfı\")\n",
    "    bolum = ''\n",
    "    yil = 0\n",
    "    sql = True\n",
    "VeriBilimci.sql"
   ]
  },
  {
   "cell_type": "code",
   "execution_count": 26,
   "metadata": {},
   "outputs": [
    {
     "data": {
      "text/plain": [
       "False"
      ]
     },
     "execution_count": 26,
     "metadata": {},
     "output_type": "execute_result"
    }
   ],
   "source": [
    "# class'ın içerisindeki değişkenin değerinin değiştirilmesi.\n",
    "VeriBilimci.sql = False\n",
    "VeriBilimci.sql "
   ]
  },
  {
   "cell_type": "code",
   "execution_count": 27,
   "metadata": {},
   "outputs": [
    {
     "data": {
      "text/plain": [
       "False"
      ]
     },
     "execution_count": 27,
     "metadata": {},
     "output_type": "execute_result"
    }
   ],
   "source": [
    "# Ali'nin Veri Bilimci sınıfında tanımlanması.\n",
    "Ali = VeriBilimci()\n",
    "#VeriBilimci sınıfındaki Ali nesnesinin \"sql\" özelliğinin çağrılması.\n",
    "Ali.sql "
   ]
  },
  {
   "cell_type": "code",
   "execution_count": 28,
   "metadata": {},
   "outputs": [],
   "source": [
    "# __init__ fonksiyonu ile sınıfa nesne tanımlaması yapılabilir.\n",
    "def __init__(self, x, y, z):\n",
    "    self.bolum = []"
   ]
  },
  {
   "cell_type": "code",
   "execution_count": 29,
   "metadata": {},
   "outputs": [
    {
     "data": {
      "text/plain": [
       "['__class__',\n",
       " '__delattr__',\n",
       " '__dict__',\n",
       " '__dir__',\n",
       " '__doc__',\n",
       " '__eq__',\n",
       " '__format__',\n",
       " '__ge__',\n",
       " '__getattribute__',\n",
       " '__gt__',\n",
       " '__hash__',\n",
       " '__init__',\n",
       " '__init_subclass__',\n",
       " '__le__',\n",
       " '__lt__',\n",
       " '__module__',\n",
       " '__ne__',\n",
       " '__new__',\n",
       " '__reduce__',\n",
       " '__reduce_ex__',\n",
       " '__repr__',\n",
       " '__setattr__',\n",
       " '__sizeof__',\n",
       " '__str__',\n",
       " '__subclasshook__',\n",
       " '__weakref__',\n",
       " 'bolum',\n",
       " 'sql',\n",
       " 'yil']"
      ]
     },
     "execution_count": 29,
     "metadata": {},
     "output_type": "execute_result"
    }
   ],
   "source": [
    "# Sınıfın içerisindeki tanımlı değişkenleri listeler.\n",
    "dir(VeriBilimci) "
   ]
  },
  {
   "cell_type": "markdown",
   "metadata": {},
   "source": [
    "# Data İşlemleri"
   ]
  },
  {
   "cell_type": "code",
   "execution_count": 30,
   "metadata": {},
   "outputs": [],
   "source": [
    "import numpy as np\n",
    "import pandas as pd\n",
    "import statsmodels.stats.api as sms\n",
    "import seaborn as sns\n",
    "import scipy.stats as stats\n",
    "from matplotlib.pyplot import plot"
   ]
  },
  {
   "cell_type": "code",
   "execution_count": 31,
   "metadata": {},
   "outputs": [
    {
     "data": {
      "text/plain": [
       "(array([15, 21,  1, ..., 51, 35, 63]), 10000)"
      ]
     },
     "execution_count": 31,
     "metadata": {},
     "output_type": "execute_result"
    }
   ],
   "source": [
    "# 0 ve 80 arasında 10.000 adet int sayı üretilir.\n",
    "anakitle = np.random.randint(0, 80, 10000)\n",
    "anakitle, len(anakitle)"
   ]
  },
  {
   "cell_type": "code",
   "execution_count": 32,
   "metadata": {},
   "outputs": [
    {
     "data": {
      "text/plain": [
       "array([21,  1, 22, 22, 16, 63, 13,  6, 68])"
      ]
     },
     "execution_count": 32,
     "metadata": {},
     "output_type": "execute_result"
    }
   ],
   "source": [
    "anakitle[1:10]"
   ]
  },
  {
   "cell_type": "code",
   "execution_count": 33,
   "metadata": {},
   "outputs": [
    {
     "data": {
      "text/plain": [
       "array([ 6, 26, 79, 20, 14, 44,  2, 68, 15])"
      ]
     },
     "execution_count": 33,
     "metadata": {},
     "output_type": "execute_result"
    }
   ],
   "source": [
    "# anakitle içerisinden 100 adetlik random sayı alınması\n",
    "np.random.seed(10)\n",
    "orneklem = np.random.choice(a = anakitle, size = 100)\n",
    "orneklem[1:10]"
   ]
  },
  {
   "cell_type": "code",
   "execution_count": 34,
   "metadata": {},
   "outputs": [
    {
     "data": {
      "text/plain": [
       "(37.14, 40.0663)"
      ]
     },
     "execution_count": 34,
     "metadata": {},
     "output_type": "execute_result"
    }
   ],
   "source": [
    "orneklem.mean(), anakitle.mean()"
   ]
  },
  {
   "cell_type": "code",
   "execution_count": 35,
   "metadata": {},
   "outputs": [],
   "source": [
    "np.random.seed(10)\n",
    "orneklem1 = np.random.choice(a = anakitle, size = 100)\n",
    "orneklem2 = np.random.choice(a = anakitle, size = 100)\n",
    "orneklem3 = np.random.choice(a = anakitle, size = 100)\n",
    "orneklem4 = np.random.choice(a = anakitle, size = 100)\n",
    "orneklem5 = np.random.choice(a = anakitle, size = 100)\n",
    "orneklem6 = np.random.choice(a = anakitle, size = 100)\n",
    "orneklem7 = np.random.choice(a = anakitle, size = 100)\n",
    "orneklem8 = np.random.choice(a = anakitle, size = 100)\n",
    "orneklem9 = np.random.choice(a = anakitle, size = 100)\n",
    "orneklem10 = np.random.choice(a = anakitle, size = 100)"
   ]
  },
  {
   "cell_type": "code",
   "execution_count": 36,
   "metadata": {},
   "outputs": [
    {
     "data": {
      "text/plain": [
       "39.81"
      ]
     },
     "execution_count": 36,
     "metadata": {},
     "output_type": "execute_result"
    }
   ],
   "source": [
    "(orneklem1.mean() + orneklem2.mean() + orneklem3.mean() + orneklem4.mean() + orneklem5.mean() \n",
    "+ orneklem6.mean() + orneklem7.mean() + orneklem8.mean() + orneklem9.mean() + orneklem10.mean() )  / 10"
   ]
  },
  {
   "cell_type": "code",
   "execution_count": 37,
   "metadata": {},
   "outputs": [
    {
     "ename": "NameError",
     "evalue": "name 'st' is not defined",
     "output_type": "error",
     "traceback": [
      "\u001b[1;31m---------------------------------------------------------------------------\u001b[0m",
      "\u001b[1;31mNameError\u001b[0m                                 Traceback (most recent call last)",
      "\u001b[1;32m<ipython-input-37-59448c929f0f>\u001b[0m in \u001b[0;36m<module>\u001b[1;34m\u001b[0m\n\u001b[0;32m      1\u001b[0m \u001b[1;31m# %95 güven aralığında elimdeki verilerin değerinden aralık tahmini yapma. (df: decrease of freedom)\u001b[0m\u001b[1;33m\u001b[0m\u001b[1;33m\u001b[0m\u001b[1;33m\u001b[0m\u001b[0m\n\u001b[1;32m----> 2\u001b[1;33m \u001b[0mst\u001b[0m\u001b[1;33m.\u001b[0m\u001b[0mt\u001b[0m\u001b[1;33m.\u001b[0m\u001b[0minterval\u001b[0m\u001b[1;33m(\u001b[0m\u001b[0malpha\u001b[0m \u001b[1;33m=\u001b[0m \u001b[1;36m0.95\u001b[0m\u001b[1;33m,\u001b[0m \u001b[0mdf\u001b[0m \u001b[1;33m=\u001b[0m \u001b[0mlen\u001b[0m\u001b[1;33m(\u001b[0m\u001b[0morneklem\u001b[0m\u001b[1;33m)\u001b[0m \u001b[1;33m-\u001b[0m \u001b[1;36m1\u001b[0m\u001b[1;33m,\u001b[0m \u001b[0mloc\u001b[0m \u001b[1;33m=\u001b[0m \u001b[0mnp\u001b[0m\u001b[1;33m.\u001b[0m\u001b[0mmean\u001b[0m\u001b[1;33m(\u001b[0m\u001b[0morneklem\u001b[0m\u001b[1;33m)\u001b[0m\u001b[1;33m,\u001b[0m \u001b[0mscale\u001b[0m \u001b[1;33m=\u001b[0m \u001b[0mst\u001b[0m\u001b[1;33m.\u001b[0m\u001b[0msem\u001b[0m\u001b[1;33m(\u001b[0m\u001b[0morneklem\u001b[0m\u001b[1;33m)\u001b[0m\u001b[1;33m)\u001b[0m\u001b[1;33m\u001b[0m\u001b[1;33m\u001b[0m\u001b[0m\n\u001b[0m",
      "\u001b[1;31mNameError\u001b[0m: name 'st' is not defined"
     ]
    }
   ],
   "source": [
    "# %95 güven aralığında elimdeki verilerin değerinden aralık tahmini yapma. (df: decrease of freedom)\n",
    "st.t.interval(alpha = 0.95, df = len(orneklem) - 1, loc = np.mean(orneklem), scale = st.sem(orneklem))"
   ]
  },
  {
   "cell_type": "code",
   "execution_count": 38,
   "metadata": {},
   "outputs": [
    {
     "data": {
      "text/plain": [
       "(32.64323568715978, 41.63676431284022)"
      ]
     },
     "execution_count": 38,
     "metadata": {},
     "output_type": "execute_result"
    }
   ],
   "source": [
    "# %95 güven aralığında elimdeki verilerin değerinden aralık tahmini yapma. (df: decrease of freedom)\n",
    "sms.DescrStatsW(orneklem).tconfint_mean()"
   ]
  },
  {
   "cell_type": "code",
   "execution_count": 40,
   "metadata": {},
   "outputs": [],
   "source": [
    "from scipy.stats import bernoulli"
   ]
  },
  {
   "cell_type": "code",
   "execution_count": 41,
   "metadata": {},
   "outputs": [
    {
     "data": {
      "text/plain": [
       "array([1, 0, 1, ..., 0, 0, 0])"
      ]
     },
     "execution_count": 41,
     "metadata": {},
     "output_type": "execute_result"
    }
   ],
   "source": [
    "# 10.000 adet bernoulli verisinin oluşturulması\n",
    "veri_ber = bernoulli.rvs(size = 10000, p = 0.5)\n",
    "veri_ber"
   ]
  },
  {
   "cell_type": "code",
   "execution_count": 42,
   "metadata": {},
   "outputs": [
    {
     "data": {
      "image/png": "[encoded data removed]",
      "text/plain": [
       "<Figure size 432x288 with 1 Axes>"
      ]
     },
     "metadata": {
      "needs_background": "light"
     },
     "output_type": "display_data"
    }
   ],
   "source": [
    "# verilerin grafiğinin çizdirilmesi\n",
    "ax = sns.distplot(veri_ber,\n",
    "                 kde = False,\n",
    "                 color = \"orange\",\n",
    "                 hist_kws={\"linewidth\": 5, \"alpha\" : 1});\n",
    "\n",
    "ax.set(xlabel = \"bernoulli\", ylabel = \"Frekans\");"
   ]
  },
  {
   "cell_type": "code",
   "execution_count": 43,
   "metadata": {},
   "outputs": [
    {
     "data": {
      "text/plain": [
       "array([0, 1, 0, 0, 0, 0, 0, 1, 1, 0])"
      ]
     },
     "execution_count": 43,
     "metadata": {},
     "output_type": "execute_result"
    }
   ],
   "source": [
    "# 0 ve 1 'den oluşan 1000 adet sayı üretilmesi.\n",
    "rng = np.random.RandomState(123)\n",
    "yazi_tura = rng.randint(0,2, size = 1000)\n",
    "yazi_tura[0:10]"
   ]
  },
  {
   "cell_type": "code",
   "execution_count": 44,
   "metadata": {},
   "outputs": [
    {
     "data": {
      "text/plain": [
       "(520, 480)"
      ]
     },
     "execution_count": 44,
     "metadata": {},
     "output_type": "execute_result"
    }
   ],
   "source": [
    "# yazı ve tura sayısı\n",
    "yazilar = np.sum(yazi_tura)\n",
    "yazi_tura.shape[0]\n",
    "turalar = yazi_tura.shape[0] - yazilar\n",
    "yazilar, turalar"
   ]
  },
  {
   "cell_type": "code",
   "execution_count": 45,
   "metadata": {},
   "outputs": [
    {
     "name": "stdout",
     "output_type": "stream",
     "text": [
      "Yazı olasılıkları: 30.00\n",
      "Yazı olasılıkları: 48.00\n",
      "Yazı olasılıkları: 53.60\n",
      "Yazı olasılıkları: 49.53\n",
      "Yazı olasılıkları: 49.80\n",
      "Yazı olasılıkları: 50.03\n",
      "Yazı olasılıkları: 50.03\n",
      "Yazı olasılıkları: 50.01\n"
     ]
    }
   ],
   "source": [
    "# Büyük Sayılar Yasası\n",
    "rng = np.random.RandomState(123)\n",
    "\n",
    "for i in [1,2,3,4,5,6,7,8]:\n",
    "    deney_sayisi = 10**i\n",
    "    yazi_turalar = rng.randint(0, 2, size = deney_sayisi)\n",
    "    yazi_olasiliklari = np.mean(yazi_turalar)\n",
    "    print('Yazı olasılıkları: %.2f' % (yazi_olasiliklari * 100))"
   ]
  },
  {
   "cell_type": "code",
   "execution_count": 46,
   "metadata": {},
   "outputs": [],
   "source": [
    "from scipy.stats import binom"
   ]
  },
  {
   "cell_type": "code",
   "execution_count": 47,
   "metadata": {},
   "outputs": [
    {
     "data": {
      "text/plain": [
       "[Text(0, 0.5, 'Frekans'), Text(0.5, 0, 'Binom Dağılımı')]"
      ]
     },
     "execution_count": 47,
     "metadata": {},
     "output_type": "execute_result"
    },
    {
     "data": {
      "image/png": "[encoded data removed]",
      "text/plain": [
       "<Figure size 432x288 with 1 Axes>"
      ]
     },
     "metadata": {
      "needs_background": "light"
     },
     "output_type": "display_data"
    }
   ],
   "source": [
    "# binomial dağılımı\n",
    "veri_binom = binom.rvs(n = 15, p = 0.5, size = 10000)\n",
    "\n",
    "ax = sns.distplot(veri_binom,\n",
    "                  kde=True,\n",
    "                  color='orange',\n",
    "                  hist_kws={\"linewidth\": 15,'alpha':1})\n",
    "\n",
    "ax.set(xlabel = 'Binom Dağılımı', ylabel = 'Frekans')\n"
   ]
  },
  {
   "cell_type": "code",
   "execution_count": 48,
   "metadata": {},
   "outputs": [
    {
     "data": {
      "text/plain": [
       "[<matplotlib.lines.Line2D at 0x1911f6cba90>]"
      ]
     },
     "execution_count": 48,
     "metadata": {},
     "output_type": "execute_result"
    },
    {
     "data": {
      "image/png": "[encoded data removed]",
      "text/plain": [
       "<Figure size 432x288 with 1 Axes>"
      ]
     },
     "metadata": {
      "needs_background": "light"
     },
     "output_type": "display_data"
    }
   ],
   "source": [
    "# binomial dağılım oluşturulması ve pmf'lerinin çizdirilmesi\n",
    "bd1 = stats.binom(20, 0.5)\n",
    "bd2 = stats.binom(20, 0.7)\n",
    "bd3 = stats.binom(40, 0.5)\n",
    "\n",
    "k = np.arange(40)\n",
    "\n",
    "plot(k, bd1.pmf(k), 'o-b')\n",
    "plot(k, bd2.pmf(k), 'd-r')\n",
    "plot(k, bd3.pmf(k), 's-g')"
   ]
  },
  {
   "cell_type": "code",
   "execution_count": 49,
   "metadata": {},
   "outputs": [
    {
     "data": {
      "text/plain": [
       "0.0007709427591180397"
      ]
     },
     "execution_count": 49,
     "metadata": {},
     "output_type": "execute_result"
    }
   ],
   "source": [
    "# binomial dağılım ve pmf'ten değer bulunması\n",
    "p = 0.5\n",
    "n = 40\n",
    "rv = stats.binom(n,p)\n",
    "rv.pmf(10)"
   ]
  },
  {
   "cell_type": "code",
   "execution_count": 50,
   "metadata": {},
   "outputs": [],
   "source": [
    "from scipy.stats import poisson"
   ]
  },
  {
   "cell_type": "code",
   "execution_count": 51,
   "metadata": {},
   "outputs": [
    {
     "data": {
      "text/plain": [
       "[Text(0, 0.5, 'Frekans'), Text(0.5, 0, 'Poisson')]"
      ]
     },
     "execution_count": 51,
     "metadata": {},
     "output_type": "execute_result"
    },
    {
     "data": {
      "image/png": "[encoded data removed]",
      "text/plain": [
       "<Figure size 432x288 with 1 Axes>"
      ]
     },
     "metadata": {
      "needs_background": "light"
     },
     "output_type": "display_data"
    }
   ],
   "source": [
    "# poisson dağılımı\n",
    "\n",
    "veri_poisson = poisson.rvs(mu=10, size=10000)\n",
    "\n",
    "ax = sns.distplot(veri_poisson,\n",
    "                  kde=False,\n",
    "                  color='green',\n",
    "                  hist_kws={\"linewidth\": 15,'alpha':1})\n",
    "\n",
    "ax.set(xlabel='Poisson', ylabel='Frekans')"
   ]
  },
  {
   "cell_type": "code",
   "execution_count": 52,
   "metadata": {},
   "outputs": [
    {
     "data": {
      "text/plain": [
       "[<matplotlib.lines.Line2D at 0x1911f822b00>]"
      ]
     },
     "execution_count": 52,
     "metadata": {},
     "output_type": "execute_result"
    },
    {
     "data": {
      "image/png": "[encoded data removed]",
      "text/plain": [
       "<Figure size 432x288 with 1 Axes>"
      ]
     },
     "metadata": {
      "needs_background": "light"
     },
     "output_type": "display_data"
    }
   ],
   "source": [
    "# poisson'un pmf'i\n",
    "k = np.arange(40)\n",
    "ps = stats.poisson(10)\n",
    "plot(k, ps.pmf(k), 'x-')"
   ]
  },
  {
   "cell_type": "code",
   "execution_count": 53,
   "metadata": {},
   "outputs": [
    {
     "data": {
      "text/plain": [
       "0.00306566200976202"
      ]
     },
     "execution_count": 53,
     "metadata": {},
     "output_type": "execute_result"
    }
   ],
   "source": [
    "# poisson pmf\n",
    "n = 100\n",
    "k = 5\n",
    "p = 0.01\n",
    "lambda_ = n*p\n",
    "rv = stats.poisson(mu = lambda_)\n",
    "rv.pmf(k)"
   ]
  },
  {
   "cell_type": "code",
   "execution_count": 54,
   "metadata": {},
   "outputs": [],
   "source": [
    "from scipy.stats import norm"
   ]
  },
  {
   "cell_type": "code",
   "execution_count": 55,
   "metadata": {},
   "outputs": [
    {
     "data": {
      "text/plain": [
       "[Text(0, 0.5, 'Frekans'), Text(0.5, 0, 'Normal')]"
      ]
     },
     "execution_count": 55,
     "metadata": {},
     "output_type": "execute_result"
    },
    {
     "data": {
      "image/png": "[encoded data removed]",
      "text/plain": [
       "<Figure size 432x288 with 1 Axes>"
      ]
     },
     "metadata": {
      "needs_background": "light"
     },
     "output_type": "display_data"
    }
   ],
   "source": [
    "# normal dağılım \n",
    "veri_normal = norm.rvs(size=10000,loc=0,scale=1)\n",
    "\n",
    "ax = sns.distplot(veri_normal,\n",
    "                  bins=100,\n",
    "                  kde=False,\n",
    "                  color='orange',\n",
    "                  hist_kws={\"linewidth\": 15,'alpha':1})\n",
    "\n",
    "ax.set(xlabel='Normal', ylabel='Frekans')"
   ]
  },
  {
   "cell_type": "code",
   "execution_count": 56,
   "metadata": {},
   "outputs": [
    {
     "data": {
      "text/plain": [
       "[<matplotlib.lines.Line2D at 0x1911fa036a0>]"
      ]
     },
     "execution_count": 56,
     "metadata": {},
     "output_type": "execute_result"
    },
    {
     "data": {
      "image/png": "[encoded data removed]",
      "text/plain": [
       "<Figure size 432x288 with 1 Axes>"
      ]
     },
     "metadata": {
      "needs_background": "light"
     },
     "output_type": "display_data"
    }
   ],
   "source": [
    "# normal dağılım pdf\n",
    "k = np.linspace(-10,10)\n",
    "pd = stats.norm(0,1)\n",
    "plot(k, pd.pdf(k))"
   ]
  },
  {
   "cell_type": "code",
   "execution_count": 57,
   "metadata": {},
   "outputs": [
    {
     "data": {
      "text/plain": [
       "[<matplotlib.lines.Line2D at 0x1911f53b828>]"
      ]
     },
     "execution_count": 57,
     "metadata": {},
     "output_type": "execute_result"
    },
    {
     "data": {
      "image/png": "[encoded data removed]",
      "text/plain": [
       "<Figure size 432x288 with 1 Axes>"
      ]
     },
     "metadata": {
      "needs_background": "light"
     },
     "output_type": "display_data"
    }
   ],
   "source": [
    "# 3 farklı normal dağılımın pdf'leri\n",
    "nm1 = stats.norm(20,5)\n",
    "nm2 = stats.norm(10, 2)\n",
    "nm3 = stats.norm(30, 7)\n",
    "k = np.arange(40)\n",
    "plot(k, nm1.pdf(k), 'o-b')\n",
    "plot(k, nm2.pdf(k), 'd-r')\n",
    "plot(k, nm3.pdf(k), 's-g')"
   ]
  },
  {
   "cell_type": "code",
   "execution_count": 58,
   "metadata": {},
   "outputs": [
    {
     "data": {
      "text/plain": [
       "0.19947114020071635"
      ]
     },
     "execution_count": 58,
     "metadata": {},
     "output_type": "execute_result"
    }
   ],
   "source": [
    "# pdf'den değer bulunması\n",
    "rv = stats.norm(10,2)\n",
    "rv.pdf(10)"
   ]
  },
  {
   "cell_type": "code",
   "execution_count": null,
   "metadata": {},
   "outputs": [],
   "source": []
  },
  {
   "cell_type": "code",
   "execution_count": null,
   "metadata": {},
   "outputs": [],
   "source": []
  }
 ],
 "metadata": {
  "kernelspec": {
   "display_name": "Python 3",
   "language": "python",
   "name": "python3"
  },
  "language_info": {
   "codemirror_mode": {
    "name": "ipython",
    "version": 3
   },
   "file_extension": ".py",
   "mimetype": "text/x-python",
   "name": "python",
   "nbconvert_exporter": "python",
   "pygments_lexer": "ipython3",
   "version": "3.7.3"
  }
 },
 "nbformat": 4,
 "nbformat_minor": 2
}
